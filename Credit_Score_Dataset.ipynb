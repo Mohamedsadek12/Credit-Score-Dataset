{
  "nbformat": 4,
  "nbformat_minor": 0,
  "metadata": {
    "colab": {
      "provenance": [],
      "collapsed_sections": [
        "9_G_hGWM-Hnn"
      ]
    },
    "kernelspec": {
      "name": "python3",
      "display_name": "Python 3"
    },
    "language_info": {
      "name": "python"
    }
  },
  "cells": [
    {
      "cell_type": "code",
      "execution_count": 2181,
      "metadata": {
        "id": "OTf_Oz6szrql"
      },
      "outputs": [],
      "source": [
        "import pandas as pd\n",
        "import numpy as np\n",
        "import matplotlib.pyplot as plt\n",
        "import seaborn as sns\n",
        "\n",
        "from sklearn.model_selection import train_test_split\n",
        "from sklearn.preprocessing import LabelEncoder, StandardScaler\n",
        "from sklearn.metrics import classification_report, confusion_matrix\n",
        "from sklearn.ensemble import RandomForestClassifier\n",
        "from sklearn.preprocessing import MultiLabelBinarizer"
      ]
    },
    {
      "cell_type": "code",
      "source": [
        "df = pd.read_csv(\"train.csv\")"
      ],
      "metadata": {
        "id": "ryPkzuYG1or3",
        "colab": {
          "base_uri": "https://localhost:8080/"
        },
        "outputId": "b084d628-0f41-404c-e027-71bce24c00dd"
      },
      "execution_count": 2182,
      "outputs": [
        {
          "output_type": "stream",
          "name": "stderr",
          "text": [
            "/tmp/ipython-input-2292805398.py:1: DtypeWarning: Columns (26) have mixed types. Specify dtype option on import or set low_memory=False.\n",
            "  df = pd.read_csv(\"train.csv\")\n"
          ]
        }
      ]
    },
    {
      "cell_type": "markdown",
      "source": [
        "# Preprocessing"
      ],
      "metadata": {
        "id": "9_G_hGWM-Hnn"
      }
    },
    {
      "cell_type": "code",
      "source": [
        "df.shape"
      ],
      "metadata": {
        "colab": {
          "base_uri": "https://localhost:8080/"
        },
        "id": "GTydcPbNHEwE",
        "outputId": "4ec4d738-03d1-4c3c-81bc-63cd34819e43"
      },
      "execution_count": 2183,
      "outputs": [
        {
          "output_type": "execute_result",
          "data": {
            "text/plain": [
              "(100000, 28)"
            ]
          },
          "metadata": {},
          "execution_count": 2183
        }
      ]
    },
    {
      "cell_type": "code",
      "source": [
        "df.head()"
      ],
      "metadata": {
        "colab": {
          "base_uri": "https://localhost:8080/",
          "height": 429
        },
        "id": "unA9vL5i140D",
        "outputId": "ae162db6-40c6-4572-8135-a774471f25ec"
      },
      "execution_count": 2184,
      "outputs": [
        {
          "output_type": "execute_result",
          "data": {
            "text/plain": [
              "       ID Customer_ID     Month           Name   Age          SSN Occupation  \\\n",
              "0  0x1602   CUS_0xd40   January  Aaron Maashoh    23  821-00-0265  Scientist   \n",
              "1  0x1603   CUS_0xd40  February  Aaron Maashoh    23  821-00-0265  Scientist   \n",
              "2  0x1604   CUS_0xd40     March  Aaron Maashoh  -500  821-00-0265  Scientist   \n",
              "3  0x1605   CUS_0xd40     April  Aaron Maashoh    23  821-00-0265  Scientist   \n",
              "4  0x1606   CUS_0xd40       May  Aaron Maashoh    23  821-00-0265  Scientist   \n",
              "\n",
              "  Annual_Income  Monthly_Inhand_Salary  Num_Bank_Accounts  ...  Credit_Mix  \\\n",
              "0      19114.12            1824.843333                  3  ...           _   \n",
              "1      19114.12                    NaN                  3  ...        Good   \n",
              "2      19114.12                    NaN                  3  ...        Good   \n",
              "3      19114.12                    NaN                  3  ...        Good   \n",
              "4      19114.12            1824.843333                  3  ...        Good   \n",
              "\n",
              "   Outstanding_Debt Credit_Utilization_Ratio     Credit_History_Age  \\\n",
              "0            809.98                26.822620  22 Years and 1 Months   \n",
              "1            809.98                31.944960                    NaN   \n",
              "2            809.98                28.609352  22 Years and 3 Months   \n",
              "3            809.98                31.377862  22 Years and 4 Months   \n",
              "4            809.98                24.797347  22 Years and 5 Months   \n",
              "\n",
              "   Payment_of_Min_Amount Total_EMI_per_month Amount_invested_monthly  \\\n",
              "0                     No           49.574949       80.41529543900253   \n",
              "1                     No           49.574949      118.28022162236736   \n",
              "2                     No           49.574949         81.699521264648   \n",
              "3                     No           49.574949       199.4580743910713   \n",
              "4                     No           49.574949      41.420153086217326   \n",
              "\n",
              "                  Payment_Behaviour     Monthly_Balance Credit_Score  \n",
              "0   High_spent_Small_value_payments  312.49408867943663         Good  \n",
              "1    Low_spent_Large_value_payments  284.62916249607184         Good  \n",
              "2   Low_spent_Medium_value_payments   331.2098628537912         Good  \n",
              "3    Low_spent_Small_value_payments  223.45130972736786         Good  \n",
              "4  High_spent_Medium_value_payments  341.48923103222177         Good  \n",
              "\n",
              "[5 rows x 28 columns]"
            ],
            "text/html": [
              "\n",
              "  <div id=\"df-f8e678d9-2a20-40cb-a43f-cc0348d60d94\" class=\"colab-df-container\">\n",
              "    <div>\n",
              "<style scoped>\n",
              "    .dataframe tbody tr th:only-of-type {\n",
              "        vertical-align: middle;\n",
              "    }\n",
              "\n",
              "    .dataframe tbody tr th {\n",
              "        vertical-align: top;\n",
              "    }\n",
              "\n",
              "    .dataframe thead th {\n",
              "        text-align: right;\n",
              "    }\n",
              "</style>\n",
              "<table border=\"1\" class=\"dataframe\">\n",
              "  <thead>\n",
              "    <tr style=\"text-align: right;\">\n",
              "      <th></th>\n",
              "      <th>ID</th>\n",
              "      <th>Customer_ID</th>\n",
              "      <th>Month</th>\n",
              "      <th>Name</th>\n",
              "      <th>Age</th>\n",
              "      <th>SSN</th>\n",
              "      <th>Occupation</th>\n",
              "      <th>Annual_Income</th>\n",
              "      <th>Monthly_Inhand_Salary</th>\n",
              "      <th>Num_Bank_Accounts</th>\n",
              "      <th>...</th>\n",
              "      <th>Credit_Mix</th>\n",
              "      <th>Outstanding_Debt</th>\n",
              "      <th>Credit_Utilization_Ratio</th>\n",
              "      <th>Credit_History_Age</th>\n",
              "      <th>Payment_of_Min_Amount</th>\n",
              "      <th>Total_EMI_per_month</th>\n",
              "      <th>Amount_invested_monthly</th>\n",
              "      <th>Payment_Behaviour</th>\n",
              "      <th>Monthly_Balance</th>\n",
              "      <th>Credit_Score</th>\n",
              "    </tr>\n",
              "  </thead>\n",
              "  <tbody>\n",
              "    <tr>\n",
              "      <th>0</th>\n",
              "      <td>0x1602</td>\n",
              "      <td>CUS_0xd40</td>\n",
              "      <td>January</td>\n",
              "      <td>Aaron Maashoh</td>\n",
              "      <td>23</td>\n",
              "      <td>821-00-0265</td>\n",
              "      <td>Scientist</td>\n",
              "      <td>19114.12</td>\n",
              "      <td>1824.843333</td>\n",
              "      <td>3</td>\n",
              "      <td>...</td>\n",
              "      <td>_</td>\n",
              "      <td>809.98</td>\n",
              "      <td>26.822620</td>\n",
              "      <td>22 Years and 1 Months</td>\n",
              "      <td>No</td>\n",
              "      <td>49.574949</td>\n",
              "      <td>80.41529543900253</td>\n",
              "      <td>High_spent_Small_value_payments</td>\n",
              "      <td>312.49408867943663</td>\n",
              "      <td>Good</td>\n",
              "    </tr>\n",
              "    <tr>\n",
              "      <th>1</th>\n",
              "      <td>0x1603</td>\n",
              "      <td>CUS_0xd40</td>\n",
              "      <td>February</td>\n",
              "      <td>Aaron Maashoh</td>\n",
              "      <td>23</td>\n",
              "      <td>821-00-0265</td>\n",
              "      <td>Scientist</td>\n",
              "      <td>19114.12</td>\n",
              "      <td>NaN</td>\n",
              "      <td>3</td>\n",
              "      <td>...</td>\n",
              "      <td>Good</td>\n",
              "      <td>809.98</td>\n",
              "      <td>31.944960</td>\n",
              "      <td>NaN</td>\n",
              "      <td>No</td>\n",
              "      <td>49.574949</td>\n",
              "      <td>118.28022162236736</td>\n",
              "      <td>Low_spent_Large_value_payments</td>\n",
              "      <td>284.62916249607184</td>\n",
              "      <td>Good</td>\n",
              "    </tr>\n",
              "    <tr>\n",
              "      <th>2</th>\n",
              "      <td>0x1604</td>\n",
              "      <td>CUS_0xd40</td>\n",
              "      <td>March</td>\n",
              "      <td>Aaron Maashoh</td>\n",
              "      <td>-500</td>\n",
              "      <td>821-00-0265</td>\n",
              "      <td>Scientist</td>\n",
              "      <td>19114.12</td>\n",
              "      <td>NaN</td>\n",
              "      <td>3</td>\n",
              "      <td>...</td>\n",
              "      <td>Good</td>\n",
              "      <td>809.98</td>\n",
              "      <td>28.609352</td>\n",
              "      <td>22 Years and 3 Months</td>\n",
              "      <td>No</td>\n",
              "      <td>49.574949</td>\n",
              "      <td>81.699521264648</td>\n",
              "      <td>Low_spent_Medium_value_payments</td>\n",
              "      <td>331.2098628537912</td>\n",
              "      <td>Good</td>\n",
              "    </tr>\n",
              "    <tr>\n",
              "      <th>3</th>\n",
              "      <td>0x1605</td>\n",
              "      <td>CUS_0xd40</td>\n",
              "      <td>April</td>\n",
              "      <td>Aaron Maashoh</td>\n",
              "      <td>23</td>\n",
              "      <td>821-00-0265</td>\n",
              "      <td>Scientist</td>\n",
              "      <td>19114.12</td>\n",
              "      <td>NaN</td>\n",
              "      <td>3</td>\n",
              "      <td>...</td>\n",
              "      <td>Good</td>\n",
              "      <td>809.98</td>\n",
              "      <td>31.377862</td>\n",
              "      <td>22 Years and 4 Months</td>\n",
              "      <td>No</td>\n",
              "      <td>49.574949</td>\n",
              "      <td>199.4580743910713</td>\n",
              "      <td>Low_spent_Small_value_payments</td>\n",
              "      <td>223.45130972736786</td>\n",
              "      <td>Good</td>\n",
              "    </tr>\n",
              "    <tr>\n",
              "      <th>4</th>\n",
              "      <td>0x1606</td>\n",
              "      <td>CUS_0xd40</td>\n",
              "      <td>May</td>\n",
              "      <td>Aaron Maashoh</td>\n",
              "      <td>23</td>\n",
              "      <td>821-00-0265</td>\n",
              "      <td>Scientist</td>\n",
              "      <td>19114.12</td>\n",
              "      <td>1824.843333</td>\n",
              "      <td>3</td>\n",
              "      <td>...</td>\n",
              "      <td>Good</td>\n",
              "      <td>809.98</td>\n",
              "      <td>24.797347</td>\n",
              "      <td>22 Years and 5 Months</td>\n",
              "      <td>No</td>\n",
              "      <td>49.574949</td>\n",
              "      <td>41.420153086217326</td>\n",
              "      <td>High_spent_Medium_value_payments</td>\n",
              "      <td>341.48923103222177</td>\n",
              "      <td>Good</td>\n",
              "    </tr>\n",
              "  </tbody>\n",
              "</table>\n",
              "<p>5 rows × 28 columns</p>\n",
              "</div>\n",
              "    <div class=\"colab-df-buttons\">\n",
              "\n",
              "  <div class=\"colab-df-container\">\n",
              "    <button class=\"colab-df-convert\" onclick=\"convertToInteractive('df-f8e678d9-2a20-40cb-a43f-cc0348d60d94')\"\n",
              "            title=\"Convert this dataframe to an interactive table.\"\n",
              "            style=\"display:none;\">\n",
              "\n",
              "  <svg xmlns=\"http://www.w3.org/2000/svg\" height=\"24px\" viewBox=\"0 -960 960 960\">\n",
              "    <path d=\"M120-120v-720h720v720H120Zm60-500h600v-160H180v160Zm220 220h160v-160H400v160Zm0 220h160v-160H400v160ZM180-400h160v-160H180v160Zm440 0h160v-160H620v160ZM180-180h160v-160H180v160Zm440 0h160v-160H620v160Z\"/>\n",
              "  </svg>\n",
              "    </button>\n",
              "\n",
              "  <style>\n",
              "    .colab-df-container {\n",
              "      display:flex;\n",
              "      gap: 12px;\n",
              "    }\n",
              "\n",
              "    .colab-df-convert {\n",
              "      background-color: #E8F0FE;\n",
              "      border: none;\n",
              "      border-radius: 50%;\n",
              "      cursor: pointer;\n",
              "      display: none;\n",
              "      fill: #1967D2;\n",
              "      height: 32px;\n",
              "      padding: 0 0 0 0;\n",
              "      width: 32px;\n",
              "    }\n",
              "\n",
              "    .colab-df-convert:hover {\n",
              "      background-color: #E2EBFA;\n",
              "      box-shadow: 0px 1px 2px rgba(60, 64, 67, 0.3), 0px 1px 3px 1px rgba(60, 64, 67, 0.15);\n",
              "      fill: #174EA6;\n",
              "    }\n",
              "\n",
              "    .colab-df-buttons div {\n",
              "      margin-bottom: 4px;\n",
              "    }\n",
              "\n",
              "    [theme=dark] .colab-df-convert {\n",
              "      background-color: #3B4455;\n",
              "      fill: #D2E3FC;\n",
              "    }\n",
              "\n",
              "    [theme=dark] .colab-df-convert:hover {\n",
              "      background-color: #434B5C;\n",
              "      box-shadow: 0px 1px 3px 1px rgba(0, 0, 0, 0.15);\n",
              "      filter: drop-shadow(0px 1px 2px rgba(0, 0, 0, 0.3));\n",
              "      fill: #FFFFFF;\n",
              "    }\n",
              "  </style>\n",
              "\n",
              "    <script>\n",
              "      const buttonEl =\n",
              "        document.querySelector('#df-f8e678d9-2a20-40cb-a43f-cc0348d60d94 button.colab-df-convert');\n",
              "      buttonEl.style.display =\n",
              "        google.colab.kernel.accessAllowed ? 'block' : 'none';\n",
              "\n",
              "      async function convertToInteractive(key) {\n",
              "        const element = document.querySelector('#df-f8e678d9-2a20-40cb-a43f-cc0348d60d94');\n",
              "        const dataTable =\n",
              "          await google.colab.kernel.invokeFunction('convertToInteractive',\n",
              "                                                    [key], {});\n",
              "        if (!dataTable) return;\n",
              "\n",
              "        const docLinkHtml = 'Like what you see? Visit the ' +\n",
              "          '<a target=\"_blank\" href=https://colab.research.google.com/notebooks/data_table.ipynb>data table notebook</a>'\n",
              "          + ' to learn more about interactive tables.';\n",
              "        element.innerHTML = '';\n",
              "        dataTable['output_type'] = 'display_data';\n",
              "        await google.colab.output.renderOutput(dataTable, element);\n",
              "        const docLink = document.createElement('div');\n",
              "        docLink.innerHTML = docLinkHtml;\n",
              "        element.appendChild(docLink);\n",
              "      }\n",
              "    </script>\n",
              "  </div>\n",
              "\n",
              "\n",
              "    <div id=\"df-948e0db6-520a-4f1b-8cae-457b71c5baae\">\n",
              "      <button class=\"colab-df-quickchart\" onclick=\"quickchart('df-948e0db6-520a-4f1b-8cae-457b71c5baae')\"\n",
              "                title=\"Suggest charts\"\n",
              "                style=\"display:none;\">\n",
              "\n",
              "<svg xmlns=\"http://www.w3.org/2000/svg\" height=\"24px\"viewBox=\"0 0 24 24\"\n",
              "     width=\"24px\">\n",
              "    <g>\n",
              "        <path d=\"M19 3H5c-1.1 0-2 .9-2 2v14c0 1.1.9 2 2 2h14c1.1 0 2-.9 2-2V5c0-1.1-.9-2-2-2zM9 17H7v-7h2v7zm4 0h-2V7h2v10zm4 0h-2v-4h2v4z\"/>\n",
              "    </g>\n",
              "</svg>\n",
              "      </button>\n",
              "\n",
              "<style>\n",
              "  .colab-df-quickchart {\n",
              "      --bg-color: #E8F0FE;\n",
              "      --fill-color: #1967D2;\n",
              "      --hover-bg-color: #E2EBFA;\n",
              "      --hover-fill-color: #174EA6;\n",
              "      --disabled-fill-color: #AAA;\n",
              "      --disabled-bg-color: #DDD;\n",
              "  }\n",
              "\n",
              "  [theme=dark] .colab-df-quickchart {\n",
              "      --bg-color: #3B4455;\n",
              "      --fill-color: #D2E3FC;\n",
              "      --hover-bg-color: #434B5C;\n",
              "      --hover-fill-color: #FFFFFF;\n",
              "      --disabled-bg-color: #3B4455;\n",
              "      --disabled-fill-color: #666;\n",
              "  }\n",
              "\n",
              "  .colab-df-quickchart {\n",
              "    background-color: var(--bg-color);\n",
              "    border: none;\n",
              "    border-radius: 50%;\n",
              "    cursor: pointer;\n",
              "    display: none;\n",
              "    fill: var(--fill-color);\n",
              "    height: 32px;\n",
              "    padding: 0;\n",
              "    width: 32px;\n",
              "  }\n",
              "\n",
              "  .colab-df-quickchart:hover {\n",
              "    background-color: var(--hover-bg-color);\n",
              "    box-shadow: 0 1px 2px rgba(60, 64, 67, 0.3), 0 1px 3px 1px rgba(60, 64, 67, 0.15);\n",
              "    fill: var(--button-hover-fill-color);\n",
              "  }\n",
              "\n",
              "  .colab-df-quickchart-complete:disabled,\n",
              "  .colab-df-quickchart-complete:disabled:hover {\n",
              "    background-color: var(--disabled-bg-color);\n",
              "    fill: var(--disabled-fill-color);\n",
              "    box-shadow: none;\n",
              "  }\n",
              "\n",
              "  .colab-df-spinner {\n",
              "    border: 2px solid var(--fill-color);\n",
              "    border-color: transparent;\n",
              "    border-bottom-color: var(--fill-color);\n",
              "    animation:\n",
              "      spin 1s steps(1) infinite;\n",
              "  }\n",
              "\n",
              "  @keyframes spin {\n",
              "    0% {\n",
              "      border-color: transparent;\n",
              "      border-bottom-color: var(--fill-color);\n",
              "      border-left-color: var(--fill-color);\n",
              "    }\n",
              "    20% {\n",
              "      border-color: transparent;\n",
              "      border-left-color: var(--fill-color);\n",
              "      border-top-color: var(--fill-color);\n",
              "    }\n",
              "    30% {\n",
              "      border-color: transparent;\n",
              "      border-left-color: var(--fill-color);\n",
              "      border-top-color: var(--fill-color);\n",
              "      border-right-color: var(--fill-color);\n",
              "    }\n",
              "    40% {\n",
              "      border-color: transparent;\n",
              "      border-right-color: var(--fill-color);\n",
              "      border-top-color: var(--fill-color);\n",
              "    }\n",
              "    60% {\n",
              "      border-color: transparent;\n",
              "      border-right-color: var(--fill-color);\n",
              "    }\n",
              "    80% {\n",
              "      border-color: transparent;\n",
              "      border-right-color: var(--fill-color);\n",
              "      border-bottom-color: var(--fill-color);\n",
              "    }\n",
              "    90% {\n",
              "      border-color: transparent;\n",
              "      border-bottom-color: var(--fill-color);\n",
              "    }\n",
              "  }\n",
              "</style>\n",
              "\n",
              "      <script>\n",
              "        async function quickchart(key) {\n",
              "          const quickchartButtonEl =\n",
              "            document.querySelector('#' + key + ' button');\n",
              "          quickchartButtonEl.disabled = true;  // To prevent multiple clicks.\n",
              "          quickchartButtonEl.classList.add('colab-df-spinner');\n",
              "          try {\n",
              "            const charts = await google.colab.kernel.invokeFunction(\n",
              "                'suggestCharts', [key], {});\n",
              "          } catch (error) {\n",
              "            console.error('Error during call to suggestCharts:', error);\n",
              "          }\n",
              "          quickchartButtonEl.classList.remove('colab-df-spinner');\n",
              "          quickchartButtonEl.classList.add('colab-df-quickchart-complete');\n",
              "        }\n",
              "        (() => {\n",
              "          let quickchartButtonEl =\n",
              "            document.querySelector('#df-948e0db6-520a-4f1b-8cae-457b71c5baae button');\n",
              "          quickchartButtonEl.style.display =\n",
              "            google.colab.kernel.accessAllowed ? 'block' : 'none';\n",
              "        })();\n",
              "      </script>\n",
              "    </div>\n",
              "\n",
              "    </div>\n",
              "  </div>\n"
            ],
            "application/vnd.google.colaboratory.intrinsic+json": {
              "type": "dataframe",
              "variable_name": "df"
            }
          },
          "metadata": {},
          "execution_count": 2184
        }
      ]
    },
    {
      "cell_type": "code",
      "source": [
        "df.info()"
      ],
      "metadata": {
        "colab": {
          "base_uri": "https://localhost:8080/"
        },
        "id": "EviIPUmc1_or",
        "outputId": "94a3a275-6854-4e5c-a81e-8799c8e1c85e"
      },
      "execution_count": 2185,
      "outputs": [
        {
          "output_type": "stream",
          "name": "stdout",
          "text": [
            "<class 'pandas.core.frame.DataFrame'>\n",
            "RangeIndex: 100000 entries, 0 to 99999\n",
            "Data columns (total 28 columns):\n",
            " #   Column                    Non-Null Count   Dtype  \n",
            "---  ------                    --------------   -----  \n",
            " 0   ID                        100000 non-null  object \n",
            " 1   Customer_ID               100000 non-null  object \n",
            " 2   Month                     100000 non-null  object \n",
            " 3   Name                      90015 non-null   object \n",
            " 4   Age                       100000 non-null  object \n",
            " 5   SSN                       100000 non-null  object \n",
            " 6   Occupation                100000 non-null  object \n",
            " 7   Annual_Income             100000 non-null  object \n",
            " 8   Monthly_Inhand_Salary     84998 non-null   float64\n",
            " 9   Num_Bank_Accounts         100000 non-null  int64  \n",
            " 10  Num_Credit_Card           100000 non-null  int64  \n",
            " 11  Interest_Rate             100000 non-null  int64  \n",
            " 12  Num_of_Loan               100000 non-null  object \n",
            " 13  Type_of_Loan              88592 non-null   object \n",
            " 14  Delay_from_due_date       100000 non-null  int64  \n",
            " 15  Num_of_Delayed_Payment    92998 non-null   object \n",
            " 16  Changed_Credit_Limit      100000 non-null  object \n",
            " 17  Num_Credit_Inquiries      98035 non-null   float64\n",
            " 18  Credit_Mix                100000 non-null  object \n",
            " 19  Outstanding_Debt          100000 non-null  object \n",
            " 20  Credit_Utilization_Ratio  100000 non-null  float64\n",
            " 21  Credit_History_Age        90970 non-null   object \n",
            " 22  Payment_of_Min_Amount     100000 non-null  object \n",
            " 23  Total_EMI_per_month       100000 non-null  float64\n",
            " 24  Amount_invested_monthly   95521 non-null   object \n",
            " 25  Payment_Behaviour         100000 non-null  object \n",
            " 26  Monthly_Balance           98800 non-null   object \n",
            " 27  Credit_Score              100000 non-null  object \n",
            "dtypes: float64(4), int64(4), object(20)\n",
            "memory usage: 21.4+ MB\n"
          ]
        }
      ]
    },
    {
      "cell_type": "code",
      "source": [
        "df = df.drop(columns=['ID', 'Month', 'Name', 'SSN'])"
      ],
      "metadata": {
        "id": "J-h8j3962TuO"
      },
      "execution_count": 2186,
      "outputs": []
    },
    {
      "cell_type": "code",
      "source": [
        "clos_to_covert = ['Annual_Income', 'Monthly_Inhand_Salary', 'Outstanding_Debt',\n",
        "                'Credit_Utilization_Ratio', 'Total_EMI_per_month', 'Amount_invested_monthly',\n",
        "                'Changed_Credit_Limit', 'Monthly_Balance', \"Num_of_Loan\", \"Num_of_Delayed_Payment\"]\n",
        "\n",
        "for col in clos_to_covert:\n",
        "        df[col] = df[col].astype(str).str.replace(r\"[^0-9.]\", \"\", regex=True)\n",
        "        df[col] = pd.to_numeric(df[col], errors=\"coerce\")"
      ],
      "metadata": {
        "id": "IZeYGAF44vOe"
      },
      "execution_count": 2228,
      "outputs": []
    },
    {
      "cell_type": "code",
      "source": [
        "df[\"Age\"] = df[\"Age\"].astype(str).str.replace(r\"[^0-9]\", \"\", regex=True)\n",
        "df[\"Age\"] = pd.to_numeric(df[\"Age\"], errors=\"coerce\")"
      ],
      "metadata": {
        "id": "e-ZBJMoZJG7w"
      },
      "execution_count": 2188,
      "outputs": []
    },
    {
      "cell_type": "code",
      "source": [
        "median_age = df.loc[(df[\"Age\"] >= 18) & (df[\"Age\"] <= 90), \"Age\"].median()\n",
        "df.loc[(df[\"Age\"] < 18) | (df[\"Age\"] > 90), \"Age\"] = median_age"
      ],
      "metadata": {
        "id": "3ULFxM4dB5lj"
      },
      "execution_count": 2189,
      "outputs": []
    },
    {
      "cell_type": "code",
      "source": [
        "df[\"Age\"].unique()"
      ],
      "metadata": {
        "colab": {
          "base_uri": "https://localhost:8080/"
        },
        "id": "PpF08t66CugR",
        "outputId": "31c0b174-a76a-4e13-dfa3-1fe035eae7f1"
      },
      "execution_count": 2190,
      "outputs": [
        {
          "output_type": "execute_result",
          "data": {
            "text/plain": [
              "array([23, 34, 28, 54, 55, 21, 31, 33, 30, 24, 44, 45, 40, 41, 32, 35, 36,\n",
              "       39, 37, 20, 46, 26, 42, 19, 48, 38, 43, 22, 18, 27, 25, 47, 53, 56,\n",
              "       29, 49, 51, 50, 52])"
            ]
          },
          "metadata": {},
          "execution_count": 2190
        }
      ]
    },
    {
      "cell_type": "code",
      "source": [
        "df[\"Occupation\"].unique()"
      ],
      "metadata": {
        "colab": {
          "base_uri": "https://localhost:8080/"
        },
        "id": "P_5rynHXKZtd",
        "outputId": "df8babcb-5dea-4c1a-8c9e-2a91a363bceb"
      },
      "execution_count": 2191,
      "outputs": [
        {
          "output_type": "execute_result",
          "data": {
            "text/plain": [
              "array(['Scientist', '_______', 'Teacher', 'Engineer', 'Entrepreneur',\n",
              "       'Developer', 'Lawyer', 'Media_Manager', 'Doctor', 'Journalist',\n",
              "       'Manager', 'Accountant', 'Musician', 'Mechanic', 'Writer',\n",
              "       'Architect'], dtype=object)"
            ]
          },
          "metadata": {},
          "execution_count": 2191
        }
      ]
    },
    {
      "cell_type": "code",
      "source": [
        "df[\"Occupation\"] = df[\"Occupation\"].replace([\"_______\"], np.nan)"
      ],
      "metadata": {
        "id": "01oXWCBsF6p3"
      },
      "execution_count": 2192,
      "outputs": []
    },
    {
      "cell_type": "code",
      "source": [
        "df[\"Occupation\"].isna().sum()"
      ],
      "metadata": {
        "colab": {
          "base_uri": "https://localhost:8080/"
        },
        "id": "ugF-9WaeJrm6",
        "outputId": "36f31a5e-2220-419d-8fa0-ac6bc6d228b4"
      },
      "execution_count": 2193,
      "outputs": [
        {
          "output_type": "execute_result",
          "data": {
            "text/plain": [
              "np.int64(7062)"
            ]
          },
          "metadata": {},
          "execution_count": 2193
        }
      ]
    },
    {
      "cell_type": "code",
      "source": [
        "df[\"Occupation\"] = df[\"Occupation\"].fillna(df[\"Occupation\"].mode()[0])"
      ],
      "metadata": {
        "id": "QELw_tmQKvaT"
      },
      "execution_count": 2194,
      "outputs": []
    },
    {
      "cell_type": "code",
      "source": [
        "df[\"Occupation\"].isna().sum()"
      ],
      "metadata": {
        "colab": {
          "base_uri": "https://localhost:8080/"
        },
        "id": "Z_8dORwPKICf",
        "outputId": "bdccb17c-722b-4136-8628-5d99ed3bbe29"
      },
      "execution_count": 2195,
      "outputs": [
        {
          "output_type": "execute_result",
          "data": {
            "text/plain": [
              "np.int64(0)"
            ]
          },
          "metadata": {},
          "execution_count": 2195
        }
      ]
    },
    {
      "cell_type": "code",
      "source": [
        "freq_map = df[\"Occupation\"].value_counts().to_dict()\n",
        "df[\"Occupation\"] = df[\"Occupation\"].map(freq_map)"
      ],
      "metadata": {
        "id": "zWssaLgTLX4W"
      },
      "execution_count": 2196,
      "outputs": []
    },
    {
      "cell_type": "code",
      "source": [
        "df.info()"
      ],
      "metadata": {
        "colab": {
          "base_uri": "https://localhost:8080/"
        },
        "id": "OWDw0SGt4MnT",
        "outputId": "617dbbea-2744-43b7-e403-ac87bb1df5e9"
      },
      "execution_count": 2197,
      "outputs": [
        {
          "output_type": "stream",
          "name": "stdout",
          "text": [
            "<class 'pandas.core.frame.DataFrame'>\n",
            "RangeIndex: 100000 entries, 0 to 99999\n",
            "Data columns (total 24 columns):\n",
            " #   Column                    Non-Null Count   Dtype  \n",
            "---  ------                    --------------   -----  \n",
            " 0   Customer_ID               100000 non-null  object \n",
            " 1   Age                       100000 non-null  int64  \n",
            " 2   Occupation                100000 non-null  int64  \n",
            " 3   Annual_Income             100000 non-null  float64\n",
            " 4   Monthly_Inhand_Salary     84998 non-null   float64\n",
            " 5   Num_Bank_Accounts         100000 non-null  int64  \n",
            " 6   Num_Credit_Card           100000 non-null  int64  \n",
            " 7   Interest_Rate             100000 non-null  int64  \n",
            " 8   Num_of_Loan               100000 non-null  int64  \n",
            " 9   Type_of_Loan              88592 non-null   object \n",
            " 10  Delay_from_due_date       100000 non-null  int64  \n",
            " 11  Num_of_Delayed_Payment    92998 non-null   object \n",
            " 12  Changed_Credit_Limit      97909 non-null   float64\n",
            " 13  Num_Credit_Inquiries      98035 non-null   float64\n",
            " 14  Credit_Mix                100000 non-null  object \n",
            " 15  Outstanding_Debt          100000 non-null  float64\n",
            " 16  Credit_Utilization_Ratio  100000 non-null  float64\n",
            " 17  Credit_History_Age        90970 non-null   object \n",
            " 18  Payment_of_Min_Amount     100000 non-null  object \n",
            " 19  Total_EMI_per_month       100000 non-null  float64\n",
            " 20  Amount_invested_monthly   95521 non-null   float64\n",
            " 21  Payment_Behaviour         100000 non-null  object \n",
            " 22  Monthly_Balance           98800 non-null   float64\n",
            " 23  Credit_Score              100000 non-null  object \n",
            "dtypes: float64(9), int64(7), object(8)\n",
            "memory usage: 18.3+ MB\n"
          ]
        }
      ]
    },
    {
      "cell_type": "code",
      "source": [
        "df[\"Annual_Income\"].isna().sum()"
      ],
      "metadata": {
        "colab": {
          "base_uri": "https://localhost:8080/"
        },
        "id": "z45YQ0elL04c",
        "outputId": "1a8259d3-f743-45e8-c183-c5cb067f0650"
      },
      "execution_count": 2198,
      "outputs": [
        {
          "output_type": "execute_result",
          "data": {
            "text/plain": [
              "np.int64(0)"
            ]
          },
          "metadata": {},
          "execution_count": 2198
        }
      ]
    },
    {
      "cell_type": "code",
      "source": [
        "df[\"Annual_Income\"] = df.groupby(\"Customer_ID\")[\"Annual_Income\"].transform(lambda x: x.fillna(x.median()))\n",
        "df[\"Annual_Income\"] = df[\"Annual_Income\"].fillna(df[\"Annual_Income\"].median())"
      ],
      "metadata": {
        "id": "D_d6uNsyRMBT"
      },
      "execution_count": 2199,
      "outputs": []
    },
    {
      "cell_type": "code",
      "source": [
        "df[\"Annual_Income\"].isna().sum()"
      ],
      "metadata": {
        "colab": {
          "base_uri": "https://localhost:8080/"
        },
        "id": "JhOB90UZRQMJ",
        "outputId": "433226d3-6709-46e2-fc80-73b67c24df73"
      },
      "execution_count": 2200,
      "outputs": [
        {
          "output_type": "execute_result",
          "data": {
            "text/plain": [
              "np.int64(0)"
            ]
          },
          "metadata": {},
          "execution_count": 2200
        }
      ]
    },
    {
      "cell_type": "code",
      "source": [
        "df[\"Monthly_Inhand_Salary\"].isna().sum()\n"
      ],
      "metadata": {
        "colab": {
          "base_uri": "https://localhost:8080/"
        },
        "id": "QDdWr14TL5Vt",
        "outputId": "e3645c72-8ff1-4afe-d72b-2dbbd85c2a83"
      },
      "execution_count": 2201,
      "outputs": [
        {
          "output_type": "execute_result",
          "data": {
            "text/plain": [
              "np.int64(15002)"
            ]
          },
          "metadata": {},
          "execution_count": 2201
        }
      ]
    },
    {
      "cell_type": "code",
      "source": [
        "df[\"Monthly_Inhand_Salary\"] = df.groupby(\"Customer_ID\")[\"Monthly_Inhand_Salary\"].transform(lambda x: x.fillna(x.median()))\n",
        "df[\"Monthly_Inhand_Salary\"] = df[\"Monthly_Inhand_Salary\"].fillna(df[\"Monthly_Inhand_Salary\"].median())"
      ],
      "metadata": {
        "id": "hXdklxKcNNHA"
      },
      "execution_count": 2202,
      "outputs": []
    },
    {
      "cell_type": "code",
      "source": [
        "df[\"Monthly_Inhand_Salary\"].isna().sum()"
      ],
      "metadata": {
        "colab": {
          "base_uri": "https://localhost:8080/"
        },
        "id": "JBiMrjMSO93V",
        "outputId": "2c8145d0-43e0-4dbd-cc61-203ad091d87e"
      },
      "execution_count": 2203,
      "outputs": [
        {
          "output_type": "execute_result",
          "data": {
            "text/plain": [
              "np.int64(0)"
            ]
          },
          "metadata": {},
          "execution_count": 2203
        }
      ]
    },
    {
      "cell_type": "code",
      "source": [
        "def convert_credit_history(x):\n",
        "    try:\n",
        "        parts = x.split()\n",
        "        years = int(parts[0])\n",
        "        months = int(parts[3])\n",
        "        return years * 12 + months\n",
        "    except:\n",
        "        return np.nan\n",
        "\n",
        "df[\"Credit_History_Age_Months\"] = df[\"Credit_History_Age\"].apply(convert_credit_history)\n",
        "df.drop('Credit_History_Age', axis=1, inplace=True)"
      ],
      "metadata": {
        "id": "KTlNx8OQGz20"
      },
      "execution_count": 2204,
      "outputs": []
    },
    {
      "cell_type": "code",
      "source": [
        "df['Credit_History_Age_Months'].isna().sum()"
      ],
      "metadata": {
        "colab": {
          "base_uri": "https://localhost:8080/"
        },
        "id": "hxJxlc8kKaVv",
        "outputId": "16b0d359-bb86-47f9-a4f0-1fc7cb63791f"
      },
      "execution_count": 2205,
      "outputs": [
        {
          "output_type": "execute_result",
          "data": {
            "text/plain": [
              "np.int64(9030)"
            ]
          },
          "metadata": {},
          "execution_count": 2205
        }
      ]
    },
    {
      "cell_type": "code",
      "source": [
        "df[\"Credit_History_Age_Months\"] = df[\"Credit_History_Age_Months\"].fillna(df[\"Credit_History_Age_Months\"].median())\n",
        "df[\"Credit_History_Age_Months\"] = df[\"Credit_History_Age_Months\"].astype(int)"
      ],
      "metadata": {
        "id": "Ww6Tr21cIpZk"
      },
      "execution_count": 2206,
      "outputs": []
    },
    {
      "cell_type": "code",
      "source": [
        "df['Credit_History_Age_Months'].isna().sum()"
      ],
      "metadata": {
        "colab": {
          "base_uri": "https://localhost:8080/"
        },
        "id": "rZBhRet6Knpc",
        "outputId": "e84f2787-66a5-4528-fd9d-93aacc62dc8b"
      },
      "execution_count": 2207,
      "outputs": [
        {
          "output_type": "execute_result",
          "data": {
            "text/plain": [
              "np.int64(0)"
            ]
          },
          "metadata": {},
          "execution_count": 2207
        }
      ]
    },
    {
      "cell_type": "code",
      "source": [
        "df.info()"
      ],
      "metadata": {
        "colab": {
          "base_uri": "https://localhost:8080/"
        },
        "id": "l9N6IivEYrXw",
        "outputId": "f2e2c78e-9092-493a-8091-6778e1353ff9"
      },
      "execution_count": 2208,
      "outputs": [
        {
          "output_type": "stream",
          "name": "stdout",
          "text": [
            "<class 'pandas.core.frame.DataFrame'>\n",
            "RangeIndex: 100000 entries, 0 to 99999\n",
            "Data columns (total 24 columns):\n",
            " #   Column                     Non-Null Count   Dtype  \n",
            "---  ------                     --------------   -----  \n",
            " 0   Customer_ID                100000 non-null  object \n",
            " 1   Age                        100000 non-null  int64  \n",
            " 2   Occupation                 100000 non-null  int64  \n",
            " 3   Annual_Income              100000 non-null  float64\n",
            " 4   Monthly_Inhand_Salary      100000 non-null  float64\n",
            " 5   Num_Bank_Accounts          100000 non-null  int64  \n",
            " 6   Num_Credit_Card            100000 non-null  int64  \n",
            " 7   Interest_Rate              100000 non-null  int64  \n",
            " 8   Num_of_Loan                100000 non-null  int64  \n",
            " 9   Type_of_Loan               88592 non-null   object \n",
            " 10  Delay_from_due_date        100000 non-null  int64  \n",
            " 11  Num_of_Delayed_Payment     92998 non-null   object \n",
            " 12  Changed_Credit_Limit       97909 non-null   float64\n",
            " 13  Num_Credit_Inquiries       98035 non-null   float64\n",
            " 14  Credit_Mix                 100000 non-null  object \n",
            " 15  Outstanding_Debt           100000 non-null  float64\n",
            " 16  Credit_Utilization_Ratio   100000 non-null  float64\n",
            " 17  Payment_of_Min_Amount      100000 non-null  object \n",
            " 18  Total_EMI_per_month        100000 non-null  float64\n",
            " 19  Amount_invested_monthly    95521 non-null   float64\n",
            " 20  Payment_Behaviour          100000 non-null  object \n",
            " 21  Monthly_Balance            98800 non-null   float64\n",
            " 22  Credit_Score               100000 non-null  object \n",
            " 23  Credit_History_Age_Months  100000 non-null  int64  \n",
            "dtypes: float64(9), int64(8), object(7)\n",
            "memory usage: 18.3+ MB\n"
          ]
        }
      ]
    },
    {
      "cell_type": "code",
      "source": [
        "for col in [\"Num_Bank_Accounts\", \"Num_Credit_Card\"]:\n",
        "    df[col] = df[col].astype(str).str.replace(r\"[^0-9]\", \"\", regex=True)\n",
        "    df[col] = pd.to_numeric(df[col])"
      ],
      "metadata": {
        "id": "p10juF1NYsnI"
      },
      "execution_count": 2209,
      "outputs": []
    },
    {
      "cell_type": "code",
      "source": [
        "df[\"Num_Bank_Accounts\"].isna().sum()"
      ],
      "metadata": {
        "colab": {
          "base_uri": "https://localhost:8080/"
        },
        "id": "bJaUxsfbZa-J",
        "outputId": "4c9f3eaa-ea87-40fd-9dfe-6957d6cfbf0e"
      },
      "execution_count": 2210,
      "outputs": [
        {
          "output_type": "execute_result",
          "data": {
            "text/plain": [
              "np.int64(0)"
            ]
          },
          "metadata": {},
          "execution_count": 2210
        }
      ]
    },
    {
      "cell_type": "code",
      "source": [
        "df[\"Num_Credit_Card\"].isna().sum()\n"
      ],
      "metadata": {
        "colab": {
          "base_uri": "https://localhost:8080/"
        },
        "id": "nL5297b3Zgk_",
        "outputId": "f4d027a3-094d-4045-c1c4-f04a7a6149d2"
      },
      "execution_count": 2211,
      "outputs": [
        {
          "output_type": "execute_result",
          "data": {
            "text/plain": [
              "np.int64(0)"
            ]
          },
          "metadata": {},
          "execution_count": 2211
        }
      ]
    },
    {
      "cell_type": "code",
      "source": [
        "df[\"Interest_Rate\"].isna().sum()"
      ],
      "metadata": {
        "colab": {
          "base_uri": "https://localhost:8080/"
        },
        "id": "WMHDaj4gjX7-",
        "outputId": "42a53824-0b03-48d7-cb95-502767c11a7e"
      },
      "execution_count": 2212,
      "outputs": [
        {
          "output_type": "execute_result",
          "data": {
            "text/plain": [
              "np.int64(0)"
            ]
          },
          "metadata": {},
          "execution_count": 2212
        }
      ]
    },
    {
      "cell_type": "code",
      "source": [
        "df[\"Num_of_Loan\"].isna().sum()"
      ],
      "metadata": {
        "colab": {
          "base_uri": "https://localhost:8080/"
        },
        "id": "ktOPECLCjbfm",
        "outputId": "17092470-803e-40d2-ef3b-ea07d94dad44"
      },
      "execution_count": 2213,
      "outputs": [
        {
          "output_type": "execute_result",
          "data": {
            "text/plain": [
              "np.int64(0)"
            ]
          },
          "metadata": {},
          "execution_count": 2213
        }
      ]
    },
    {
      "cell_type": "code",
      "source": [
        "df[\"Num_Bank_Accounts\"].value_counts()"
      ],
      "metadata": {
        "colab": {
          "base_uri": "https://localhost:8080/",
          "height": 489
        },
        "id": "Mo2VUfeVZsmR",
        "outputId": "35bdefa9-b335-4e94-fc0e-0d2fac769c29"
      },
      "execution_count": 2214,
      "outputs": [
        {
          "output_type": "execute_result",
          "data": {
            "text/plain": [
              "Num_Bank_Accounts\n",
              "6       13001\n",
              "7       12823\n",
              "8       12765\n",
              "4       12186\n",
              "5       12118\n",
              "        ...  \n",
              "1091        1\n",
              "1123        1\n",
              "1657        1\n",
              "299         1\n",
              "1240        1\n",
              "Name: count, Length: 942, dtype: int64"
            ],
            "text/html": [
              "<div>\n",
              "<style scoped>\n",
              "    .dataframe tbody tr th:only-of-type {\n",
              "        vertical-align: middle;\n",
              "    }\n",
              "\n",
              "    .dataframe tbody tr th {\n",
              "        vertical-align: top;\n",
              "    }\n",
              "\n",
              "    .dataframe thead th {\n",
              "        text-align: right;\n",
              "    }\n",
              "</style>\n",
              "<table border=\"1\" class=\"dataframe\">\n",
              "  <thead>\n",
              "    <tr style=\"text-align: right;\">\n",
              "      <th></th>\n",
              "      <th>count</th>\n",
              "    </tr>\n",
              "    <tr>\n",
              "      <th>Num_Bank_Accounts</th>\n",
              "      <th></th>\n",
              "    </tr>\n",
              "  </thead>\n",
              "  <tbody>\n",
              "    <tr>\n",
              "      <th>6</th>\n",
              "      <td>13001</td>\n",
              "    </tr>\n",
              "    <tr>\n",
              "      <th>7</th>\n",
              "      <td>12823</td>\n",
              "    </tr>\n",
              "    <tr>\n",
              "      <th>8</th>\n",
              "      <td>12765</td>\n",
              "    </tr>\n",
              "    <tr>\n",
              "      <th>4</th>\n",
              "      <td>12186</td>\n",
              "    </tr>\n",
              "    <tr>\n",
              "      <th>5</th>\n",
              "      <td>12118</td>\n",
              "    </tr>\n",
              "    <tr>\n",
              "      <th>...</th>\n",
              "      <td>...</td>\n",
              "    </tr>\n",
              "    <tr>\n",
              "      <th>1091</th>\n",
              "      <td>1</td>\n",
              "    </tr>\n",
              "    <tr>\n",
              "      <th>1123</th>\n",
              "      <td>1</td>\n",
              "    </tr>\n",
              "    <tr>\n",
              "      <th>1657</th>\n",
              "      <td>1</td>\n",
              "    </tr>\n",
              "    <tr>\n",
              "      <th>299</th>\n",
              "      <td>1</td>\n",
              "    </tr>\n",
              "    <tr>\n",
              "      <th>1240</th>\n",
              "      <td>1</td>\n",
              "    </tr>\n",
              "  </tbody>\n",
              "</table>\n",
              "<p>942 rows × 1 columns</p>\n",
              "</div><br><label><b>dtype:</b> int64</label>"
            ]
          },
          "metadata": {},
          "execution_count": 2214
        }
      ]
    },
    {
      "cell_type": "code",
      "source": [
        "for col in [\"Num_Bank_Accounts\", \"Num_Credit_Card\", \"Interest_Rate\", \"Num_of_Loan\"]:\n",
        "    df[col] = df.groupby(\"Customer_ID\")[col].transform(lambda x: x.mode()[0] if not x.mode().empty else x.median())"
      ],
      "metadata": {
        "id": "-d3LBtvdbGIg"
      },
      "execution_count": 2215,
      "outputs": []
    },
    {
      "cell_type": "code",
      "source": [
        "df.loc[df[\"Num_Bank_Accounts\"] == 0, \"Num_Credit_Card\"] = 0"
      ],
      "metadata": {
        "id": "Ks2k1Cq_hBF3"
      },
      "execution_count": 2216,
      "outputs": []
    },
    {
      "cell_type": "code",
      "source": [
        "df[\"Num_Bank_Accounts\"].value_counts()"
      ],
      "metadata": {
        "colab": {
          "base_uri": "https://localhost:8080/",
          "height": 460
        },
        "id": "MXmwyuo6az3E",
        "outputId": "496a8c08-825b-4214-8a3d-c4b80d4e738b"
      },
      "execution_count": 2217,
      "outputs": [
        {
          "output_type": "execute_result",
          "data": {
            "text/plain": [
              "Num_Bank_Accounts\n",
              "6     13184\n",
              "7     12976\n",
              "8     12936\n",
              "4     12392\n",
              "5     12272\n",
              "3     12096\n",
              "9      5512\n",
              "10     5328\n",
              "1      4568\n",
              "0      4384\n",
              "2      4352\n",
              "Name: count, dtype: int64"
            ],
            "text/html": [
              "<div>\n",
              "<style scoped>\n",
              "    .dataframe tbody tr th:only-of-type {\n",
              "        vertical-align: middle;\n",
              "    }\n",
              "\n",
              "    .dataframe tbody tr th {\n",
              "        vertical-align: top;\n",
              "    }\n",
              "\n",
              "    .dataframe thead th {\n",
              "        text-align: right;\n",
              "    }\n",
              "</style>\n",
              "<table border=\"1\" class=\"dataframe\">\n",
              "  <thead>\n",
              "    <tr style=\"text-align: right;\">\n",
              "      <th></th>\n",
              "      <th>count</th>\n",
              "    </tr>\n",
              "    <tr>\n",
              "      <th>Num_Bank_Accounts</th>\n",
              "      <th></th>\n",
              "    </tr>\n",
              "  </thead>\n",
              "  <tbody>\n",
              "    <tr>\n",
              "      <th>6</th>\n",
              "      <td>13184</td>\n",
              "    </tr>\n",
              "    <tr>\n",
              "      <th>7</th>\n",
              "      <td>12976</td>\n",
              "    </tr>\n",
              "    <tr>\n",
              "      <th>8</th>\n",
              "      <td>12936</td>\n",
              "    </tr>\n",
              "    <tr>\n",
              "      <th>4</th>\n",
              "      <td>12392</td>\n",
              "    </tr>\n",
              "    <tr>\n",
              "      <th>5</th>\n",
              "      <td>12272</td>\n",
              "    </tr>\n",
              "    <tr>\n",
              "      <th>3</th>\n",
              "      <td>12096</td>\n",
              "    </tr>\n",
              "    <tr>\n",
              "      <th>9</th>\n",
              "      <td>5512</td>\n",
              "    </tr>\n",
              "    <tr>\n",
              "      <th>10</th>\n",
              "      <td>5328</td>\n",
              "    </tr>\n",
              "    <tr>\n",
              "      <th>1</th>\n",
              "      <td>4568</td>\n",
              "    </tr>\n",
              "    <tr>\n",
              "      <th>0</th>\n",
              "      <td>4384</td>\n",
              "    </tr>\n",
              "    <tr>\n",
              "      <th>2</th>\n",
              "      <td>4352</td>\n",
              "    </tr>\n",
              "  </tbody>\n",
              "</table>\n",
              "</div><br><label><b>dtype:</b> int64</label>"
            ]
          },
          "metadata": {},
          "execution_count": 2217
        }
      ]
    },
    {
      "cell_type": "code",
      "source": [
        "df[\"Num_Credit_Card\"].value_counts()"
      ],
      "metadata": {
        "colab": {
          "base_uri": "https://localhost:8080/",
          "height": 491
        },
        "id": "dWa09xkZa3dx",
        "outputId": "659b8777-5fa7-4e93-cb24-26afbb548ef4"
      },
      "execution_count": 2218,
      "outputs": [
        {
          "output_type": "execute_result",
          "data": {
            "text/plain": [
              "Num_Credit_Card\n",
              "5     17928\n",
              "6     16488\n",
              "7     16400\n",
              "4     13488\n",
              "3     12736\n",
              "8      5088\n",
              "10     4960\n",
              "9      4736\n",
              "0      4400\n",
              "2      1880\n",
              "1      1856\n",
              "11       40\n",
              "Name: count, dtype: int64"
            ],
            "text/html": [
              "<div>\n",
              "<style scoped>\n",
              "    .dataframe tbody tr th:only-of-type {\n",
              "        vertical-align: middle;\n",
              "    }\n",
              "\n",
              "    .dataframe tbody tr th {\n",
              "        vertical-align: top;\n",
              "    }\n",
              "\n",
              "    .dataframe thead th {\n",
              "        text-align: right;\n",
              "    }\n",
              "</style>\n",
              "<table border=\"1\" class=\"dataframe\">\n",
              "  <thead>\n",
              "    <tr style=\"text-align: right;\">\n",
              "      <th></th>\n",
              "      <th>count</th>\n",
              "    </tr>\n",
              "    <tr>\n",
              "      <th>Num_Credit_Card</th>\n",
              "      <th></th>\n",
              "    </tr>\n",
              "  </thead>\n",
              "  <tbody>\n",
              "    <tr>\n",
              "      <th>5</th>\n",
              "      <td>17928</td>\n",
              "    </tr>\n",
              "    <tr>\n",
              "      <th>6</th>\n",
              "      <td>16488</td>\n",
              "    </tr>\n",
              "    <tr>\n",
              "      <th>7</th>\n",
              "      <td>16400</td>\n",
              "    </tr>\n",
              "    <tr>\n",
              "      <th>4</th>\n",
              "      <td>13488</td>\n",
              "    </tr>\n",
              "    <tr>\n",
              "      <th>3</th>\n",
              "      <td>12736</td>\n",
              "    </tr>\n",
              "    <tr>\n",
              "      <th>8</th>\n",
              "      <td>5088</td>\n",
              "    </tr>\n",
              "    <tr>\n",
              "      <th>10</th>\n",
              "      <td>4960</td>\n",
              "    </tr>\n",
              "    <tr>\n",
              "      <th>9</th>\n",
              "      <td>4736</td>\n",
              "    </tr>\n",
              "    <tr>\n",
              "      <th>0</th>\n",
              "      <td>4400</td>\n",
              "    </tr>\n",
              "    <tr>\n",
              "      <th>2</th>\n",
              "      <td>1880</td>\n",
              "    </tr>\n",
              "    <tr>\n",
              "      <th>1</th>\n",
              "      <td>1856</td>\n",
              "    </tr>\n",
              "    <tr>\n",
              "      <th>11</th>\n",
              "      <td>40</td>\n",
              "    </tr>\n",
              "  </tbody>\n",
              "</table>\n",
              "</div><br><label><b>dtype:</b> int64</label>"
            ]
          },
          "metadata": {},
          "execution_count": 2218
        }
      ]
    },
    {
      "cell_type": "code",
      "source": [
        "df[\"Interest_Rate\"].value_counts()"
      ],
      "metadata": {
        "colab": {
          "base_uri": "https://localhost:8080/",
          "height": 1000
        },
        "id": "2A0mv7BKijJE",
        "outputId": "e0667454-5c16-4fa3-9a73-60b3b766ebab"
      },
      "execution_count": 2219,
      "outputs": [
        {
          "output_type": "execute_result",
          "data": {
            "text/plain": [
              "Interest_Rate\n",
              "8     5104\n",
              "5     5096\n",
              "6     4832\n",
              "12    4648\n",
              "10    4616\n",
              "7     4584\n",
              "9     4576\n",
              "11    4512\n",
              "18    4192\n",
              "15    4072\n",
              "20    4008\n",
              "17    3888\n",
              "16    3800\n",
              "19    3704\n",
              "3     2824\n",
              "1     2744\n",
              "4     2640\n",
              "2     2520\n",
              "13    2432\n",
              "14    2272\n",
              "32    1776\n",
              "22    1752\n",
              "24    1736\n",
              "30    1728\n",
              "23    1720\n",
              "29    1696\n",
              "28    1648\n",
              "27    1640\n",
              "25    1608\n",
              "21    1592\n",
              "26    1528\n",
              "34    1528\n",
              "33    1496\n",
              "31    1488\n",
              "Name: count, dtype: int64"
            ],
            "text/html": [
              "<div>\n",
              "<style scoped>\n",
              "    .dataframe tbody tr th:only-of-type {\n",
              "        vertical-align: middle;\n",
              "    }\n",
              "\n",
              "    .dataframe tbody tr th {\n",
              "        vertical-align: top;\n",
              "    }\n",
              "\n",
              "    .dataframe thead th {\n",
              "        text-align: right;\n",
              "    }\n",
              "</style>\n",
              "<table border=\"1\" class=\"dataframe\">\n",
              "  <thead>\n",
              "    <tr style=\"text-align: right;\">\n",
              "      <th></th>\n",
              "      <th>count</th>\n",
              "    </tr>\n",
              "    <tr>\n",
              "      <th>Interest_Rate</th>\n",
              "      <th></th>\n",
              "    </tr>\n",
              "  </thead>\n",
              "  <tbody>\n",
              "    <tr>\n",
              "      <th>8</th>\n",
              "      <td>5104</td>\n",
              "    </tr>\n",
              "    <tr>\n",
              "      <th>5</th>\n",
              "      <td>5096</td>\n",
              "    </tr>\n",
              "    <tr>\n",
              "      <th>6</th>\n",
              "      <td>4832</td>\n",
              "    </tr>\n",
              "    <tr>\n",
              "      <th>12</th>\n",
              "      <td>4648</td>\n",
              "    </tr>\n",
              "    <tr>\n",
              "      <th>10</th>\n",
              "      <td>4616</td>\n",
              "    </tr>\n",
              "    <tr>\n",
              "      <th>7</th>\n",
              "      <td>4584</td>\n",
              "    </tr>\n",
              "    <tr>\n",
              "      <th>9</th>\n",
              "      <td>4576</td>\n",
              "    </tr>\n",
              "    <tr>\n",
              "      <th>11</th>\n",
              "      <td>4512</td>\n",
              "    </tr>\n",
              "    <tr>\n",
              "      <th>18</th>\n",
              "      <td>4192</td>\n",
              "    </tr>\n",
              "    <tr>\n",
              "      <th>15</th>\n",
              "      <td>4072</td>\n",
              "    </tr>\n",
              "    <tr>\n",
              "      <th>20</th>\n",
              "      <td>4008</td>\n",
              "    </tr>\n",
              "    <tr>\n",
              "      <th>17</th>\n",
              "      <td>3888</td>\n",
              "    </tr>\n",
              "    <tr>\n",
              "      <th>16</th>\n",
              "      <td>3800</td>\n",
              "    </tr>\n",
              "    <tr>\n",
              "      <th>19</th>\n",
              "      <td>3704</td>\n",
              "    </tr>\n",
              "    <tr>\n",
              "      <th>3</th>\n",
              "      <td>2824</td>\n",
              "    </tr>\n",
              "    <tr>\n",
              "      <th>1</th>\n",
              "      <td>2744</td>\n",
              "    </tr>\n",
              "    <tr>\n",
              "      <th>4</th>\n",
              "      <td>2640</td>\n",
              "    </tr>\n",
              "    <tr>\n",
              "      <th>2</th>\n",
              "      <td>2520</td>\n",
              "    </tr>\n",
              "    <tr>\n",
              "      <th>13</th>\n",
              "      <td>2432</td>\n",
              "    </tr>\n",
              "    <tr>\n",
              "      <th>14</th>\n",
              "      <td>2272</td>\n",
              "    </tr>\n",
              "    <tr>\n",
              "      <th>32</th>\n",
              "      <td>1776</td>\n",
              "    </tr>\n",
              "    <tr>\n",
              "      <th>22</th>\n",
              "      <td>1752</td>\n",
              "    </tr>\n",
              "    <tr>\n",
              "      <th>24</th>\n",
              "      <td>1736</td>\n",
              "    </tr>\n",
              "    <tr>\n",
              "      <th>30</th>\n",
              "      <td>1728</td>\n",
              "    </tr>\n",
              "    <tr>\n",
              "      <th>23</th>\n",
              "      <td>1720</td>\n",
              "    </tr>\n",
              "    <tr>\n",
              "      <th>29</th>\n",
              "      <td>1696</td>\n",
              "    </tr>\n",
              "    <tr>\n",
              "      <th>28</th>\n",
              "      <td>1648</td>\n",
              "    </tr>\n",
              "    <tr>\n",
              "      <th>27</th>\n",
              "      <td>1640</td>\n",
              "    </tr>\n",
              "    <tr>\n",
              "      <th>25</th>\n",
              "      <td>1608</td>\n",
              "    </tr>\n",
              "    <tr>\n",
              "      <th>21</th>\n",
              "      <td>1592</td>\n",
              "    </tr>\n",
              "    <tr>\n",
              "      <th>26</th>\n",
              "      <td>1528</td>\n",
              "    </tr>\n",
              "    <tr>\n",
              "      <th>34</th>\n",
              "      <td>1528</td>\n",
              "    </tr>\n",
              "    <tr>\n",
              "      <th>33</th>\n",
              "      <td>1496</td>\n",
              "    </tr>\n",
              "    <tr>\n",
              "      <th>31</th>\n",
              "      <td>1488</td>\n",
              "    </tr>\n",
              "  </tbody>\n",
              "</table>\n",
              "</div><br><label><b>dtype:</b> int64</label>"
            ]
          },
          "metadata": {},
          "execution_count": 2219
        }
      ]
    },
    {
      "cell_type": "code",
      "source": [
        "df[\"Num_of_Loan\"].value_counts()"
      ],
      "metadata": {
        "colab": {
          "base_uri": "https://localhost:8080/",
          "height": 481
        },
        "id": "dEBwlSRniltP",
        "outputId": "89e41bfb-bfc5-43c9-e5e4-4a9400f1b1b1"
      },
      "execution_count": 2220,
      "outputs": [
        {
          "output_type": "stream",
          "name": "stderr",
          "text": [
            "/usr/local/lib/python3.12/dist-packages/IPython/core/displayhook.py:275: UserWarning: Output cache limit (currently 1000 entries) hit.\n",
            "Flushing oldest 200 entries.\n",
            "  warn('Output cache limit (currently {sz} entries) hit.\\n'\n"
          ]
        },
        {
          "output_type": "execute_result",
          "data": {
            "text/plain": [
              "Num_of_Loan\n",
              "3    15752\n",
              "2    15712\n",
              "4    15456\n",
              "0    11408\n",
              "1    11128\n",
              "6     8144\n",
              "7     7680\n",
              "5     7528\n",
              "9     3856\n",
              "8     3336\n",
              "Name: count, dtype: int64"
            ],
            "text/html": [
              "<div>\n",
              "<style scoped>\n",
              "    .dataframe tbody tr th:only-of-type {\n",
              "        vertical-align: middle;\n",
              "    }\n",
              "\n",
              "    .dataframe tbody tr th {\n",
              "        vertical-align: top;\n",
              "    }\n",
              "\n",
              "    .dataframe thead th {\n",
              "        text-align: right;\n",
              "    }\n",
              "</style>\n",
              "<table border=\"1\" class=\"dataframe\">\n",
              "  <thead>\n",
              "    <tr style=\"text-align: right;\">\n",
              "      <th></th>\n",
              "      <th>count</th>\n",
              "    </tr>\n",
              "    <tr>\n",
              "      <th>Num_of_Loan</th>\n",
              "      <th></th>\n",
              "    </tr>\n",
              "  </thead>\n",
              "  <tbody>\n",
              "    <tr>\n",
              "      <th>3</th>\n",
              "      <td>15752</td>\n",
              "    </tr>\n",
              "    <tr>\n",
              "      <th>2</th>\n",
              "      <td>15712</td>\n",
              "    </tr>\n",
              "    <tr>\n",
              "      <th>4</th>\n",
              "      <td>15456</td>\n",
              "    </tr>\n",
              "    <tr>\n",
              "      <th>0</th>\n",
              "      <td>11408</td>\n",
              "    </tr>\n",
              "    <tr>\n",
              "      <th>1</th>\n",
              "      <td>11128</td>\n",
              "    </tr>\n",
              "    <tr>\n",
              "      <th>6</th>\n",
              "      <td>8144</td>\n",
              "    </tr>\n",
              "    <tr>\n",
              "      <th>7</th>\n",
              "      <td>7680</td>\n",
              "    </tr>\n",
              "    <tr>\n",
              "      <th>5</th>\n",
              "      <td>7528</td>\n",
              "    </tr>\n",
              "    <tr>\n",
              "      <th>9</th>\n",
              "      <td>3856</td>\n",
              "    </tr>\n",
              "    <tr>\n",
              "      <th>8</th>\n",
              "      <td>3336</td>\n",
              "    </tr>\n",
              "  </tbody>\n",
              "</table>\n",
              "</div><br><label><b>dtype:</b> int64</label>"
            ]
          },
          "metadata": {},
          "execution_count": 2220
        }
      ]
    },
    {
      "cell_type": "code",
      "source": [
        "df.info()"
      ],
      "metadata": {
        "colab": {
          "base_uri": "https://localhost:8080/"
        },
        "id": "qw1Udysxa-xQ",
        "outputId": "adae99d4-8c0f-4385-bddc-6f976a82e88e"
      },
      "execution_count": 2221,
      "outputs": [
        {
          "output_type": "stream",
          "name": "stdout",
          "text": [
            "<class 'pandas.core.frame.DataFrame'>\n",
            "RangeIndex: 100000 entries, 0 to 99999\n",
            "Data columns (total 24 columns):\n",
            " #   Column                     Non-Null Count   Dtype  \n",
            "---  ------                     --------------   -----  \n",
            " 0   Customer_ID                100000 non-null  object \n",
            " 1   Age                        100000 non-null  int64  \n",
            " 2   Occupation                 100000 non-null  int64  \n",
            " 3   Annual_Income              100000 non-null  float64\n",
            " 4   Monthly_Inhand_Salary      100000 non-null  float64\n",
            " 5   Num_Bank_Accounts          100000 non-null  int64  \n",
            " 6   Num_Credit_Card            100000 non-null  int64  \n",
            " 7   Interest_Rate              100000 non-null  int64  \n",
            " 8   Num_of_Loan                100000 non-null  int64  \n",
            " 9   Type_of_Loan               88592 non-null   object \n",
            " 10  Delay_from_due_date        100000 non-null  int64  \n",
            " 11  Num_of_Delayed_Payment     92998 non-null   object \n",
            " 12  Changed_Credit_Limit       97909 non-null   float64\n",
            " 13  Num_Credit_Inquiries       98035 non-null   float64\n",
            " 14  Credit_Mix                 100000 non-null  object \n",
            " 15  Outstanding_Debt           100000 non-null  float64\n",
            " 16  Credit_Utilization_Ratio   100000 non-null  float64\n",
            " 17  Payment_of_Min_Amount      100000 non-null  object \n",
            " 18  Total_EMI_per_month        100000 non-null  float64\n",
            " 19  Amount_invested_monthly    95521 non-null   float64\n",
            " 20  Payment_Behaviour          100000 non-null  object \n",
            " 21  Monthly_Balance            98800 non-null   float64\n",
            " 22  Credit_Score               100000 non-null  object \n",
            " 23  Credit_History_Age_Months  100000 non-null  int64  \n",
            "dtypes: float64(9), int64(8), object(7)\n",
            "memory usage: 18.3+ MB\n"
          ]
        }
      ]
    },
    {
      "cell_type": "code",
      "source": [
        "df[\"Type_of_Loan\"].isna().sum()"
      ],
      "metadata": {
        "colab": {
          "base_uri": "https://localhost:8080/"
        },
        "id": "-yFtb_taj_fn",
        "outputId": "613ff120-a8b9-43a0-b8a9-562e26e275c8"
      },
      "execution_count": 2222,
      "outputs": [
        {
          "output_type": "execute_result",
          "data": {
            "text/plain": [
              "np.int64(11408)"
            ]
          },
          "metadata": {},
          "execution_count": 2222
        }
      ]
    },
    {
      "cell_type": "code",
      "source": [
        "df[\"Type_of_Loan\"] = df[\"Type_of_Loan\"].fillna(\"Not Specified\")"
      ],
      "metadata": {
        "id": "VGfNtN-6rq7L"
      },
      "execution_count": 2223,
      "outputs": []
    },
    {
      "cell_type": "code",
      "source": [
        "def clean_loans(x):\n",
        "    x = str(x).replace(\"and \", \"\")\n",
        "    x = x.strip().strip(\",\")\n",
        "    loans = [loan.strip() for loan in x.split(\",\") if loan.strip()]\n",
        "    loans = [loan for loan in loans if loan.lower() != \"nan\"]\n",
        "    return loans\n",
        "\n",
        "df[\"Type_of_Loan\"] = df[\"Type_of_Loan\"].apply(clean_loans)\n"
      ],
      "metadata": {
        "id": "jLmD7d1ckDRD"
      },
      "execution_count": 2224,
      "outputs": []
    },
    {
      "cell_type": "code",
      "source": [
        "df[\"Type_of_Loan\"]"
      ],
      "metadata": {
        "colab": {
          "base_uri": "https://localhost:8080/",
          "height": 458
        },
        "id": "nBoSzFzttzUh",
        "outputId": "b1b78b06-24b5-410f-b279-0723c8816c0c"
      },
      "execution_count": 2225,
      "outputs": [
        {
          "output_type": "execute_result",
          "data": {
            "text/plain": [
              "0        [Auto Loan, Credit-Builder Loan, Personal Loan...\n",
              "1        [Auto Loan, Credit-Builder Loan, Personal Loan...\n",
              "2        [Auto Loan, Credit-Builder Loan, Personal Loan...\n",
              "3        [Auto Loan, Credit-Builder Loan, Personal Loan...\n",
              "4        [Auto Loan, Credit-Builder Loan, Personal Loan...\n",
              "                               ...                        \n",
              "99995                            [Auto Loan, Student Loan]\n",
              "99996                            [Auto Loan, Student Loan]\n",
              "99997                            [Auto Loan, Student Loan]\n",
              "99998                            [Auto Loan, Student Loan]\n",
              "99999                            [Auto Loan, Student Loan]\n",
              "Name: Type_of_Loan, Length: 100000, dtype: object"
            ],
            "text/html": [
              "<div>\n",
              "<style scoped>\n",
              "    .dataframe tbody tr th:only-of-type {\n",
              "        vertical-align: middle;\n",
              "    }\n",
              "\n",
              "    .dataframe tbody tr th {\n",
              "        vertical-align: top;\n",
              "    }\n",
              "\n",
              "    .dataframe thead th {\n",
              "        text-align: right;\n",
              "    }\n",
              "</style>\n",
              "<table border=\"1\" class=\"dataframe\">\n",
              "  <thead>\n",
              "    <tr style=\"text-align: right;\">\n",
              "      <th></th>\n",
              "      <th>Type_of_Loan</th>\n",
              "    </tr>\n",
              "  </thead>\n",
              "  <tbody>\n",
              "    <tr>\n",
              "      <th>0</th>\n",
              "      <td>[Auto Loan, Credit-Builder Loan, Personal Loan...</td>\n",
              "    </tr>\n",
              "    <tr>\n",
              "      <th>1</th>\n",
              "      <td>[Auto Loan, Credit-Builder Loan, Personal Loan...</td>\n",
              "    </tr>\n",
              "    <tr>\n",
              "      <th>2</th>\n",
              "      <td>[Auto Loan, Credit-Builder Loan, Personal Loan...</td>\n",
              "    </tr>\n",
              "    <tr>\n",
              "      <th>3</th>\n",
              "      <td>[Auto Loan, Credit-Builder Loan, Personal Loan...</td>\n",
              "    </tr>\n",
              "    <tr>\n",
              "      <th>4</th>\n",
              "      <td>[Auto Loan, Credit-Builder Loan, Personal Loan...</td>\n",
              "    </tr>\n",
              "    <tr>\n",
              "      <th>...</th>\n",
              "      <td>...</td>\n",
              "    </tr>\n",
              "    <tr>\n",
              "      <th>99995</th>\n",
              "      <td>[Auto Loan, Student Loan]</td>\n",
              "    </tr>\n",
              "    <tr>\n",
              "      <th>99996</th>\n",
              "      <td>[Auto Loan, Student Loan]</td>\n",
              "    </tr>\n",
              "    <tr>\n",
              "      <th>99997</th>\n",
              "      <td>[Auto Loan, Student Loan]</td>\n",
              "    </tr>\n",
              "    <tr>\n",
              "      <th>99998</th>\n",
              "      <td>[Auto Loan, Student Loan]</td>\n",
              "    </tr>\n",
              "    <tr>\n",
              "      <th>99999</th>\n",
              "      <td>[Auto Loan, Student Loan]</td>\n",
              "    </tr>\n",
              "  </tbody>\n",
              "</table>\n",
              "<p>100000 rows × 1 columns</p>\n",
              "</div><br><label><b>dtype:</b> object</label>"
            ]
          },
          "metadata": {},
          "execution_count": 2225
        }
      ]
    },
    {
      "cell_type": "code",
      "source": [
        "mlb = MultiLabelBinarizer()\n",
        "loan_dummies = pd.DataFrame(\n",
        "    mlb.fit_transform(df[\"Type_of_Loan\"]),\n",
        "    columns=[f\"Loan_{c}\" for c in mlb.classes_],\n",
        "    index=df.index\n",
        "    )\n",
        "\n",
        "df = df.join(loan_dummies)\n",
        "df = df.drop(columns=[\"Type_of_Loan\"])\n"
      ],
      "metadata": {
        "id": "jU9Dyz94qSS6"
      },
      "execution_count": 2226,
      "outputs": []
    },
    {
      "cell_type": "code",
      "source": [
        "df.info()"
      ],
      "metadata": {
        "colab": {
          "base_uri": "https://localhost:8080/"
        },
        "id": "HDKBdclDs8Az",
        "outputId": "89047e1f-abec-4165-bfbf-cb35cc859913"
      },
      "execution_count": 2229,
      "outputs": [
        {
          "output_type": "stream",
          "name": "stdout",
          "text": [
            "<class 'pandas.core.frame.DataFrame'>\n",
            "RangeIndex: 100000 entries, 0 to 99999\n",
            "Data columns (total 32 columns):\n",
            " #   Column                        Non-Null Count   Dtype  \n",
            "---  ------                        --------------   -----  \n",
            " 0   Customer_ID                   100000 non-null  object \n",
            " 1   Age                           100000 non-null  int64  \n",
            " 2   Occupation                    100000 non-null  int64  \n",
            " 3   Annual_Income                 100000 non-null  float64\n",
            " 4   Monthly_Inhand_Salary         100000 non-null  float64\n",
            " 5   Num_Bank_Accounts             100000 non-null  int64  \n",
            " 6   Num_Credit_Card               100000 non-null  int64  \n",
            " 7   Interest_Rate                 100000 non-null  int64  \n",
            " 8   Num_of_Loan                   100000 non-null  int64  \n",
            " 9   Delay_from_due_date           100000 non-null  int64  \n",
            " 10  Num_of_Delayed_Payment        92998 non-null   float64\n",
            " 11  Changed_Credit_Limit          97909 non-null   float64\n",
            " 12  Num_Credit_Inquiries          98035 non-null   float64\n",
            " 13  Credit_Mix                    100000 non-null  object \n",
            " 14  Outstanding_Debt              100000 non-null  float64\n",
            " 15  Credit_Utilization_Ratio      100000 non-null  float64\n",
            " 16  Payment_of_Min_Amount         100000 non-null  object \n",
            " 17  Total_EMI_per_month           100000 non-null  float64\n",
            " 18  Amount_invested_monthly       95521 non-null   float64\n",
            " 19  Payment_Behaviour             100000 non-null  object \n",
            " 20  Monthly_Balance               98800 non-null   float64\n",
            " 21  Credit_Score                  100000 non-null  object \n",
            " 22  Credit_History_Age_Months     100000 non-null  int64  \n",
            " 23  Loan_Auto Loan                100000 non-null  int64  \n",
            " 24  Loan_Credit-Builder Loan      100000 non-null  int64  \n",
            " 25  Loan_Debt Consolidation Loan  100000 non-null  int64  \n",
            " 26  Loan_Home Equity Loan         100000 non-null  int64  \n",
            " 27  Loan_Mortgage Loan            100000 non-null  int64  \n",
            " 28  Loan_Not Specified            100000 non-null  int64  \n",
            " 29  Loan_Payday Loan              100000 non-null  int64  \n",
            " 30  Loan_Personal Loan            100000 non-null  int64  \n",
            " 31  Loan_Student Loan             100000 non-null  int64  \n",
            "dtypes: float64(10), int64(17), object(5)\n",
            "memory usage: 24.4+ MB\n"
          ]
        }
      ]
    },
    {
      "cell_type": "code",
      "source": [
        "df[\"Delay_from_due_date\"].isna().sum()"
      ],
      "metadata": {
        "colab": {
          "base_uri": "https://localhost:8080/"
        },
        "id": "Gf8gd_w8w3qP",
        "outputId": "eb694806-577f-41aa-ed6e-3a3f9eade8d4"
      },
      "execution_count": 2241,
      "outputs": [
        {
          "output_type": "execute_result",
          "data": {
            "text/plain": [
              "np.int64(0)"
            ]
          },
          "metadata": {},
          "execution_count": 2241
        }
      ]
    },
    {
      "cell_type": "code",
      "source": [
        "df[\"Delay_from_due_date\"][1]"
      ],
      "metadata": {
        "colab": {
          "base_uri": "https://localhost:8080/"
        },
        "id": "zCNH_8ypxIFh",
        "outputId": "8efa678e-aee3-46ec-b3b9-9935d5463b00"
      },
      "execution_count": 2244,
      "outputs": [
        {
          "output_type": "execute_result",
          "data": {
            "text/plain": [
              "np.int64(-1)"
            ]
          },
          "metadata": {},
          "execution_count": 2244
        }
      ]
    },
    {
      "cell_type": "code",
      "source": [
        "df[df[\"Delay_from_due_date\"] < 0] = 0"
      ],
      "metadata": {
        "id": "UDxc8-d5xPVQ"
      },
      "execution_count": 2246,
      "outputs": []
    },
    {
      "cell_type": "code",
      "source": [
        "df[\"Num_of_Delayed_Payment\"].isna().sum()"
      ],
      "metadata": {
        "colab": {
          "base_uri": "https://localhost:8080/"
        },
        "id": "OXfs5aD7vsTp",
        "outputId": "d19314a4-0e1a-4848-e404-e51bbf11cac3"
      },
      "execution_count": 2240,
      "outputs": [
        {
          "output_type": "execute_result",
          "data": {
            "text/plain": [
              "np.int64(7002)"
            ]
          },
          "metadata": {},
          "execution_count": 2240
        }
      ]
    },
    {
      "cell_type": "code",
      "source": [
        "df[\"Num_of_Delayed_Payment\"].fillna(df[\"Num_of_Delayed_Payment\"].median(), inplace=True)"
      ],
      "metadata": {
        "id": "ukYB5qcEwubd"
      },
      "execution_count": 2242,
      "outputs": []
    },
    {
      "cell_type": "code",
      "source": [
        "df[\"Num_of_Delayed_Payment\"].isna().sum()"
      ],
      "metadata": {
        "colab": {
          "base_uri": "https://localhost:8080/"
        },
        "id": "gxzYIZDkxFWK",
        "outputId": "893e6d15-4266-44d2-9fe0-7df15221adbe"
      },
      "execution_count": 2243,
      "outputs": [
        {
          "output_type": "execute_result",
          "data": {
            "text/plain": [
              "np.int64(0)"
            ]
          },
          "metadata": {},
          "execution_count": 2243
        }
      ]
    },
    {
      "cell_type": "code",
      "source": [
        "df.info()"
      ],
      "metadata": {
        "colab": {
          "base_uri": "https://localhost:8080/"
        },
        "id": "5H7qYxG7xhdJ",
        "outputId": "9c8df83f-6acc-4c9b-8ea7-ed34db5029fb"
      },
      "execution_count": 2249,
      "outputs": [
        {
          "output_type": "stream",
          "name": "stdout",
          "text": [
            "<class 'pandas.core.frame.DataFrame'>\n",
            "RangeIndex: 100000 entries, 0 to 99999\n",
            "Data columns (total 32 columns):\n",
            " #   Column                        Non-Null Count   Dtype  \n",
            "---  ------                        --------------   -----  \n",
            " 0   Customer_ID                   100000 non-null  object \n",
            " 1   Age                           100000 non-null  int64  \n",
            " 2   Occupation                    100000 non-null  int64  \n",
            " 3   Annual_Income                 100000 non-null  float64\n",
            " 4   Monthly_Inhand_Salary         100000 non-null  float64\n",
            " 5   Num_Bank_Accounts             100000 non-null  int64  \n",
            " 6   Num_Credit_Card               100000 non-null  int64  \n",
            " 7   Interest_Rate                 100000 non-null  int64  \n",
            " 8   Num_of_Loan                   100000 non-null  int64  \n",
            " 9   Delay_from_due_date           100000 non-null  int64  \n",
            " 10  Num_of_Delayed_Payment        100000 non-null  float64\n",
            " 11  Changed_Credit_Limit          97916 non-null   float64\n",
            " 12  Num_Credit_Inquiries          98049 non-null   float64\n",
            " 13  Credit_Mix                    100000 non-null  object \n",
            " 14  Outstanding_Debt              100000 non-null  float64\n",
            " 15  Credit_Utilization_Ratio      100000 non-null  float64\n",
            " 16  Payment_of_Min_Amount         100000 non-null  object \n",
            " 17  Total_EMI_per_month           100000 non-null  float64\n",
            " 18  Amount_invested_monthly       95544 non-null   float64\n",
            " 19  Payment_Behaviour             100000 non-null  object \n",
            " 20  Monthly_Balance               98808 non-null   float64\n",
            " 21  Credit_Score                  100000 non-null  object \n",
            " 22  Credit_History_Age_Months     100000 non-null  int64  \n",
            " 23  Loan_Auto Loan                100000 non-null  int64  \n",
            " 24  Loan_Credit-Builder Loan      100000 non-null  int64  \n",
            " 25  Loan_Debt Consolidation Loan  100000 non-null  int64  \n",
            " 26  Loan_Home Equity Loan         100000 non-null  int64  \n",
            " 27  Loan_Mortgage Loan            100000 non-null  int64  \n",
            " 28  Loan_Not Specified            100000 non-null  int64  \n",
            " 29  Loan_Payday Loan              100000 non-null  int64  \n",
            " 30  Loan_Personal Loan            100000 non-null  int64  \n",
            " 31  Loan_Student Loan             100000 non-null  int64  \n",
            "dtypes: float64(10), int64(17), object(5)\n",
            "memory usage: 24.4+ MB\n"
          ]
        }
      ]
    },
    {
      "cell_type": "code",
      "source": [],
      "metadata": {
        "id": "gY8U0pcNyTQ-"
      },
      "execution_count": null,
      "outputs": []
    }
  ]
}