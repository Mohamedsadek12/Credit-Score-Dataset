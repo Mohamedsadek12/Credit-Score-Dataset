{
  "nbformat": 4,
  "nbformat_minor": 0,
  "metadata": {
    "colab": {
      "provenance": []
    },
    "kernelspec": {
      "name": "python3",
      "display_name": "Python 3"
    },
    "language_info": {
      "name": "python"
    }
  },
  "cells": [
    {
      "cell_type": "code",
      "execution_count": 490,
      "metadata": {
        "id": "OTf_Oz6szrql"
      },
      "outputs": [],
      "source": [
        "import pandas as pd\n",
        "import numpy as np\n",
        "import matplotlib.pyplot as plt\n",
        "import seaborn as sns\n",
        "\n",
        "from sklearn.model_selection import train_test_split\n",
        "from sklearn.preprocessing import LabelEncoder, StandardScaler, MultiLabelBinarizer, OrdinalEncoder\n",
        "from sklearn.metrics import classification_report, confusion_matrix\n",
        "from sklearn.ensemble import RandomForestClassifier"
      ]
    },
    {
      "cell_type": "code",
      "source": [
        "df = pd.read_csv(\"train.csv\")"
      ],
      "metadata": {
        "id": "ryPkzuYG1or3",
        "colab": {
          "base_uri": "https://localhost:8080/"
        },
        "outputId": "67a0c283-f20c-40ab-9bd9-78dc857dc3a5"
      },
      "execution_count": 491,
      "outputs": [
        {
          "output_type": "stream",
          "name": "stderr",
          "text": [
            "/tmp/ipython-input-2292805398.py:1: DtypeWarning: Columns (26) have mixed types. Specify dtype option on import or set low_memory=False.\n",
            "  df = pd.read_csv(\"train.csv\")\n"
          ]
        }
      ]
    },
    {
      "cell_type": "markdown",
      "source": [
        "# Preprocessing"
      ],
      "metadata": {
        "id": "9_G_hGWM-Hnn"
      }
    },
    {
      "cell_type": "code",
      "source": [
        "df.shape"
      ],
      "metadata": {
        "colab": {
          "base_uri": "https://localhost:8080/"
        },
        "id": "GTydcPbNHEwE",
        "outputId": "e65dcd87-6dd7-4cd2-dfba-bb2cf791122a"
      },
      "execution_count": 492,
      "outputs": [
        {
          "output_type": "execute_result",
          "data": {
            "text/plain": [
              "(100000, 28)"
            ]
          },
          "metadata": {},
          "execution_count": 492
        }
      ]
    },
    {
      "cell_type": "code",
      "source": [
        "df.head()"
      ],
      "metadata": {
        "colab": {
          "base_uri": "https://localhost:8080/",
          "height": 429
        },
        "id": "unA9vL5i140D",
        "outputId": "32ab988d-983d-458e-d7fc-dd55653f6ce8"
      },
      "execution_count": 493,
      "outputs": [
        {
          "output_type": "execute_result",
          "data": {
            "text/plain": [
              "       ID Customer_ID     Month           Name   Age          SSN Occupation  \\\n",
              "0  0x1602   CUS_0xd40   January  Aaron Maashoh    23  821-00-0265  Scientist   \n",
              "1  0x1603   CUS_0xd40  February  Aaron Maashoh    23  821-00-0265  Scientist   \n",
              "2  0x1604   CUS_0xd40     March  Aaron Maashoh  -500  821-00-0265  Scientist   \n",
              "3  0x1605   CUS_0xd40     April  Aaron Maashoh    23  821-00-0265  Scientist   \n",
              "4  0x1606   CUS_0xd40       May  Aaron Maashoh    23  821-00-0265  Scientist   \n",
              "\n",
              "  Annual_Income  Monthly_Inhand_Salary  Num_Bank_Accounts  ...  Credit_Mix  \\\n",
              "0      19114.12            1824.843333                  3  ...           _   \n",
              "1      19114.12                    NaN                  3  ...        Good   \n",
              "2      19114.12                    NaN                  3  ...        Good   \n",
              "3      19114.12                    NaN                  3  ...        Good   \n",
              "4      19114.12            1824.843333                  3  ...        Good   \n",
              "\n",
              "   Outstanding_Debt Credit_Utilization_Ratio     Credit_History_Age  \\\n",
              "0            809.98                26.822620  22 Years and 1 Months   \n",
              "1            809.98                31.944960                    NaN   \n",
              "2            809.98                28.609352  22 Years and 3 Months   \n",
              "3            809.98                31.377862  22 Years and 4 Months   \n",
              "4            809.98                24.797347  22 Years and 5 Months   \n",
              "\n",
              "   Payment_of_Min_Amount Total_EMI_per_month Amount_invested_monthly  \\\n",
              "0                     No           49.574949       80.41529543900253   \n",
              "1                     No           49.574949      118.28022162236736   \n",
              "2                     No           49.574949         81.699521264648   \n",
              "3                     No           49.574949       199.4580743910713   \n",
              "4                     No           49.574949      41.420153086217326   \n",
              "\n",
              "                  Payment_Behaviour     Monthly_Balance Credit_Score  \n",
              "0   High_spent_Small_value_payments  312.49408867943663         Good  \n",
              "1    Low_spent_Large_value_payments  284.62916249607184         Good  \n",
              "2   Low_spent_Medium_value_payments   331.2098628537912         Good  \n",
              "3    Low_spent_Small_value_payments  223.45130972736786         Good  \n",
              "4  High_spent_Medium_value_payments  341.48923103222177         Good  \n",
              "\n",
              "[5 rows x 28 columns]"
            ],
            "text/html": [
              "\n",
              "  <div id=\"df-451de9c5-a927-49ff-801f-65fcb607c96a\" class=\"colab-df-container\">\n",
              "    <div>\n",
              "<style scoped>\n",
              "    .dataframe tbody tr th:only-of-type {\n",
              "        vertical-align: middle;\n",
              "    }\n",
              "\n",
              "    .dataframe tbody tr th {\n",
              "        vertical-align: top;\n",
              "    }\n",
              "\n",
              "    .dataframe thead th {\n",
              "        text-align: right;\n",
              "    }\n",
              "</style>\n",
              "<table border=\"1\" class=\"dataframe\">\n",
              "  <thead>\n",
              "    <tr style=\"text-align: right;\">\n",
              "      <th></th>\n",
              "      <th>ID</th>\n",
              "      <th>Customer_ID</th>\n",
              "      <th>Month</th>\n",
              "      <th>Name</th>\n",
              "      <th>Age</th>\n",
              "      <th>SSN</th>\n",
              "      <th>Occupation</th>\n",
              "      <th>Annual_Income</th>\n",
              "      <th>Monthly_Inhand_Salary</th>\n",
              "      <th>Num_Bank_Accounts</th>\n",
              "      <th>...</th>\n",
              "      <th>Credit_Mix</th>\n",
              "      <th>Outstanding_Debt</th>\n",
              "      <th>Credit_Utilization_Ratio</th>\n",
              "      <th>Credit_History_Age</th>\n",
              "      <th>Payment_of_Min_Amount</th>\n",
              "      <th>Total_EMI_per_month</th>\n",
              "      <th>Amount_invested_monthly</th>\n",
              "      <th>Payment_Behaviour</th>\n",
              "      <th>Monthly_Balance</th>\n",
              "      <th>Credit_Score</th>\n",
              "    </tr>\n",
              "  </thead>\n",
              "  <tbody>\n",
              "    <tr>\n",
              "      <th>0</th>\n",
              "      <td>0x1602</td>\n",
              "      <td>CUS_0xd40</td>\n",
              "      <td>January</td>\n",
              "      <td>Aaron Maashoh</td>\n",
              "      <td>23</td>\n",
              "      <td>821-00-0265</td>\n",
              "      <td>Scientist</td>\n",
              "      <td>19114.12</td>\n",
              "      <td>1824.843333</td>\n",
              "      <td>3</td>\n",
              "      <td>...</td>\n",
              "      <td>_</td>\n",
              "      <td>809.98</td>\n",
              "      <td>26.822620</td>\n",
              "      <td>22 Years and 1 Months</td>\n",
              "      <td>No</td>\n",
              "      <td>49.574949</td>\n",
              "      <td>80.41529543900253</td>\n",
              "      <td>High_spent_Small_value_payments</td>\n",
              "      <td>312.49408867943663</td>\n",
              "      <td>Good</td>\n",
              "    </tr>\n",
              "    <tr>\n",
              "      <th>1</th>\n",
              "      <td>0x1603</td>\n",
              "      <td>CUS_0xd40</td>\n",
              "      <td>February</td>\n",
              "      <td>Aaron Maashoh</td>\n",
              "      <td>23</td>\n",
              "      <td>821-00-0265</td>\n",
              "      <td>Scientist</td>\n",
              "      <td>19114.12</td>\n",
              "      <td>NaN</td>\n",
              "      <td>3</td>\n",
              "      <td>...</td>\n",
              "      <td>Good</td>\n",
              "      <td>809.98</td>\n",
              "      <td>31.944960</td>\n",
              "      <td>NaN</td>\n",
              "      <td>No</td>\n",
              "      <td>49.574949</td>\n",
              "      <td>118.28022162236736</td>\n",
              "      <td>Low_spent_Large_value_payments</td>\n",
              "      <td>284.62916249607184</td>\n",
              "      <td>Good</td>\n",
              "    </tr>\n",
              "    <tr>\n",
              "      <th>2</th>\n",
              "      <td>0x1604</td>\n",
              "      <td>CUS_0xd40</td>\n",
              "      <td>March</td>\n",
              "      <td>Aaron Maashoh</td>\n",
              "      <td>-500</td>\n",
              "      <td>821-00-0265</td>\n",
              "      <td>Scientist</td>\n",
              "      <td>19114.12</td>\n",
              "      <td>NaN</td>\n",
              "      <td>3</td>\n",
              "      <td>...</td>\n",
              "      <td>Good</td>\n",
              "      <td>809.98</td>\n",
              "      <td>28.609352</td>\n",
              "      <td>22 Years and 3 Months</td>\n",
              "      <td>No</td>\n",
              "      <td>49.574949</td>\n",
              "      <td>81.699521264648</td>\n",
              "      <td>Low_spent_Medium_value_payments</td>\n",
              "      <td>331.2098628537912</td>\n",
              "      <td>Good</td>\n",
              "    </tr>\n",
              "    <tr>\n",
              "      <th>3</th>\n",
              "      <td>0x1605</td>\n",
              "      <td>CUS_0xd40</td>\n",
              "      <td>April</td>\n",
              "      <td>Aaron Maashoh</td>\n",
              "      <td>23</td>\n",
              "      <td>821-00-0265</td>\n",
              "      <td>Scientist</td>\n",
              "      <td>19114.12</td>\n",
              "      <td>NaN</td>\n",
              "      <td>3</td>\n",
              "      <td>...</td>\n",
              "      <td>Good</td>\n",
              "      <td>809.98</td>\n",
              "      <td>31.377862</td>\n",
              "      <td>22 Years and 4 Months</td>\n",
              "      <td>No</td>\n",
              "      <td>49.574949</td>\n",
              "      <td>199.4580743910713</td>\n",
              "      <td>Low_spent_Small_value_payments</td>\n",
              "      <td>223.45130972736786</td>\n",
              "      <td>Good</td>\n",
              "    </tr>\n",
              "    <tr>\n",
              "      <th>4</th>\n",
              "      <td>0x1606</td>\n",
              "      <td>CUS_0xd40</td>\n",
              "      <td>May</td>\n",
              "      <td>Aaron Maashoh</td>\n",
              "      <td>23</td>\n",
              "      <td>821-00-0265</td>\n",
              "      <td>Scientist</td>\n",
              "      <td>19114.12</td>\n",
              "      <td>1824.843333</td>\n",
              "      <td>3</td>\n",
              "      <td>...</td>\n",
              "      <td>Good</td>\n",
              "      <td>809.98</td>\n",
              "      <td>24.797347</td>\n",
              "      <td>22 Years and 5 Months</td>\n",
              "      <td>No</td>\n",
              "      <td>49.574949</td>\n",
              "      <td>41.420153086217326</td>\n",
              "      <td>High_spent_Medium_value_payments</td>\n",
              "      <td>341.48923103222177</td>\n",
              "      <td>Good</td>\n",
              "    </tr>\n",
              "  </tbody>\n",
              "</table>\n",
              "<p>5 rows × 28 columns</p>\n",
              "</div>\n",
              "    <div class=\"colab-df-buttons\">\n",
              "\n",
              "  <div class=\"colab-df-container\">\n",
              "    <button class=\"colab-df-convert\" onclick=\"convertToInteractive('df-451de9c5-a927-49ff-801f-65fcb607c96a')\"\n",
              "            title=\"Convert this dataframe to an interactive table.\"\n",
              "            style=\"display:none;\">\n",
              "\n",
              "  <svg xmlns=\"http://www.w3.org/2000/svg\" height=\"24px\" viewBox=\"0 -960 960 960\">\n",
              "    <path d=\"M120-120v-720h720v720H120Zm60-500h600v-160H180v160Zm220 220h160v-160H400v160Zm0 220h160v-160H400v160ZM180-400h160v-160H180v160Zm440 0h160v-160H620v160ZM180-180h160v-160H180v160Zm440 0h160v-160H620v160Z\"/>\n",
              "  </svg>\n",
              "    </button>\n",
              "\n",
              "  <style>\n",
              "    .colab-df-container {\n",
              "      display:flex;\n",
              "      gap: 12px;\n",
              "    }\n",
              "\n",
              "    .colab-df-convert {\n",
              "      background-color: #E8F0FE;\n",
              "      border: none;\n",
              "      border-radius: 50%;\n",
              "      cursor: pointer;\n",
              "      display: none;\n",
              "      fill: #1967D2;\n",
              "      height: 32px;\n",
              "      padding: 0 0 0 0;\n",
              "      width: 32px;\n",
              "    }\n",
              "\n",
              "    .colab-df-convert:hover {\n",
              "      background-color: #E2EBFA;\n",
              "      box-shadow: 0px 1px 2px rgba(60, 64, 67, 0.3), 0px 1px 3px 1px rgba(60, 64, 67, 0.15);\n",
              "      fill: #174EA6;\n",
              "    }\n",
              "\n",
              "    .colab-df-buttons div {\n",
              "      margin-bottom: 4px;\n",
              "    }\n",
              "\n",
              "    [theme=dark] .colab-df-convert {\n",
              "      background-color: #3B4455;\n",
              "      fill: #D2E3FC;\n",
              "    }\n",
              "\n",
              "    [theme=dark] .colab-df-convert:hover {\n",
              "      background-color: #434B5C;\n",
              "      box-shadow: 0px 1px 3px 1px rgba(0, 0, 0, 0.15);\n",
              "      filter: drop-shadow(0px 1px 2px rgba(0, 0, 0, 0.3));\n",
              "      fill: #FFFFFF;\n",
              "    }\n",
              "  </style>\n",
              "\n",
              "    <script>\n",
              "      const buttonEl =\n",
              "        document.querySelector('#df-451de9c5-a927-49ff-801f-65fcb607c96a button.colab-df-convert');\n",
              "      buttonEl.style.display =\n",
              "        google.colab.kernel.accessAllowed ? 'block' : 'none';\n",
              "\n",
              "      async function convertToInteractive(key) {\n",
              "        const element = document.querySelector('#df-451de9c5-a927-49ff-801f-65fcb607c96a');\n",
              "        const dataTable =\n",
              "          await google.colab.kernel.invokeFunction('convertToInteractive',\n",
              "                                                    [key], {});\n",
              "        if (!dataTable) return;\n",
              "\n",
              "        const docLinkHtml = 'Like what you see? Visit the ' +\n",
              "          '<a target=\"_blank\" href=https://colab.research.google.com/notebooks/data_table.ipynb>data table notebook</a>'\n",
              "          + ' to learn more about interactive tables.';\n",
              "        element.innerHTML = '';\n",
              "        dataTable['output_type'] = 'display_data';\n",
              "        await google.colab.output.renderOutput(dataTable, element);\n",
              "        const docLink = document.createElement('div');\n",
              "        docLink.innerHTML = docLinkHtml;\n",
              "        element.appendChild(docLink);\n",
              "      }\n",
              "    </script>\n",
              "  </div>\n",
              "\n",
              "\n",
              "    <div id=\"df-c53c9d64-07f3-466f-8f1a-dccd7ffe1f83\">\n",
              "      <button class=\"colab-df-quickchart\" onclick=\"quickchart('df-c53c9d64-07f3-466f-8f1a-dccd7ffe1f83')\"\n",
              "                title=\"Suggest charts\"\n",
              "                style=\"display:none;\">\n",
              "\n",
              "<svg xmlns=\"http://www.w3.org/2000/svg\" height=\"24px\"viewBox=\"0 0 24 24\"\n",
              "     width=\"24px\">\n",
              "    <g>\n",
              "        <path d=\"M19 3H5c-1.1 0-2 .9-2 2v14c0 1.1.9 2 2 2h14c1.1 0 2-.9 2-2V5c0-1.1-.9-2-2-2zM9 17H7v-7h2v7zm4 0h-2V7h2v10zm4 0h-2v-4h2v4z\"/>\n",
              "    </g>\n",
              "</svg>\n",
              "      </button>\n",
              "\n",
              "<style>\n",
              "  .colab-df-quickchart {\n",
              "      --bg-color: #E8F0FE;\n",
              "      --fill-color: #1967D2;\n",
              "      --hover-bg-color: #E2EBFA;\n",
              "      --hover-fill-color: #174EA6;\n",
              "      --disabled-fill-color: #AAA;\n",
              "      --disabled-bg-color: #DDD;\n",
              "  }\n",
              "\n",
              "  [theme=dark] .colab-df-quickchart {\n",
              "      --bg-color: #3B4455;\n",
              "      --fill-color: #D2E3FC;\n",
              "      --hover-bg-color: #434B5C;\n",
              "      --hover-fill-color: #FFFFFF;\n",
              "      --disabled-bg-color: #3B4455;\n",
              "      --disabled-fill-color: #666;\n",
              "  }\n",
              "\n",
              "  .colab-df-quickchart {\n",
              "    background-color: var(--bg-color);\n",
              "    border: none;\n",
              "    border-radius: 50%;\n",
              "    cursor: pointer;\n",
              "    display: none;\n",
              "    fill: var(--fill-color);\n",
              "    height: 32px;\n",
              "    padding: 0;\n",
              "    width: 32px;\n",
              "  }\n",
              "\n",
              "  .colab-df-quickchart:hover {\n",
              "    background-color: var(--hover-bg-color);\n",
              "    box-shadow: 0 1px 2px rgba(60, 64, 67, 0.3), 0 1px 3px 1px rgba(60, 64, 67, 0.15);\n",
              "    fill: var(--button-hover-fill-color);\n",
              "  }\n",
              "\n",
              "  .colab-df-quickchart-complete:disabled,\n",
              "  .colab-df-quickchart-complete:disabled:hover {\n",
              "    background-color: var(--disabled-bg-color);\n",
              "    fill: var(--disabled-fill-color);\n",
              "    box-shadow: none;\n",
              "  }\n",
              "\n",
              "  .colab-df-spinner {\n",
              "    border: 2px solid var(--fill-color);\n",
              "    border-color: transparent;\n",
              "    border-bottom-color: var(--fill-color);\n",
              "    animation:\n",
              "      spin 1s steps(1) infinite;\n",
              "  }\n",
              "\n",
              "  @keyframes spin {\n",
              "    0% {\n",
              "      border-color: transparent;\n",
              "      border-bottom-color: var(--fill-color);\n",
              "      border-left-color: var(--fill-color);\n",
              "    }\n",
              "    20% {\n",
              "      border-color: transparent;\n",
              "      border-left-color: var(--fill-color);\n",
              "      border-top-color: var(--fill-color);\n",
              "    }\n",
              "    30% {\n",
              "      border-color: transparent;\n",
              "      border-left-color: var(--fill-color);\n",
              "      border-top-color: var(--fill-color);\n",
              "      border-right-color: var(--fill-color);\n",
              "    }\n",
              "    40% {\n",
              "      border-color: transparent;\n",
              "      border-right-color: var(--fill-color);\n",
              "      border-top-color: var(--fill-color);\n",
              "    }\n",
              "    60% {\n",
              "      border-color: transparent;\n",
              "      border-right-color: var(--fill-color);\n",
              "    }\n",
              "    80% {\n",
              "      border-color: transparent;\n",
              "      border-right-color: var(--fill-color);\n",
              "      border-bottom-color: var(--fill-color);\n",
              "    }\n",
              "    90% {\n",
              "      border-color: transparent;\n",
              "      border-bottom-color: var(--fill-color);\n",
              "    }\n",
              "  }\n",
              "</style>\n",
              "\n",
              "      <script>\n",
              "        async function quickchart(key) {\n",
              "          const quickchartButtonEl =\n",
              "            document.querySelector('#' + key + ' button');\n",
              "          quickchartButtonEl.disabled = true;  // To prevent multiple clicks.\n",
              "          quickchartButtonEl.classList.add('colab-df-spinner');\n",
              "          try {\n",
              "            const charts = await google.colab.kernel.invokeFunction(\n",
              "                'suggestCharts', [key], {});\n",
              "          } catch (error) {\n",
              "            console.error('Error during call to suggestCharts:', error);\n",
              "          }\n",
              "          quickchartButtonEl.classList.remove('colab-df-spinner');\n",
              "          quickchartButtonEl.classList.add('colab-df-quickchart-complete');\n",
              "        }\n",
              "        (() => {\n",
              "          let quickchartButtonEl =\n",
              "            document.querySelector('#df-c53c9d64-07f3-466f-8f1a-dccd7ffe1f83 button');\n",
              "          quickchartButtonEl.style.display =\n",
              "            google.colab.kernel.accessAllowed ? 'block' : 'none';\n",
              "        })();\n",
              "      </script>\n",
              "    </div>\n",
              "\n",
              "    </div>\n",
              "  </div>\n"
            ],
            "application/vnd.google.colaboratory.intrinsic+json": {
              "type": "dataframe",
              "variable_name": "df"
            }
          },
          "metadata": {},
          "execution_count": 493
        }
      ]
    },
    {
      "cell_type": "code",
      "source": [
        "df.info()"
      ],
      "metadata": {
        "colab": {
          "base_uri": "https://localhost:8080/"
        },
        "id": "EviIPUmc1_or",
        "outputId": "4a70e70d-c8f0-4d11-f604-ca219bc87607"
      },
      "execution_count": 494,
      "outputs": [
        {
          "output_type": "stream",
          "name": "stdout",
          "text": [
            "<class 'pandas.core.frame.DataFrame'>\n",
            "RangeIndex: 100000 entries, 0 to 99999\n",
            "Data columns (total 28 columns):\n",
            " #   Column                    Non-Null Count   Dtype  \n",
            "---  ------                    --------------   -----  \n",
            " 0   ID                        100000 non-null  object \n",
            " 1   Customer_ID               100000 non-null  object \n",
            " 2   Month                     100000 non-null  object \n",
            " 3   Name                      90015 non-null   object \n",
            " 4   Age                       100000 non-null  object \n",
            " 5   SSN                       100000 non-null  object \n",
            " 6   Occupation                100000 non-null  object \n",
            " 7   Annual_Income             100000 non-null  object \n",
            " 8   Monthly_Inhand_Salary     84998 non-null   float64\n",
            " 9   Num_Bank_Accounts         100000 non-null  int64  \n",
            " 10  Num_Credit_Card           100000 non-null  int64  \n",
            " 11  Interest_Rate             100000 non-null  int64  \n",
            " 12  Num_of_Loan               100000 non-null  object \n",
            " 13  Type_of_Loan              88592 non-null   object \n",
            " 14  Delay_from_due_date       100000 non-null  int64  \n",
            " 15  Num_of_Delayed_Payment    92998 non-null   object \n",
            " 16  Changed_Credit_Limit      100000 non-null  object \n",
            " 17  Num_Credit_Inquiries      98035 non-null   float64\n",
            " 18  Credit_Mix                100000 non-null  object \n",
            " 19  Outstanding_Debt          100000 non-null  object \n",
            " 20  Credit_Utilization_Ratio  100000 non-null  float64\n",
            " 21  Credit_History_Age        90970 non-null   object \n",
            " 22  Payment_of_Min_Amount     100000 non-null  object \n",
            " 23  Total_EMI_per_month       100000 non-null  float64\n",
            " 24  Amount_invested_monthly   95521 non-null   object \n",
            " 25  Payment_Behaviour         100000 non-null  object \n",
            " 26  Monthly_Balance           98800 non-null   object \n",
            " 27  Credit_Score              100000 non-null  object \n",
            "dtypes: float64(4), int64(4), object(20)\n",
            "memory usage: 21.4+ MB\n"
          ]
        }
      ]
    },
    {
      "cell_type": "code",
      "source": [
        "df = df.drop(columns=['ID', 'Month', 'Name', 'SSN'])"
      ],
      "metadata": {
        "id": "J-h8j3962TuO"
      },
      "execution_count": 495,
      "outputs": []
    },
    {
      "cell_type": "code",
      "source": [
        "clos_to_covert = ['Annual_Income', 'Monthly_Inhand_Salary', 'Outstanding_Debt',\n",
        "                  'Credit_Utilization_Ratio', 'Total_EMI_per_month', 'Amount_invested_monthly',\n",
        "                  'Monthly_Balance', \"Num_of_Loan\", \"Num_of_Delayed_Payment\"]\n",
        "\n",
        "for col in clos_to_covert:\n",
        "        df[col] = df[col].astype(str).str.replace(r\"[^0-9.]\", \"\", regex=True)\n",
        "        df[col] = pd.to_numeric(df[col], errors=\"coerce\")"
      ],
      "metadata": {
        "id": "IZeYGAF44vOe"
      },
      "execution_count": 496,
      "outputs": []
    },
    {
      "cell_type": "code",
      "source": [
        "df[\"Age\"] = df[\"Age\"].astype(str).str.replace(r\"[^0-9]\", \"\", regex=True)\n",
        "df[\"Age\"] = pd.to_numeric(df[\"Age\"], errors=\"coerce\")"
      ],
      "metadata": {
        "id": "e-ZBJMoZJG7w"
      },
      "execution_count": 497,
      "outputs": []
    },
    {
      "cell_type": "code",
      "source": [
        "median_age = df.loc[(df[\"Age\"] >= 18) & (df[\"Age\"] <= 90), \"Age\"].median()\n",
        "df.loc[(df[\"Age\"] < 18) | (df[\"Age\"] > 90), \"Age\"] = median_age"
      ],
      "metadata": {
        "id": "3ULFxM4dB5lj"
      },
      "execution_count": 498,
      "outputs": []
    },
    {
      "cell_type": "code",
      "source": [
        "df[\"Age\"].unique()"
      ],
      "metadata": {
        "colab": {
          "base_uri": "https://localhost:8080/"
        },
        "id": "PpF08t66CugR",
        "outputId": "a2d46c4a-e7f3-496a-b9bf-69724a8e6262"
      },
      "execution_count": 499,
      "outputs": [
        {
          "output_type": "execute_result",
          "data": {
            "text/plain": [
              "array([23, 34, 28, 54, 55, 21, 31, 33, 30, 24, 44, 45, 40, 41, 32, 35, 36,\n",
              "       39, 37, 20, 46, 26, 42, 19, 48, 38, 43, 22, 18, 27, 25, 47, 53, 56,\n",
              "       29, 49, 51, 50, 52])"
            ]
          },
          "metadata": {},
          "execution_count": 499
        }
      ]
    },
    {
      "cell_type": "code",
      "source": [
        "df[\"Occupation\"].unique()"
      ],
      "metadata": {
        "colab": {
          "base_uri": "https://localhost:8080/"
        },
        "id": "P_5rynHXKZtd",
        "outputId": "dde404c1-e33e-4d85-d893-efd53a93e66b"
      },
      "execution_count": 500,
      "outputs": [
        {
          "output_type": "execute_result",
          "data": {
            "text/plain": [
              "array(['Scientist', '_______', 'Teacher', 'Engineer', 'Entrepreneur',\n",
              "       'Developer', 'Lawyer', 'Media_Manager', 'Doctor', 'Journalist',\n",
              "       'Manager', 'Accountant', 'Musician', 'Mechanic', 'Writer',\n",
              "       'Architect'], dtype=object)"
            ]
          },
          "metadata": {},
          "execution_count": 500
        }
      ]
    },
    {
      "cell_type": "code",
      "source": [
        "df[\"Occupation\"] = df[\"Occupation\"].replace([\"_______\"], np.nan)"
      ],
      "metadata": {
        "id": "01oXWCBsF6p3"
      },
      "execution_count": 501,
      "outputs": []
    },
    {
      "cell_type": "code",
      "source": [
        "df[\"Occupation\"].isna().sum()"
      ],
      "metadata": {
        "colab": {
          "base_uri": "https://localhost:8080/"
        },
        "id": "ugF-9WaeJrm6",
        "outputId": "60ef0b2c-a415-4c0f-ba82-52e95a68c19c"
      },
      "execution_count": 502,
      "outputs": [
        {
          "output_type": "execute_result",
          "data": {
            "text/plain": [
              "np.int64(7062)"
            ]
          },
          "metadata": {},
          "execution_count": 502
        }
      ]
    },
    {
      "cell_type": "code",
      "source": [
        "df[\"Occupation\"] = df[\"Occupation\"].fillna(df[\"Occupation\"].mode()[0])"
      ],
      "metadata": {
        "id": "QELw_tmQKvaT"
      },
      "execution_count": 503,
      "outputs": []
    },
    {
      "cell_type": "code",
      "source": [
        "df[\"Occupation\"].isna().sum()"
      ],
      "metadata": {
        "colab": {
          "base_uri": "https://localhost:8080/"
        },
        "id": "Z_8dORwPKICf",
        "outputId": "55700953-5229-4170-ec5d-54de68d07ce8"
      },
      "execution_count": 504,
      "outputs": [
        {
          "output_type": "execute_result",
          "data": {
            "text/plain": [
              "np.int64(0)"
            ]
          },
          "metadata": {},
          "execution_count": 504
        }
      ]
    },
    {
      "cell_type": "code",
      "source": [
        "freq_map = df[\"Occupation\"].value_counts().to_dict()\n",
        "df[\"Occupation\"] = df[\"Occupation\"].map(freq_map)"
      ],
      "metadata": {
        "id": "zWssaLgTLX4W"
      },
      "execution_count": 505,
      "outputs": []
    },
    {
      "cell_type": "code",
      "source": [
        "df.info()"
      ],
      "metadata": {
        "colab": {
          "base_uri": "https://localhost:8080/"
        },
        "id": "OWDw0SGt4MnT",
        "outputId": "eac4c7e4-9446-41c5-f945-1fab54cf4dad"
      },
      "execution_count": 506,
      "outputs": [
        {
          "output_type": "stream",
          "name": "stdout",
          "text": [
            "<class 'pandas.core.frame.DataFrame'>\n",
            "RangeIndex: 100000 entries, 0 to 99999\n",
            "Data columns (total 24 columns):\n",
            " #   Column                    Non-Null Count   Dtype  \n",
            "---  ------                    --------------   -----  \n",
            " 0   Customer_ID               100000 non-null  object \n",
            " 1   Age                       100000 non-null  int64  \n",
            " 2   Occupation                100000 non-null  int64  \n",
            " 3   Annual_Income             100000 non-null  float64\n",
            " 4   Monthly_Inhand_Salary     84998 non-null   float64\n",
            " 5   Num_Bank_Accounts         100000 non-null  int64  \n",
            " 6   Num_Credit_Card           100000 non-null  int64  \n",
            " 7   Interest_Rate             100000 non-null  int64  \n",
            " 8   Num_of_Loan               100000 non-null  int64  \n",
            " 9   Type_of_Loan              88592 non-null   object \n",
            " 10  Delay_from_due_date       100000 non-null  int64  \n",
            " 11  Num_of_Delayed_Payment    92998 non-null   float64\n",
            " 12  Changed_Credit_Limit      100000 non-null  object \n",
            " 13  Num_Credit_Inquiries      98035 non-null   float64\n",
            " 14  Credit_Mix                100000 non-null  object \n",
            " 15  Outstanding_Debt          100000 non-null  float64\n",
            " 16  Credit_Utilization_Ratio  100000 non-null  float64\n",
            " 17  Credit_History_Age        90970 non-null   object \n",
            " 18  Payment_of_Min_Amount     100000 non-null  object \n",
            " 19  Total_EMI_per_month       100000 non-null  float64\n",
            " 20  Amount_invested_monthly   95521 non-null   float64\n",
            " 21  Payment_Behaviour         100000 non-null  object \n",
            " 22  Monthly_Balance           98800 non-null   float64\n",
            " 23  Credit_Score              100000 non-null  object \n",
            "dtypes: float64(9), int64(7), object(8)\n",
            "memory usage: 18.3+ MB\n"
          ]
        }
      ]
    },
    {
      "cell_type": "code",
      "source": [
        "df[\"Annual_Income\"].isna().sum()"
      ],
      "metadata": {
        "colab": {
          "base_uri": "https://localhost:8080/"
        },
        "id": "z45YQ0elL04c",
        "outputId": "3b5c6b85-ea3d-46b0-b052-ce61a97e8502"
      },
      "execution_count": 507,
      "outputs": [
        {
          "output_type": "execute_result",
          "data": {
            "text/plain": [
              "np.int64(0)"
            ]
          },
          "metadata": {},
          "execution_count": 507
        }
      ]
    },
    {
      "cell_type": "code",
      "source": [
        "df[\"Annual_Income\"] = df.groupby(\"Customer_ID\")[\"Annual_Income\"].transform(lambda x: x.fillna(x.median()))\n",
        "df[\"Annual_Income\"] = df[\"Annual_Income\"].fillna(df[\"Annual_Income\"].median())"
      ],
      "metadata": {
        "id": "D_d6uNsyRMBT"
      },
      "execution_count": 508,
      "outputs": []
    },
    {
      "cell_type": "code",
      "source": [
        "df[\"Annual_Income\"].isna().sum()"
      ],
      "metadata": {
        "colab": {
          "base_uri": "https://localhost:8080/"
        },
        "id": "JhOB90UZRQMJ",
        "outputId": "87da8024-e797-4c05-fbbe-9cad11f17f3d"
      },
      "execution_count": 509,
      "outputs": [
        {
          "output_type": "execute_result",
          "data": {
            "text/plain": [
              "np.int64(0)"
            ]
          },
          "metadata": {},
          "execution_count": 509
        }
      ]
    },
    {
      "cell_type": "code",
      "source": [
        "df[\"Monthly_Inhand_Salary\"].isna().sum()\n"
      ],
      "metadata": {
        "colab": {
          "base_uri": "https://localhost:8080/"
        },
        "id": "QDdWr14TL5Vt",
        "outputId": "a7b5d0bf-6382-4218-dbf1-144f6851a704"
      },
      "execution_count": 510,
      "outputs": [
        {
          "output_type": "execute_result",
          "data": {
            "text/plain": [
              "np.int64(15002)"
            ]
          },
          "metadata": {},
          "execution_count": 510
        }
      ]
    },
    {
      "cell_type": "code",
      "source": [
        "df[\"Monthly_Inhand_Salary\"] = df.groupby(\"Customer_ID\")[\"Monthly_Inhand_Salary\"].transform(lambda x: x.fillna(x.median()))\n",
        "df[\"Monthly_Inhand_Salary\"] = df[\"Monthly_Inhand_Salary\"].fillna(df[\"Monthly_Inhand_Salary\"].median())"
      ],
      "metadata": {
        "id": "hXdklxKcNNHA"
      },
      "execution_count": 511,
      "outputs": []
    },
    {
      "cell_type": "code",
      "source": [
        "df[\"Monthly_Inhand_Salary\"].isna().sum()"
      ],
      "metadata": {
        "colab": {
          "base_uri": "https://localhost:8080/"
        },
        "id": "JBiMrjMSO93V",
        "outputId": "b041d941-e660-4ebd-d7bf-2656353600de"
      },
      "execution_count": 512,
      "outputs": [
        {
          "output_type": "execute_result",
          "data": {
            "text/plain": [
              "np.int64(0)"
            ]
          },
          "metadata": {},
          "execution_count": 512
        }
      ]
    },
    {
      "cell_type": "code",
      "source": [
        "for col in [\"Num_Bank_Accounts\", \"Num_Credit_Card\"]:\n",
        "    df[col] = df[col].astype(str).str.replace(r\"[^0-9]\", \"\", regex=True)\n",
        "    df[col] = pd.to_numeric(df[col])"
      ],
      "metadata": {
        "id": "p10juF1NYsnI"
      },
      "execution_count": 513,
      "outputs": []
    },
    {
      "cell_type": "code",
      "source": [
        "df[\"Num_Bank_Accounts\"].isna().sum()"
      ],
      "metadata": {
        "colab": {
          "base_uri": "https://localhost:8080/"
        },
        "id": "bJaUxsfbZa-J",
        "outputId": "15dc5e34-b176-4c60-abad-4dcafbfc244c"
      },
      "execution_count": 514,
      "outputs": [
        {
          "output_type": "execute_result",
          "data": {
            "text/plain": [
              "np.int64(0)"
            ]
          },
          "metadata": {},
          "execution_count": 514
        }
      ]
    },
    {
      "cell_type": "code",
      "source": [
        "df[\"Num_Credit_Card\"].isna().sum()\n"
      ],
      "metadata": {
        "colab": {
          "base_uri": "https://localhost:8080/"
        },
        "id": "nL5297b3Zgk_",
        "outputId": "bfcfe90e-cd31-4d29-d90e-2ab13bad6245"
      },
      "execution_count": 515,
      "outputs": [
        {
          "output_type": "execute_result",
          "data": {
            "text/plain": [
              "np.int64(0)"
            ]
          },
          "metadata": {},
          "execution_count": 515
        }
      ]
    },
    {
      "cell_type": "code",
      "source": [
        "df[\"Interest_Rate\"].isna().sum()"
      ],
      "metadata": {
        "colab": {
          "base_uri": "https://localhost:8080/"
        },
        "id": "WMHDaj4gjX7-",
        "outputId": "e80961bf-ff3b-478e-a496-7f679c805f6c"
      },
      "execution_count": 516,
      "outputs": [
        {
          "output_type": "execute_result",
          "data": {
            "text/plain": [
              "np.int64(0)"
            ]
          },
          "metadata": {},
          "execution_count": 516
        }
      ]
    },
    {
      "cell_type": "code",
      "source": [
        "df[\"Num_of_Loan\"].isna().sum()"
      ],
      "metadata": {
        "colab": {
          "base_uri": "https://localhost:8080/"
        },
        "id": "ktOPECLCjbfm",
        "outputId": "54c69ff0-ddd1-44cd-da68-73630ec1d6de"
      },
      "execution_count": 517,
      "outputs": [
        {
          "output_type": "execute_result",
          "data": {
            "text/plain": [
              "np.int64(0)"
            ]
          },
          "metadata": {},
          "execution_count": 517
        }
      ]
    },
    {
      "cell_type": "code",
      "source": [
        "df[\"Num_Bank_Accounts\"].value_counts()"
      ],
      "metadata": {
        "colab": {
          "base_uri": "https://localhost:8080/",
          "height": 489
        },
        "id": "Mo2VUfeVZsmR",
        "outputId": "f853f673-0616-455a-dbb4-4252ce4499d6"
      },
      "execution_count": 518,
      "outputs": [
        {
          "output_type": "execute_result",
          "data": {
            "text/plain": [
              "Num_Bank_Accounts\n",
              "6       13001\n",
              "7       12823\n",
              "8       12765\n",
              "4       12186\n",
              "5       12118\n",
              "        ...  \n",
              "1091        1\n",
              "1123        1\n",
              "1657        1\n",
              "299         1\n",
              "1240        1\n",
              "Name: count, Length: 942, dtype: int64"
            ],
            "text/html": [
              "<div>\n",
              "<style scoped>\n",
              "    .dataframe tbody tr th:only-of-type {\n",
              "        vertical-align: middle;\n",
              "    }\n",
              "\n",
              "    .dataframe tbody tr th {\n",
              "        vertical-align: top;\n",
              "    }\n",
              "\n",
              "    .dataframe thead th {\n",
              "        text-align: right;\n",
              "    }\n",
              "</style>\n",
              "<table border=\"1\" class=\"dataframe\">\n",
              "  <thead>\n",
              "    <tr style=\"text-align: right;\">\n",
              "      <th></th>\n",
              "      <th>count</th>\n",
              "    </tr>\n",
              "    <tr>\n",
              "      <th>Num_Bank_Accounts</th>\n",
              "      <th></th>\n",
              "    </tr>\n",
              "  </thead>\n",
              "  <tbody>\n",
              "    <tr>\n",
              "      <th>6</th>\n",
              "      <td>13001</td>\n",
              "    </tr>\n",
              "    <tr>\n",
              "      <th>7</th>\n",
              "      <td>12823</td>\n",
              "    </tr>\n",
              "    <tr>\n",
              "      <th>8</th>\n",
              "      <td>12765</td>\n",
              "    </tr>\n",
              "    <tr>\n",
              "      <th>4</th>\n",
              "      <td>12186</td>\n",
              "    </tr>\n",
              "    <tr>\n",
              "      <th>5</th>\n",
              "      <td>12118</td>\n",
              "    </tr>\n",
              "    <tr>\n",
              "      <th>...</th>\n",
              "      <td>...</td>\n",
              "    </tr>\n",
              "    <tr>\n",
              "      <th>1091</th>\n",
              "      <td>1</td>\n",
              "    </tr>\n",
              "    <tr>\n",
              "      <th>1123</th>\n",
              "      <td>1</td>\n",
              "    </tr>\n",
              "    <tr>\n",
              "      <th>1657</th>\n",
              "      <td>1</td>\n",
              "    </tr>\n",
              "    <tr>\n",
              "      <th>299</th>\n",
              "      <td>1</td>\n",
              "    </tr>\n",
              "    <tr>\n",
              "      <th>1240</th>\n",
              "      <td>1</td>\n",
              "    </tr>\n",
              "  </tbody>\n",
              "</table>\n",
              "<p>942 rows × 1 columns</p>\n",
              "</div><br><label><b>dtype:</b> int64</label>"
            ]
          },
          "metadata": {},
          "execution_count": 518
        }
      ]
    },
    {
      "cell_type": "code",
      "source": [
        "for col in [\"Num_Bank_Accounts\", \"Num_Credit_Card\", \"Interest_Rate\", \"Num_of_Loan\", \"Num_Credit_Inquiries\"]:\n",
        "    df[col] = df.groupby(\"Customer_ID\")[col].transform(lambda x: x.mode()[0] if not x.mode().empty else x.median())"
      ],
      "metadata": {
        "id": "-d3LBtvdbGIg"
      },
      "execution_count": 519,
      "outputs": []
    },
    {
      "cell_type": "code",
      "source": [
        "df.loc[df[\"Num_Bank_Accounts\"] == 0, \"Num_Credit_Card\"] = 0"
      ],
      "metadata": {
        "id": "Ks2k1Cq_hBF3"
      },
      "execution_count": 520,
      "outputs": []
    },
    {
      "cell_type": "code",
      "source": [
        "df[\"Num_Bank_Accounts\"].value_counts()"
      ],
      "metadata": {
        "colab": {
          "base_uri": "https://localhost:8080/",
          "height": 460
        },
        "id": "MXmwyuo6az3E",
        "outputId": "54ea69d7-484a-4ce8-8e20-c6c8e40abd87"
      },
      "execution_count": 521,
      "outputs": [
        {
          "output_type": "execute_result",
          "data": {
            "text/plain": [
              "Num_Bank_Accounts\n",
              "6     13184\n",
              "7     12976\n",
              "8     12936\n",
              "4     12392\n",
              "5     12272\n",
              "3     12096\n",
              "9      5512\n",
              "10     5328\n",
              "1      4568\n",
              "0      4384\n",
              "2      4352\n",
              "Name: count, dtype: int64"
            ],
            "text/html": [
              "<div>\n",
              "<style scoped>\n",
              "    .dataframe tbody tr th:only-of-type {\n",
              "        vertical-align: middle;\n",
              "    }\n",
              "\n",
              "    .dataframe tbody tr th {\n",
              "        vertical-align: top;\n",
              "    }\n",
              "\n",
              "    .dataframe thead th {\n",
              "        text-align: right;\n",
              "    }\n",
              "</style>\n",
              "<table border=\"1\" class=\"dataframe\">\n",
              "  <thead>\n",
              "    <tr style=\"text-align: right;\">\n",
              "      <th></th>\n",
              "      <th>count</th>\n",
              "    </tr>\n",
              "    <tr>\n",
              "      <th>Num_Bank_Accounts</th>\n",
              "      <th></th>\n",
              "    </tr>\n",
              "  </thead>\n",
              "  <tbody>\n",
              "    <tr>\n",
              "      <th>6</th>\n",
              "      <td>13184</td>\n",
              "    </tr>\n",
              "    <tr>\n",
              "      <th>7</th>\n",
              "      <td>12976</td>\n",
              "    </tr>\n",
              "    <tr>\n",
              "      <th>8</th>\n",
              "      <td>12936</td>\n",
              "    </tr>\n",
              "    <tr>\n",
              "      <th>4</th>\n",
              "      <td>12392</td>\n",
              "    </tr>\n",
              "    <tr>\n",
              "      <th>5</th>\n",
              "      <td>12272</td>\n",
              "    </tr>\n",
              "    <tr>\n",
              "      <th>3</th>\n",
              "      <td>12096</td>\n",
              "    </tr>\n",
              "    <tr>\n",
              "      <th>9</th>\n",
              "      <td>5512</td>\n",
              "    </tr>\n",
              "    <tr>\n",
              "      <th>10</th>\n",
              "      <td>5328</td>\n",
              "    </tr>\n",
              "    <tr>\n",
              "      <th>1</th>\n",
              "      <td>4568</td>\n",
              "    </tr>\n",
              "    <tr>\n",
              "      <th>0</th>\n",
              "      <td>4384</td>\n",
              "    </tr>\n",
              "    <tr>\n",
              "      <th>2</th>\n",
              "      <td>4352</td>\n",
              "    </tr>\n",
              "  </tbody>\n",
              "</table>\n",
              "</div><br><label><b>dtype:</b> int64</label>"
            ]
          },
          "metadata": {},
          "execution_count": 521
        }
      ]
    },
    {
      "cell_type": "code",
      "source": [
        "df[\"Num_Credit_Card\"].value_counts()"
      ],
      "metadata": {
        "colab": {
          "base_uri": "https://localhost:8080/",
          "height": 491
        },
        "id": "dWa09xkZa3dx",
        "outputId": "1b50185f-b09c-47ae-a427-1506eda4f1c5"
      },
      "execution_count": 522,
      "outputs": [
        {
          "output_type": "execute_result",
          "data": {
            "text/plain": [
              "Num_Credit_Card\n",
              "5     17928\n",
              "6     16488\n",
              "7     16400\n",
              "4     13488\n",
              "3     12736\n",
              "8      5088\n",
              "10     4960\n",
              "9      4736\n",
              "0      4400\n",
              "2      1880\n",
              "1      1856\n",
              "11       40\n",
              "Name: count, dtype: int64"
            ],
            "text/html": [
              "<div>\n",
              "<style scoped>\n",
              "    .dataframe tbody tr th:only-of-type {\n",
              "        vertical-align: middle;\n",
              "    }\n",
              "\n",
              "    .dataframe tbody tr th {\n",
              "        vertical-align: top;\n",
              "    }\n",
              "\n",
              "    .dataframe thead th {\n",
              "        text-align: right;\n",
              "    }\n",
              "</style>\n",
              "<table border=\"1\" class=\"dataframe\">\n",
              "  <thead>\n",
              "    <tr style=\"text-align: right;\">\n",
              "      <th></th>\n",
              "      <th>count</th>\n",
              "    </tr>\n",
              "    <tr>\n",
              "      <th>Num_Credit_Card</th>\n",
              "      <th></th>\n",
              "    </tr>\n",
              "  </thead>\n",
              "  <tbody>\n",
              "    <tr>\n",
              "      <th>5</th>\n",
              "      <td>17928</td>\n",
              "    </tr>\n",
              "    <tr>\n",
              "      <th>6</th>\n",
              "      <td>16488</td>\n",
              "    </tr>\n",
              "    <tr>\n",
              "      <th>7</th>\n",
              "      <td>16400</td>\n",
              "    </tr>\n",
              "    <tr>\n",
              "      <th>4</th>\n",
              "      <td>13488</td>\n",
              "    </tr>\n",
              "    <tr>\n",
              "      <th>3</th>\n",
              "      <td>12736</td>\n",
              "    </tr>\n",
              "    <tr>\n",
              "      <th>8</th>\n",
              "      <td>5088</td>\n",
              "    </tr>\n",
              "    <tr>\n",
              "      <th>10</th>\n",
              "      <td>4960</td>\n",
              "    </tr>\n",
              "    <tr>\n",
              "      <th>9</th>\n",
              "      <td>4736</td>\n",
              "    </tr>\n",
              "    <tr>\n",
              "      <th>0</th>\n",
              "      <td>4400</td>\n",
              "    </tr>\n",
              "    <tr>\n",
              "      <th>2</th>\n",
              "      <td>1880</td>\n",
              "    </tr>\n",
              "    <tr>\n",
              "      <th>1</th>\n",
              "      <td>1856</td>\n",
              "    </tr>\n",
              "    <tr>\n",
              "      <th>11</th>\n",
              "      <td>40</td>\n",
              "    </tr>\n",
              "  </tbody>\n",
              "</table>\n",
              "</div><br><label><b>dtype:</b> int64</label>"
            ]
          },
          "metadata": {},
          "execution_count": 522
        }
      ]
    },
    {
      "cell_type": "code",
      "source": [
        "df[\"Interest_Rate\"].value_counts()"
      ],
      "metadata": {
        "colab": {
          "base_uri": "https://localhost:8080/",
          "height": 1000
        },
        "id": "2A0mv7BKijJE",
        "outputId": "5348a2c4-fc63-4a8c-9055-0c013ef25071"
      },
      "execution_count": 523,
      "outputs": [
        {
          "output_type": "execute_result",
          "data": {
            "text/plain": [
              "Interest_Rate\n",
              "8     5104\n",
              "5     5096\n",
              "6     4832\n",
              "12    4648\n",
              "10    4616\n",
              "7     4584\n",
              "9     4576\n",
              "11    4512\n",
              "18    4192\n",
              "15    4072\n",
              "20    4008\n",
              "17    3888\n",
              "16    3800\n",
              "19    3704\n",
              "3     2824\n",
              "1     2744\n",
              "4     2640\n",
              "2     2520\n",
              "13    2432\n",
              "14    2272\n",
              "32    1776\n",
              "22    1752\n",
              "24    1736\n",
              "30    1728\n",
              "23    1720\n",
              "29    1696\n",
              "28    1648\n",
              "27    1640\n",
              "25    1608\n",
              "21    1592\n",
              "26    1528\n",
              "34    1528\n",
              "33    1496\n",
              "31    1488\n",
              "Name: count, dtype: int64"
            ],
            "text/html": [
              "<div>\n",
              "<style scoped>\n",
              "    .dataframe tbody tr th:only-of-type {\n",
              "        vertical-align: middle;\n",
              "    }\n",
              "\n",
              "    .dataframe tbody tr th {\n",
              "        vertical-align: top;\n",
              "    }\n",
              "\n",
              "    .dataframe thead th {\n",
              "        text-align: right;\n",
              "    }\n",
              "</style>\n",
              "<table border=\"1\" class=\"dataframe\">\n",
              "  <thead>\n",
              "    <tr style=\"text-align: right;\">\n",
              "      <th></th>\n",
              "      <th>count</th>\n",
              "    </tr>\n",
              "    <tr>\n",
              "      <th>Interest_Rate</th>\n",
              "      <th></th>\n",
              "    </tr>\n",
              "  </thead>\n",
              "  <tbody>\n",
              "    <tr>\n",
              "      <th>8</th>\n",
              "      <td>5104</td>\n",
              "    </tr>\n",
              "    <tr>\n",
              "      <th>5</th>\n",
              "      <td>5096</td>\n",
              "    </tr>\n",
              "    <tr>\n",
              "      <th>6</th>\n",
              "      <td>4832</td>\n",
              "    </tr>\n",
              "    <tr>\n",
              "      <th>12</th>\n",
              "      <td>4648</td>\n",
              "    </tr>\n",
              "    <tr>\n",
              "      <th>10</th>\n",
              "      <td>4616</td>\n",
              "    </tr>\n",
              "    <tr>\n",
              "      <th>7</th>\n",
              "      <td>4584</td>\n",
              "    </tr>\n",
              "    <tr>\n",
              "      <th>9</th>\n",
              "      <td>4576</td>\n",
              "    </tr>\n",
              "    <tr>\n",
              "      <th>11</th>\n",
              "      <td>4512</td>\n",
              "    </tr>\n",
              "    <tr>\n",
              "      <th>18</th>\n",
              "      <td>4192</td>\n",
              "    </tr>\n",
              "    <tr>\n",
              "      <th>15</th>\n",
              "      <td>4072</td>\n",
              "    </tr>\n",
              "    <tr>\n",
              "      <th>20</th>\n",
              "      <td>4008</td>\n",
              "    </tr>\n",
              "    <tr>\n",
              "      <th>17</th>\n",
              "      <td>3888</td>\n",
              "    </tr>\n",
              "    <tr>\n",
              "      <th>16</th>\n",
              "      <td>3800</td>\n",
              "    </tr>\n",
              "    <tr>\n",
              "      <th>19</th>\n",
              "      <td>3704</td>\n",
              "    </tr>\n",
              "    <tr>\n",
              "      <th>3</th>\n",
              "      <td>2824</td>\n",
              "    </tr>\n",
              "    <tr>\n",
              "      <th>1</th>\n",
              "      <td>2744</td>\n",
              "    </tr>\n",
              "    <tr>\n",
              "      <th>4</th>\n",
              "      <td>2640</td>\n",
              "    </tr>\n",
              "    <tr>\n",
              "      <th>2</th>\n",
              "      <td>2520</td>\n",
              "    </tr>\n",
              "    <tr>\n",
              "      <th>13</th>\n",
              "      <td>2432</td>\n",
              "    </tr>\n",
              "    <tr>\n",
              "      <th>14</th>\n",
              "      <td>2272</td>\n",
              "    </tr>\n",
              "    <tr>\n",
              "      <th>32</th>\n",
              "      <td>1776</td>\n",
              "    </tr>\n",
              "    <tr>\n",
              "      <th>22</th>\n",
              "      <td>1752</td>\n",
              "    </tr>\n",
              "    <tr>\n",
              "      <th>24</th>\n",
              "      <td>1736</td>\n",
              "    </tr>\n",
              "    <tr>\n",
              "      <th>30</th>\n",
              "      <td>1728</td>\n",
              "    </tr>\n",
              "    <tr>\n",
              "      <th>23</th>\n",
              "      <td>1720</td>\n",
              "    </tr>\n",
              "    <tr>\n",
              "      <th>29</th>\n",
              "      <td>1696</td>\n",
              "    </tr>\n",
              "    <tr>\n",
              "      <th>28</th>\n",
              "      <td>1648</td>\n",
              "    </tr>\n",
              "    <tr>\n",
              "      <th>27</th>\n",
              "      <td>1640</td>\n",
              "    </tr>\n",
              "    <tr>\n",
              "      <th>25</th>\n",
              "      <td>1608</td>\n",
              "    </tr>\n",
              "    <tr>\n",
              "      <th>21</th>\n",
              "      <td>1592</td>\n",
              "    </tr>\n",
              "    <tr>\n",
              "      <th>26</th>\n",
              "      <td>1528</td>\n",
              "    </tr>\n",
              "    <tr>\n",
              "      <th>34</th>\n",
              "      <td>1528</td>\n",
              "    </tr>\n",
              "    <tr>\n",
              "      <th>33</th>\n",
              "      <td>1496</td>\n",
              "    </tr>\n",
              "    <tr>\n",
              "      <th>31</th>\n",
              "      <td>1488</td>\n",
              "    </tr>\n",
              "  </tbody>\n",
              "</table>\n",
              "</div><br><label><b>dtype:</b> int64</label>"
            ]
          },
          "metadata": {},
          "execution_count": 523
        }
      ]
    },
    {
      "cell_type": "code",
      "source": [
        "df[\"Num_of_Loan\"].value_counts()"
      ],
      "metadata": {
        "colab": {
          "base_uri": "https://localhost:8080/",
          "height": 429
        },
        "id": "dEBwlSRniltP",
        "outputId": "7057f747-4f20-4ce4-ae72-bc475c00663c"
      },
      "execution_count": 524,
      "outputs": [
        {
          "output_type": "execute_result",
          "data": {
            "text/plain": [
              "Num_of_Loan\n",
              "3    15752\n",
              "2    15712\n",
              "4    15456\n",
              "0    11408\n",
              "1    11128\n",
              "6     8144\n",
              "7     7680\n",
              "5     7528\n",
              "9     3856\n",
              "8     3336\n",
              "Name: count, dtype: int64"
            ],
            "text/html": [
              "<div>\n",
              "<style scoped>\n",
              "    .dataframe tbody tr th:only-of-type {\n",
              "        vertical-align: middle;\n",
              "    }\n",
              "\n",
              "    .dataframe tbody tr th {\n",
              "        vertical-align: top;\n",
              "    }\n",
              "\n",
              "    .dataframe thead th {\n",
              "        text-align: right;\n",
              "    }\n",
              "</style>\n",
              "<table border=\"1\" class=\"dataframe\">\n",
              "  <thead>\n",
              "    <tr style=\"text-align: right;\">\n",
              "      <th></th>\n",
              "      <th>count</th>\n",
              "    </tr>\n",
              "    <tr>\n",
              "      <th>Num_of_Loan</th>\n",
              "      <th></th>\n",
              "    </tr>\n",
              "  </thead>\n",
              "  <tbody>\n",
              "    <tr>\n",
              "      <th>3</th>\n",
              "      <td>15752</td>\n",
              "    </tr>\n",
              "    <tr>\n",
              "      <th>2</th>\n",
              "      <td>15712</td>\n",
              "    </tr>\n",
              "    <tr>\n",
              "      <th>4</th>\n",
              "      <td>15456</td>\n",
              "    </tr>\n",
              "    <tr>\n",
              "      <th>0</th>\n",
              "      <td>11408</td>\n",
              "    </tr>\n",
              "    <tr>\n",
              "      <th>1</th>\n",
              "      <td>11128</td>\n",
              "    </tr>\n",
              "    <tr>\n",
              "      <th>6</th>\n",
              "      <td>8144</td>\n",
              "    </tr>\n",
              "    <tr>\n",
              "      <th>7</th>\n",
              "      <td>7680</td>\n",
              "    </tr>\n",
              "    <tr>\n",
              "      <th>5</th>\n",
              "      <td>7528</td>\n",
              "    </tr>\n",
              "    <tr>\n",
              "      <th>9</th>\n",
              "      <td>3856</td>\n",
              "    </tr>\n",
              "    <tr>\n",
              "      <th>8</th>\n",
              "      <td>3336</td>\n",
              "    </tr>\n",
              "  </tbody>\n",
              "</table>\n",
              "</div><br><label><b>dtype:</b> int64</label>"
            ]
          },
          "metadata": {},
          "execution_count": 524
        }
      ]
    },
    {
      "cell_type": "code",
      "source": [
        "df.info()"
      ],
      "metadata": {
        "colab": {
          "base_uri": "https://localhost:8080/"
        },
        "id": "qw1Udysxa-xQ",
        "outputId": "68d70234-20ce-432f-822a-f4fe88beb57b"
      },
      "execution_count": 525,
      "outputs": [
        {
          "output_type": "stream",
          "name": "stdout",
          "text": [
            "<class 'pandas.core.frame.DataFrame'>\n",
            "RangeIndex: 100000 entries, 0 to 99999\n",
            "Data columns (total 24 columns):\n",
            " #   Column                    Non-Null Count   Dtype  \n",
            "---  ------                    --------------   -----  \n",
            " 0   Customer_ID               100000 non-null  object \n",
            " 1   Age                       100000 non-null  int64  \n",
            " 2   Occupation                100000 non-null  int64  \n",
            " 3   Annual_Income             100000 non-null  float64\n",
            " 4   Monthly_Inhand_Salary     100000 non-null  float64\n",
            " 5   Num_Bank_Accounts         100000 non-null  int64  \n",
            " 6   Num_Credit_Card           100000 non-null  int64  \n",
            " 7   Interest_Rate             100000 non-null  int64  \n",
            " 8   Num_of_Loan               100000 non-null  int64  \n",
            " 9   Type_of_Loan              88592 non-null   object \n",
            " 10  Delay_from_due_date       100000 non-null  int64  \n",
            " 11  Num_of_Delayed_Payment    92998 non-null   float64\n",
            " 12  Changed_Credit_Limit      100000 non-null  object \n",
            " 13  Num_Credit_Inquiries      100000 non-null  float64\n",
            " 14  Credit_Mix                100000 non-null  object \n",
            " 15  Outstanding_Debt          100000 non-null  float64\n",
            " 16  Credit_Utilization_Ratio  100000 non-null  float64\n",
            " 17  Credit_History_Age        90970 non-null   object \n",
            " 18  Payment_of_Min_Amount     100000 non-null  object \n",
            " 19  Total_EMI_per_month       100000 non-null  float64\n",
            " 20  Amount_invested_monthly   95521 non-null   float64\n",
            " 21  Payment_Behaviour         100000 non-null  object \n",
            " 22  Monthly_Balance           98800 non-null   float64\n",
            " 23  Credit_Score              100000 non-null  object \n",
            "dtypes: float64(9), int64(7), object(8)\n",
            "memory usage: 18.3+ MB\n"
          ]
        }
      ]
    },
    {
      "cell_type": "code",
      "source": [
        "df[\"Type_of_Loan\"].isna().sum()"
      ],
      "metadata": {
        "colab": {
          "base_uri": "https://localhost:8080/"
        },
        "id": "-yFtb_taj_fn",
        "outputId": "9168d02f-58bb-43f8-8bfc-423d25e4ad28"
      },
      "execution_count": 526,
      "outputs": [
        {
          "output_type": "execute_result",
          "data": {
            "text/plain": [
              "np.int64(11408)"
            ]
          },
          "metadata": {},
          "execution_count": 526
        }
      ]
    },
    {
      "cell_type": "code",
      "source": [
        "df[\"Type_of_Loan\"] = df[\"Type_of_Loan\"].fillna(\"Not Specified\")"
      ],
      "metadata": {
        "id": "VGfNtN-6rq7L"
      },
      "execution_count": 527,
      "outputs": []
    },
    {
      "cell_type": "code",
      "source": [
        "def clean_loans(x):\n",
        "    x = str(x).replace(\"and \", \"\")\n",
        "    x = x.strip().strip(\",\")\n",
        "    loans = [loan.strip() for loan in x.split(\",\") if loan.strip()]\n",
        "    loans = [loan for loan in loans if loan.lower() != \"nan\"]\n",
        "    return loans\n",
        "\n",
        "df[\"Type_of_Loan\"] = df[\"Type_of_Loan\"].apply(clean_loans)\n"
      ],
      "metadata": {
        "id": "jLmD7d1ckDRD"
      },
      "execution_count": 528,
      "outputs": []
    },
    {
      "cell_type": "code",
      "source": [
        "df[\"Type_of_Loan\"]"
      ],
      "metadata": {
        "colab": {
          "base_uri": "https://localhost:8080/",
          "height": 458
        },
        "id": "nBoSzFzttzUh",
        "outputId": "5e7d2102-f71d-4a17-ed97-be86bfe96f46"
      },
      "execution_count": 529,
      "outputs": [
        {
          "output_type": "execute_result",
          "data": {
            "text/plain": [
              "0        [Auto Loan, Credit-Builder Loan, Personal Loan...\n",
              "1        [Auto Loan, Credit-Builder Loan, Personal Loan...\n",
              "2        [Auto Loan, Credit-Builder Loan, Personal Loan...\n",
              "3        [Auto Loan, Credit-Builder Loan, Personal Loan...\n",
              "4        [Auto Loan, Credit-Builder Loan, Personal Loan...\n",
              "                               ...                        \n",
              "99995                            [Auto Loan, Student Loan]\n",
              "99996                            [Auto Loan, Student Loan]\n",
              "99997                            [Auto Loan, Student Loan]\n",
              "99998                            [Auto Loan, Student Loan]\n",
              "99999                            [Auto Loan, Student Loan]\n",
              "Name: Type_of_Loan, Length: 100000, dtype: object"
            ],
            "text/html": [
              "<div>\n",
              "<style scoped>\n",
              "    .dataframe tbody tr th:only-of-type {\n",
              "        vertical-align: middle;\n",
              "    }\n",
              "\n",
              "    .dataframe tbody tr th {\n",
              "        vertical-align: top;\n",
              "    }\n",
              "\n",
              "    .dataframe thead th {\n",
              "        text-align: right;\n",
              "    }\n",
              "</style>\n",
              "<table border=\"1\" class=\"dataframe\">\n",
              "  <thead>\n",
              "    <tr style=\"text-align: right;\">\n",
              "      <th></th>\n",
              "      <th>Type_of_Loan</th>\n",
              "    </tr>\n",
              "  </thead>\n",
              "  <tbody>\n",
              "    <tr>\n",
              "      <th>0</th>\n",
              "      <td>[Auto Loan, Credit-Builder Loan, Personal Loan...</td>\n",
              "    </tr>\n",
              "    <tr>\n",
              "      <th>1</th>\n",
              "      <td>[Auto Loan, Credit-Builder Loan, Personal Loan...</td>\n",
              "    </tr>\n",
              "    <tr>\n",
              "      <th>2</th>\n",
              "      <td>[Auto Loan, Credit-Builder Loan, Personal Loan...</td>\n",
              "    </tr>\n",
              "    <tr>\n",
              "      <th>3</th>\n",
              "      <td>[Auto Loan, Credit-Builder Loan, Personal Loan...</td>\n",
              "    </tr>\n",
              "    <tr>\n",
              "      <th>4</th>\n",
              "      <td>[Auto Loan, Credit-Builder Loan, Personal Loan...</td>\n",
              "    </tr>\n",
              "    <tr>\n",
              "      <th>...</th>\n",
              "      <td>...</td>\n",
              "    </tr>\n",
              "    <tr>\n",
              "      <th>99995</th>\n",
              "      <td>[Auto Loan, Student Loan]</td>\n",
              "    </tr>\n",
              "    <tr>\n",
              "      <th>99996</th>\n",
              "      <td>[Auto Loan, Student Loan]</td>\n",
              "    </tr>\n",
              "    <tr>\n",
              "      <th>99997</th>\n",
              "      <td>[Auto Loan, Student Loan]</td>\n",
              "    </tr>\n",
              "    <tr>\n",
              "      <th>99998</th>\n",
              "      <td>[Auto Loan, Student Loan]</td>\n",
              "    </tr>\n",
              "    <tr>\n",
              "      <th>99999</th>\n",
              "      <td>[Auto Loan, Student Loan]</td>\n",
              "    </tr>\n",
              "  </tbody>\n",
              "</table>\n",
              "<p>100000 rows × 1 columns</p>\n",
              "</div><br><label><b>dtype:</b> object</label>"
            ]
          },
          "metadata": {},
          "execution_count": 529
        }
      ]
    },
    {
      "cell_type": "code",
      "source": [
        "mlb = MultiLabelBinarizer()\n",
        "loan_dummies = pd.DataFrame(\n",
        "    mlb.fit_transform(df[\"Type_of_Loan\"]),\n",
        "    columns=[f\"Loan_{c}\" for c in mlb.classes_],\n",
        "    index=df.index\n",
        "    )\n",
        "\n",
        "df = df.join(loan_dummies)\n",
        "df = df.drop(columns=[\"Type_of_Loan\"])\n"
      ],
      "metadata": {
        "id": "jU9Dyz94qSS6"
      },
      "execution_count": 530,
      "outputs": []
    },
    {
      "cell_type": "code",
      "source": [
        "df.info()"
      ],
      "metadata": {
        "colab": {
          "base_uri": "https://localhost:8080/"
        },
        "id": "HDKBdclDs8Az",
        "outputId": "669b7b1a-dbfc-4f59-b4d5-52c9dc9d21a6"
      },
      "execution_count": 531,
      "outputs": [
        {
          "output_type": "stream",
          "name": "stdout",
          "text": [
            "<class 'pandas.core.frame.DataFrame'>\n",
            "RangeIndex: 100000 entries, 0 to 99999\n",
            "Data columns (total 32 columns):\n",
            " #   Column                        Non-Null Count   Dtype  \n",
            "---  ------                        --------------   -----  \n",
            " 0   Customer_ID                   100000 non-null  object \n",
            " 1   Age                           100000 non-null  int64  \n",
            " 2   Occupation                    100000 non-null  int64  \n",
            " 3   Annual_Income                 100000 non-null  float64\n",
            " 4   Monthly_Inhand_Salary         100000 non-null  float64\n",
            " 5   Num_Bank_Accounts             100000 non-null  int64  \n",
            " 6   Num_Credit_Card               100000 non-null  int64  \n",
            " 7   Interest_Rate                 100000 non-null  int64  \n",
            " 8   Num_of_Loan                   100000 non-null  int64  \n",
            " 9   Delay_from_due_date           100000 non-null  int64  \n",
            " 10  Num_of_Delayed_Payment        92998 non-null   float64\n",
            " 11  Changed_Credit_Limit          100000 non-null  object \n",
            " 12  Num_Credit_Inquiries          100000 non-null  float64\n",
            " 13  Credit_Mix                    100000 non-null  object \n",
            " 14  Outstanding_Debt              100000 non-null  float64\n",
            " 15  Credit_Utilization_Ratio      100000 non-null  float64\n",
            " 16  Credit_History_Age            90970 non-null   object \n",
            " 17  Payment_of_Min_Amount         100000 non-null  object \n",
            " 18  Total_EMI_per_month           100000 non-null  float64\n",
            " 19  Amount_invested_monthly       95521 non-null   float64\n",
            " 20  Payment_Behaviour             100000 non-null  object \n",
            " 21  Monthly_Balance               98800 non-null   float64\n",
            " 22  Credit_Score                  100000 non-null  object \n",
            " 23  Loan_Auto Loan                100000 non-null  int64  \n",
            " 24  Loan_Credit-Builder Loan      100000 non-null  int64  \n",
            " 25  Loan_Debt Consolidation Loan  100000 non-null  int64  \n",
            " 26  Loan_Home Equity Loan         100000 non-null  int64  \n",
            " 27  Loan_Mortgage Loan            100000 non-null  int64  \n",
            " 28  Loan_Not Specified            100000 non-null  int64  \n",
            " 29  Loan_Payday Loan              100000 non-null  int64  \n",
            " 30  Loan_Personal Loan            100000 non-null  int64  \n",
            " 31  Loan_Student Loan             100000 non-null  int64  \n",
            "dtypes: float64(9), int64(16), object(7)\n",
            "memory usage: 24.4+ MB\n"
          ]
        }
      ]
    },
    {
      "cell_type": "code",
      "source": [
        "df[\"Delay_from_due_date\"].isna().sum()"
      ],
      "metadata": {
        "colab": {
          "base_uri": "https://localhost:8080/"
        },
        "id": "Gf8gd_w8w3qP",
        "outputId": "4ca9b1cb-8331-477b-b937-bdf9396966c8"
      },
      "execution_count": 532,
      "outputs": [
        {
          "output_type": "execute_result",
          "data": {
            "text/plain": [
              "np.int64(0)"
            ]
          },
          "metadata": {},
          "execution_count": 532
        }
      ]
    },
    {
      "cell_type": "code",
      "source": [
        "df[\"Delay_from_due_date\"][1]"
      ],
      "metadata": {
        "colab": {
          "base_uri": "https://localhost:8080/"
        },
        "id": "zCNH_8ypxIFh",
        "outputId": "832d4937-5754-4b20-95c7-9d3a407c76e5"
      },
      "execution_count": 533,
      "outputs": [
        {
          "output_type": "execute_result",
          "data": {
            "text/plain": [
              "np.int64(-1)"
            ]
          },
          "metadata": {},
          "execution_count": 533
        }
      ]
    },
    {
      "cell_type": "code",
      "source": [
        "df.loc[df[\"Delay_from_due_date\"] < 0, \"Delay_from_due_date\"] = 0"
      ],
      "metadata": {
        "id": "UDxc8-d5xPVQ"
      },
      "execution_count": 534,
      "outputs": []
    },
    {
      "cell_type": "code",
      "source": [
        "df[\"Num_of_Delayed_Payment\"].isna().sum()"
      ],
      "metadata": {
        "colab": {
          "base_uri": "https://localhost:8080/"
        },
        "id": "OXfs5aD7vsTp",
        "outputId": "32a6a742-aa78-4c00-d49e-b2a94dbb91fd"
      },
      "execution_count": 535,
      "outputs": [
        {
          "output_type": "execute_result",
          "data": {
            "text/plain": [
              "np.int64(7002)"
            ]
          },
          "metadata": {},
          "execution_count": 535
        }
      ]
    },
    {
      "cell_type": "code",
      "source": [
        "df[\"Num_of_Delayed_Payment\"].fillna(df[\"Num_of_Delayed_Payment\"].median(), inplace=True)"
      ],
      "metadata": {
        "id": "ukYB5qcEwubd",
        "colab": {
          "base_uri": "https://localhost:8080/"
        },
        "outputId": "6f71c0b4-6480-4230-898e-e212802caffb"
      },
      "execution_count": 536,
      "outputs": [
        {
          "output_type": "stream",
          "name": "stderr",
          "text": [
            "/tmp/ipython-input-1316753926.py:1: FutureWarning: A value is trying to be set on a copy of a DataFrame or Series through chained assignment using an inplace method.\n",
            "The behavior will change in pandas 3.0. This inplace method will never work because the intermediate object on which we are setting values always behaves as a copy.\n",
            "\n",
            "For example, when doing 'df[col].method(value, inplace=True)', try using 'df.method({col: value}, inplace=True)' or df[col] = df[col].method(value) instead, to perform the operation inplace on the original object.\n",
            "\n",
            "\n",
            "  df[\"Num_of_Delayed_Payment\"].fillna(df[\"Num_of_Delayed_Payment\"].median(), inplace=True)\n"
          ]
        }
      ]
    },
    {
      "cell_type": "code",
      "source": [
        "df[\"Num_of_Delayed_Payment\"].isna().sum()"
      ],
      "metadata": {
        "colab": {
          "base_uri": "https://localhost:8080/"
        },
        "id": "gxzYIZDkxFWK",
        "outputId": "d32ee5eb-fc2f-45de-a81b-97cce4d45061"
      },
      "execution_count": 537,
      "outputs": [
        {
          "output_type": "execute_result",
          "data": {
            "text/plain": [
              "np.int64(0)"
            ]
          },
          "metadata": {},
          "execution_count": 537
        }
      ]
    },
    {
      "cell_type": "code",
      "source": [
        "df.info()"
      ],
      "metadata": {
        "colab": {
          "base_uri": "https://localhost:8080/"
        },
        "id": "5H7qYxG7xhdJ",
        "outputId": "6831c442-9192-4276-a2a8-dbcbf8b849d9"
      },
      "execution_count": 538,
      "outputs": [
        {
          "output_type": "stream",
          "name": "stdout",
          "text": [
            "<class 'pandas.core.frame.DataFrame'>\n",
            "RangeIndex: 100000 entries, 0 to 99999\n",
            "Data columns (total 32 columns):\n",
            " #   Column                        Non-Null Count   Dtype  \n",
            "---  ------                        --------------   -----  \n",
            " 0   Customer_ID                   100000 non-null  object \n",
            " 1   Age                           100000 non-null  int64  \n",
            " 2   Occupation                    100000 non-null  int64  \n",
            " 3   Annual_Income                 100000 non-null  float64\n",
            " 4   Monthly_Inhand_Salary         100000 non-null  float64\n",
            " 5   Num_Bank_Accounts             100000 non-null  int64  \n",
            " 6   Num_Credit_Card               100000 non-null  int64  \n",
            " 7   Interest_Rate                 100000 non-null  int64  \n",
            " 8   Num_of_Loan                   100000 non-null  int64  \n",
            " 9   Delay_from_due_date           100000 non-null  int64  \n",
            " 10  Num_of_Delayed_Payment        100000 non-null  float64\n",
            " 11  Changed_Credit_Limit          100000 non-null  object \n",
            " 12  Num_Credit_Inquiries          100000 non-null  float64\n",
            " 13  Credit_Mix                    100000 non-null  object \n",
            " 14  Outstanding_Debt              100000 non-null  float64\n",
            " 15  Credit_Utilization_Ratio      100000 non-null  float64\n",
            " 16  Credit_History_Age            90970 non-null   object \n",
            " 17  Payment_of_Min_Amount         100000 non-null  object \n",
            " 18  Total_EMI_per_month           100000 non-null  float64\n",
            " 19  Amount_invested_monthly       95521 non-null   float64\n",
            " 20  Payment_Behaviour             100000 non-null  object \n",
            " 21  Monthly_Balance               98800 non-null   float64\n",
            " 22  Credit_Score                  100000 non-null  object \n",
            " 23  Loan_Auto Loan                100000 non-null  int64  \n",
            " 24  Loan_Credit-Builder Loan      100000 non-null  int64  \n",
            " 25  Loan_Debt Consolidation Loan  100000 non-null  int64  \n",
            " 26  Loan_Home Equity Loan         100000 non-null  int64  \n",
            " 27  Loan_Mortgage Loan            100000 non-null  int64  \n",
            " 28  Loan_Not Specified            100000 non-null  int64  \n",
            " 29  Loan_Payday Loan              100000 non-null  int64  \n",
            " 30  Loan_Personal Loan            100000 non-null  int64  \n",
            " 31  Loan_Student Loan             100000 non-null  int64  \n",
            "dtypes: float64(9), int64(16), object(7)\n",
            "memory usage: 24.4+ MB\n"
          ]
        }
      ]
    },
    {
      "cell_type": "code",
      "source": [
        "df[\"Changed_Credit_Limit\"] = df[\"Changed_Credit_Limit\"].astype(str).str.replace(r\"[^0-9.-]\", \"\", regex=True)\n",
        "df[\"Changed_Credit_Limit\"] = pd.to_numeric(df[\"Changed_Credit_Limit\"], errors=\"coerce\")"
      ],
      "metadata": {
        "id": "NYmFC1Miia3q"
      },
      "execution_count": 539,
      "outputs": []
    },
    {
      "cell_type": "code",
      "source": [
        "df[\"Changed_Credit_Limit\"] = df.groupby(\"Customer_ID\")[\"Changed_Credit_Limit\"].transform(lambda x: x.fillna(x.median()))\n",
        "df[\"Changed_Credit_Limit\"] = df[\"Changed_Credit_Limit\"].fillna(df[\"Changed_Credit_Limit\"].median())"
      ],
      "metadata": {
        "id": "0TI63-sBiqnW"
      },
      "execution_count": 540,
      "outputs": []
    },
    {
      "cell_type": "code",
      "source": [
        "df[\"Num_Credit_Inquiries\"].value_counts()"
      ],
      "metadata": {
        "id": "gY8U0pcNyTQ-",
        "colab": {
          "base_uri": "https://localhost:8080/",
          "height": 680
        },
        "outputId": "af0fd8f1-42df-45d5-9631-702657128a9f"
      },
      "execution_count": 541,
      "outputs": [
        {
          "output_type": "execute_result",
          "data": {
            "text/plain": [
              "Num_Credit_Inquiries\n",
              "4.0     11936\n",
              "3.0      9416\n",
              "2.0      8568\n",
              "7.0      8416\n",
              "6.0      8264\n",
              "8.0      8152\n",
              "1.0      8104\n",
              "0.0      7504\n",
              "5.0      5728\n",
              "9.0      5304\n",
              "11.0     5280\n",
              "10.0     5016\n",
              "12.0     4592\n",
              "13.0     1344\n",
              "14.0      960\n",
              "15.0      728\n",
              "16.0      416\n",
              "17.0      272\n",
              "Name: count, dtype: int64"
            ],
            "text/html": [
              "<div>\n",
              "<style scoped>\n",
              "    .dataframe tbody tr th:only-of-type {\n",
              "        vertical-align: middle;\n",
              "    }\n",
              "\n",
              "    .dataframe tbody tr th {\n",
              "        vertical-align: top;\n",
              "    }\n",
              "\n",
              "    .dataframe thead th {\n",
              "        text-align: right;\n",
              "    }\n",
              "</style>\n",
              "<table border=\"1\" class=\"dataframe\">\n",
              "  <thead>\n",
              "    <tr style=\"text-align: right;\">\n",
              "      <th></th>\n",
              "      <th>count</th>\n",
              "    </tr>\n",
              "    <tr>\n",
              "      <th>Num_Credit_Inquiries</th>\n",
              "      <th></th>\n",
              "    </tr>\n",
              "  </thead>\n",
              "  <tbody>\n",
              "    <tr>\n",
              "      <th>4.0</th>\n",
              "      <td>11936</td>\n",
              "    </tr>\n",
              "    <tr>\n",
              "      <th>3.0</th>\n",
              "      <td>9416</td>\n",
              "    </tr>\n",
              "    <tr>\n",
              "      <th>2.0</th>\n",
              "      <td>8568</td>\n",
              "    </tr>\n",
              "    <tr>\n",
              "      <th>7.0</th>\n",
              "      <td>8416</td>\n",
              "    </tr>\n",
              "    <tr>\n",
              "      <th>6.0</th>\n",
              "      <td>8264</td>\n",
              "    </tr>\n",
              "    <tr>\n",
              "      <th>8.0</th>\n",
              "      <td>8152</td>\n",
              "    </tr>\n",
              "    <tr>\n",
              "      <th>1.0</th>\n",
              "      <td>8104</td>\n",
              "    </tr>\n",
              "    <tr>\n",
              "      <th>0.0</th>\n",
              "      <td>7504</td>\n",
              "    </tr>\n",
              "    <tr>\n",
              "      <th>5.0</th>\n",
              "      <td>5728</td>\n",
              "    </tr>\n",
              "    <tr>\n",
              "      <th>9.0</th>\n",
              "      <td>5304</td>\n",
              "    </tr>\n",
              "    <tr>\n",
              "      <th>11.0</th>\n",
              "      <td>5280</td>\n",
              "    </tr>\n",
              "    <tr>\n",
              "      <th>10.0</th>\n",
              "      <td>5016</td>\n",
              "    </tr>\n",
              "    <tr>\n",
              "      <th>12.0</th>\n",
              "      <td>4592</td>\n",
              "    </tr>\n",
              "    <tr>\n",
              "      <th>13.0</th>\n",
              "      <td>1344</td>\n",
              "    </tr>\n",
              "    <tr>\n",
              "      <th>14.0</th>\n",
              "      <td>960</td>\n",
              "    </tr>\n",
              "    <tr>\n",
              "      <th>15.0</th>\n",
              "      <td>728</td>\n",
              "    </tr>\n",
              "    <tr>\n",
              "      <th>16.0</th>\n",
              "      <td>416</td>\n",
              "    </tr>\n",
              "    <tr>\n",
              "      <th>17.0</th>\n",
              "      <td>272</td>\n",
              "    </tr>\n",
              "  </tbody>\n",
              "</table>\n",
              "</div><br><label><b>dtype:</b> int64</label>"
            ]
          },
          "metadata": {},
          "execution_count": 541
        }
      ]
    },
    {
      "cell_type": "code",
      "source": [
        "df[\"Credit_Mix\"].value_counts()"
      ],
      "metadata": {
        "colab": {
          "base_uri": "https://localhost:8080/",
          "height": 241
        },
        "id": "E0DsDdWzb8fz",
        "outputId": "2c2e87f4-0bde-423f-e566-3a42bcbdcbc0"
      },
      "execution_count": 542,
      "outputs": [
        {
          "output_type": "execute_result",
          "data": {
            "text/plain": [
              "Credit_Mix\n",
              "Standard    36479\n",
              "Good        24337\n",
              "_           20195\n",
              "Bad         18989\n",
              "Name: count, dtype: int64"
            ],
            "text/html": [
              "<div>\n",
              "<style scoped>\n",
              "    .dataframe tbody tr th:only-of-type {\n",
              "        vertical-align: middle;\n",
              "    }\n",
              "\n",
              "    .dataframe tbody tr th {\n",
              "        vertical-align: top;\n",
              "    }\n",
              "\n",
              "    .dataframe thead th {\n",
              "        text-align: right;\n",
              "    }\n",
              "</style>\n",
              "<table border=\"1\" class=\"dataframe\">\n",
              "  <thead>\n",
              "    <tr style=\"text-align: right;\">\n",
              "      <th></th>\n",
              "      <th>count</th>\n",
              "    </tr>\n",
              "    <tr>\n",
              "      <th>Credit_Mix</th>\n",
              "      <th></th>\n",
              "    </tr>\n",
              "  </thead>\n",
              "  <tbody>\n",
              "    <tr>\n",
              "      <th>Standard</th>\n",
              "      <td>36479</td>\n",
              "    </tr>\n",
              "    <tr>\n",
              "      <th>Good</th>\n",
              "      <td>24337</td>\n",
              "    </tr>\n",
              "    <tr>\n",
              "      <th>_</th>\n",
              "      <td>20195</td>\n",
              "    </tr>\n",
              "    <tr>\n",
              "      <th>Bad</th>\n",
              "      <td>18989</td>\n",
              "    </tr>\n",
              "  </tbody>\n",
              "</table>\n",
              "</div><br><label><b>dtype:</b> int64</label>"
            ]
          },
          "metadata": {},
          "execution_count": 542
        }
      ]
    },
    {
      "cell_type": "code",
      "source": [
        "df[\"Credit_Mix\"] = df[\"Credit_Mix\"].replace(0, np.nan)"
      ],
      "metadata": {
        "id": "Hru5GIbmd_Tz"
      },
      "execution_count": 543,
      "outputs": []
    },
    {
      "cell_type": "code",
      "source": [
        "df[\"Credit_Mix\"] = df[\"Credit_Mix\"].replace(\"_\", np.nan)"
      ],
      "metadata": {
        "id": "cmeHjW3mcLyD"
      },
      "execution_count": 544,
      "outputs": []
    },
    {
      "cell_type": "code",
      "source": [
        "df[\"Credit_Mix\"] = df.groupby(\"Customer_ID\")[\"Credit_Mix\"].transform(lambda x: x.mode()[0] if not x.mode().empty else \"Standard\")"
      ],
      "metadata": {
        "id": "viUAgpZ-cuvy"
      },
      "execution_count": 545,
      "outputs": []
    },
    {
      "cell_type": "code",
      "source": [
        "df[\"Credit_Mix\"].value_counts()"
      ],
      "metadata": {
        "colab": {
          "base_uri": "https://localhost:8080/",
          "height": 209
        },
        "id": "-i8hbEIPdsEX",
        "outputId": "b1f6656b-ddc7-4cdd-98e8-a7630ce9b3ca"
      },
      "execution_count": 546,
      "outputs": [
        {
          "output_type": "execute_result",
          "data": {
            "text/plain": [
              "Credit_Mix\n",
              "Standard    45848\n",
              "Good        30384\n",
              "Bad         23768\n",
              "Name: count, dtype: int64"
            ],
            "text/html": [
              "<div>\n",
              "<style scoped>\n",
              "    .dataframe tbody tr th:only-of-type {\n",
              "        vertical-align: middle;\n",
              "    }\n",
              "\n",
              "    .dataframe tbody tr th {\n",
              "        vertical-align: top;\n",
              "    }\n",
              "\n",
              "    .dataframe thead th {\n",
              "        text-align: right;\n",
              "    }\n",
              "</style>\n",
              "<table border=\"1\" class=\"dataframe\">\n",
              "  <thead>\n",
              "    <tr style=\"text-align: right;\">\n",
              "      <th></th>\n",
              "      <th>count</th>\n",
              "    </tr>\n",
              "    <tr>\n",
              "      <th>Credit_Mix</th>\n",
              "      <th></th>\n",
              "    </tr>\n",
              "  </thead>\n",
              "  <tbody>\n",
              "    <tr>\n",
              "      <th>Standard</th>\n",
              "      <td>45848</td>\n",
              "    </tr>\n",
              "    <tr>\n",
              "      <th>Good</th>\n",
              "      <td>30384</td>\n",
              "    </tr>\n",
              "    <tr>\n",
              "      <th>Bad</th>\n",
              "      <td>23768</td>\n",
              "    </tr>\n",
              "  </tbody>\n",
              "</table>\n",
              "</div><br><label><b>dtype:</b> int64</label>"
            ]
          },
          "metadata": {},
          "execution_count": 546
        }
      ]
    },
    {
      "cell_type": "code",
      "source": [
        "df[\"Credit_Mix\"] = df[\"Credit_Mix\"].fillna(df[\"Credit_Mix\"].mode()[0])\n",
        "\n",
        "# (Bad < Standard < Good)\n",
        "credit_mix_order = [[\"Bad\", \"Standard\", \"Good\"]]\n",
        "\n",
        "encoder = OrdinalEncoder(categories=credit_mix_order)\n",
        "df[\"Credit_Mix\"] = encoder.fit_transform(df[[\"Credit_Mix\"]])"
      ],
      "metadata": {
        "id": "zl1lOH9_duQq"
      },
      "execution_count": 547,
      "outputs": []
    },
    {
      "cell_type": "code",
      "source": [
        "df[\"Credit_Mix\"].value_counts()"
      ],
      "metadata": {
        "colab": {
          "base_uri": "https://localhost:8080/",
          "height": 209
        },
        "id": "wK8ufTxlfHWa",
        "outputId": "eb25a6b0-68f2-4109-9ab8-b1cea3d7d021"
      },
      "execution_count": 548,
      "outputs": [
        {
          "output_type": "execute_result",
          "data": {
            "text/plain": [
              "Credit_Mix\n",
              "1.0    45848\n",
              "2.0    30384\n",
              "0.0    23768\n",
              "Name: count, dtype: int64"
            ],
            "text/html": [
              "<div>\n",
              "<style scoped>\n",
              "    .dataframe tbody tr th:only-of-type {\n",
              "        vertical-align: middle;\n",
              "    }\n",
              "\n",
              "    .dataframe tbody tr th {\n",
              "        vertical-align: top;\n",
              "    }\n",
              "\n",
              "    .dataframe thead th {\n",
              "        text-align: right;\n",
              "    }\n",
              "</style>\n",
              "<table border=\"1\" class=\"dataframe\">\n",
              "  <thead>\n",
              "    <tr style=\"text-align: right;\">\n",
              "      <th></th>\n",
              "      <th>count</th>\n",
              "    </tr>\n",
              "    <tr>\n",
              "      <th>Credit_Mix</th>\n",
              "      <th></th>\n",
              "    </tr>\n",
              "  </thead>\n",
              "  <tbody>\n",
              "    <tr>\n",
              "      <th>1.0</th>\n",
              "      <td>45848</td>\n",
              "    </tr>\n",
              "    <tr>\n",
              "      <th>2.0</th>\n",
              "      <td>30384</td>\n",
              "    </tr>\n",
              "    <tr>\n",
              "      <th>0.0</th>\n",
              "      <td>23768</td>\n",
              "    </tr>\n",
              "  </tbody>\n",
              "</table>\n",
              "</div><br><label><b>dtype:</b> int64</label>"
            ]
          },
          "metadata": {},
          "execution_count": 548
        }
      ]
    },
    {
      "cell_type": "code",
      "source": [
        "df.info()"
      ],
      "metadata": {
        "colab": {
          "base_uri": "https://localhost:8080/"
        },
        "id": "WKyRCx4Jf21r",
        "outputId": "2400b634-5a64-472a-de36-718905778b7c"
      },
      "execution_count": 549,
      "outputs": [
        {
          "output_type": "stream",
          "name": "stdout",
          "text": [
            "<class 'pandas.core.frame.DataFrame'>\n",
            "RangeIndex: 100000 entries, 0 to 99999\n",
            "Data columns (total 32 columns):\n",
            " #   Column                        Non-Null Count   Dtype  \n",
            "---  ------                        --------------   -----  \n",
            " 0   Customer_ID                   100000 non-null  object \n",
            " 1   Age                           100000 non-null  int64  \n",
            " 2   Occupation                    100000 non-null  int64  \n",
            " 3   Annual_Income                 100000 non-null  float64\n",
            " 4   Monthly_Inhand_Salary         100000 non-null  float64\n",
            " 5   Num_Bank_Accounts             100000 non-null  int64  \n",
            " 6   Num_Credit_Card               100000 non-null  int64  \n",
            " 7   Interest_Rate                 100000 non-null  int64  \n",
            " 8   Num_of_Loan                   100000 non-null  int64  \n",
            " 9   Delay_from_due_date           100000 non-null  int64  \n",
            " 10  Num_of_Delayed_Payment        100000 non-null  float64\n",
            " 11  Changed_Credit_Limit          100000 non-null  float64\n",
            " 12  Num_Credit_Inquiries          100000 non-null  float64\n",
            " 13  Credit_Mix                    100000 non-null  float64\n",
            " 14  Outstanding_Debt              100000 non-null  float64\n",
            " 15  Credit_Utilization_Ratio      100000 non-null  float64\n",
            " 16  Credit_History_Age            90970 non-null   object \n",
            " 17  Payment_of_Min_Amount         100000 non-null  object \n",
            " 18  Total_EMI_per_month           100000 non-null  float64\n",
            " 19  Amount_invested_monthly       95521 non-null   float64\n",
            " 20  Payment_Behaviour             100000 non-null  object \n",
            " 21  Monthly_Balance               98800 non-null   float64\n",
            " 22  Credit_Score                  100000 non-null  object \n",
            " 23  Loan_Auto Loan                100000 non-null  int64  \n",
            " 24  Loan_Credit-Builder Loan      100000 non-null  int64  \n",
            " 25  Loan_Debt Consolidation Loan  100000 non-null  int64  \n",
            " 26  Loan_Home Equity Loan         100000 non-null  int64  \n",
            " 27  Loan_Mortgage Loan            100000 non-null  int64  \n",
            " 28  Loan_Not Specified            100000 non-null  int64  \n",
            " 29  Loan_Payday Loan              100000 non-null  int64  \n",
            " 30  Loan_Personal Loan            100000 non-null  int64  \n",
            " 31  Loan_Student Loan             100000 non-null  int64  \n",
            "dtypes: float64(11), int64(16), object(5)\n",
            "memory usage: 24.4+ MB\n"
          ]
        }
      ]
    },
    {
      "cell_type": "code",
      "source": [
        "df[\"Outstanding_Debt\"] = df.groupby(\"Customer_ID\")[\"Outstanding_Debt\"].transform(lambda x: x.fillna(x.median()))\n",
        "df[\"Outstanding_Debt\"] = df[\"Outstanding_Debt\"].fillna(df[\"Outstanding_Debt\"].median())"
      ],
      "metadata": {
        "id": "jNnPJVqdgL2b"
      },
      "execution_count": 550,
      "outputs": []
    },
    {
      "cell_type": "code",
      "source": [],
      "metadata": {
        "id": "h7bc18njj-lR"
      },
      "execution_count": 550,
      "outputs": []
    },
    {
      "cell_type": "code",
      "source": [
        "def convert_credit_history(x):\n",
        "    try:\n",
        "        parts = x.split()\n",
        "        years = int(parts[0])\n",
        "        months = int(parts[3])\n",
        "        return years * 12 + months\n",
        "    except:\n",
        "        return np.nan\n",
        "\n",
        "df[\"Credit_History_Age_Months\"] = df[\"Credit_History_Age\"].apply(convert_credit_history)\n",
        "df.drop('Credit_History_Age', axis=1, inplace=True)"
      ],
      "metadata": {
        "id": "KTlNx8OQGz20"
      },
      "execution_count": 551,
      "outputs": []
    },
    {
      "cell_type": "code",
      "source": [
        "df['Credit_History_Age_Months'].isna().sum()"
      ],
      "metadata": {
        "colab": {
          "base_uri": "https://localhost:8080/"
        },
        "id": "hxJxlc8kKaVv",
        "outputId": "8a8ad9b4-5908-4290-a4b0-b28ed86cfa8b"
      },
      "execution_count": 552,
      "outputs": [
        {
          "output_type": "execute_result",
          "data": {
            "text/plain": [
              "np.int64(9030)"
            ]
          },
          "metadata": {},
          "execution_count": 552
        }
      ]
    },
    {
      "cell_type": "code",
      "source": [
        "df[\"Credit_History_Age_Months\"] = df[\"Credit_History_Age_Months\"].fillna(df[\"Credit_History_Age_Months\"].median())\n",
        "df[\"Credit_History_Age_Months\"] = df[\"Credit_History_Age_Months\"].astype(int)"
      ],
      "metadata": {
        "id": "Ww6Tr21cIpZk"
      },
      "execution_count": 553,
      "outputs": []
    },
    {
      "cell_type": "code",
      "source": [
        "df['Credit_History_Age_Months'].isna().sum()"
      ],
      "metadata": {
        "colab": {
          "base_uri": "https://localhost:8080/"
        },
        "id": "rZBhRet6Knpc",
        "outputId": "0d9f9ef8-91c5-437f-9270-801563a8b6db"
      },
      "execution_count": 554,
      "outputs": [
        {
          "output_type": "execute_result",
          "data": {
            "text/plain": [
              "np.int64(0)"
            ]
          },
          "metadata": {},
          "execution_count": 554
        }
      ]
    },
    {
      "cell_type": "code",
      "source": [
        "df.info()"
      ],
      "metadata": {
        "colab": {
          "base_uri": "https://localhost:8080/"
        },
        "id": "l9N6IivEYrXw",
        "outputId": "19999a60-924d-4b8f-faee-22787ac1acaf"
      },
      "execution_count": 555,
      "outputs": [
        {
          "output_type": "stream",
          "name": "stdout",
          "text": [
            "<class 'pandas.core.frame.DataFrame'>\n",
            "RangeIndex: 100000 entries, 0 to 99999\n",
            "Data columns (total 32 columns):\n",
            " #   Column                        Non-Null Count   Dtype  \n",
            "---  ------                        --------------   -----  \n",
            " 0   Customer_ID                   100000 non-null  object \n",
            " 1   Age                           100000 non-null  int64  \n",
            " 2   Occupation                    100000 non-null  int64  \n",
            " 3   Annual_Income                 100000 non-null  float64\n",
            " 4   Monthly_Inhand_Salary         100000 non-null  float64\n",
            " 5   Num_Bank_Accounts             100000 non-null  int64  \n",
            " 6   Num_Credit_Card               100000 non-null  int64  \n",
            " 7   Interest_Rate                 100000 non-null  int64  \n",
            " 8   Num_of_Loan                   100000 non-null  int64  \n",
            " 9   Delay_from_due_date           100000 non-null  int64  \n",
            " 10  Num_of_Delayed_Payment        100000 non-null  float64\n",
            " 11  Changed_Credit_Limit          100000 non-null  float64\n",
            " 12  Num_Credit_Inquiries          100000 non-null  float64\n",
            " 13  Credit_Mix                    100000 non-null  float64\n",
            " 14  Outstanding_Debt              100000 non-null  float64\n",
            " 15  Credit_Utilization_Ratio      100000 non-null  float64\n",
            " 16  Payment_of_Min_Amount         100000 non-null  object \n",
            " 17  Total_EMI_per_month           100000 non-null  float64\n",
            " 18  Amount_invested_monthly       95521 non-null   float64\n",
            " 19  Payment_Behaviour             100000 non-null  object \n",
            " 20  Monthly_Balance               98800 non-null   float64\n",
            " 21  Credit_Score                  100000 non-null  object \n",
            " 22  Loan_Auto Loan                100000 non-null  int64  \n",
            " 23  Loan_Credit-Builder Loan      100000 non-null  int64  \n",
            " 24  Loan_Debt Consolidation Loan  100000 non-null  int64  \n",
            " 25  Loan_Home Equity Loan         100000 non-null  int64  \n",
            " 26  Loan_Mortgage Loan            100000 non-null  int64  \n",
            " 27  Loan_Not Specified            100000 non-null  int64  \n",
            " 28  Loan_Payday Loan              100000 non-null  int64  \n",
            " 29  Loan_Personal Loan            100000 non-null  int64  \n",
            " 30  Loan_Student Loan             100000 non-null  int64  \n",
            " 31  Credit_History_Age_Months     100000 non-null  int64  \n",
            "dtypes: float64(11), int64(17), object(4)\n",
            "memory usage: 24.4+ MB\n"
          ]
        }
      ]
    },
    {
      "cell_type": "code",
      "source": [
        "df[\"Payment_of_Min_Amount\"].value_counts()"
      ],
      "metadata": {
        "colab": {
          "base_uri": "https://localhost:8080/",
          "height": 209
        },
        "id": "EoQFotlvlPdq",
        "outputId": "72ba3a56-7a34-4b6a-a4f0-dd1f6efa7675"
      },
      "execution_count": 556,
      "outputs": [
        {
          "output_type": "execute_result",
          "data": {
            "text/plain": [
              "Payment_of_Min_Amount\n",
              "Yes    52326\n",
              "No     35667\n",
              "NM     12007\n",
              "Name: count, dtype: int64"
            ],
            "text/html": [
              "<div>\n",
              "<style scoped>\n",
              "    .dataframe tbody tr th:only-of-type {\n",
              "        vertical-align: middle;\n",
              "    }\n",
              "\n",
              "    .dataframe tbody tr th {\n",
              "        vertical-align: top;\n",
              "    }\n",
              "\n",
              "    .dataframe thead th {\n",
              "        text-align: right;\n",
              "    }\n",
              "</style>\n",
              "<table border=\"1\" class=\"dataframe\">\n",
              "  <thead>\n",
              "    <tr style=\"text-align: right;\">\n",
              "      <th></th>\n",
              "      <th>count</th>\n",
              "    </tr>\n",
              "    <tr>\n",
              "      <th>Payment_of_Min_Amount</th>\n",
              "      <th></th>\n",
              "    </tr>\n",
              "  </thead>\n",
              "  <tbody>\n",
              "    <tr>\n",
              "      <th>Yes</th>\n",
              "      <td>52326</td>\n",
              "    </tr>\n",
              "    <tr>\n",
              "      <th>No</th>\n",
              "      <td>35667</td>\n",
              "    </tr>\n",
              "    <tr>\n",
              "      <th>NM</th>\n",
              "      <td>12007</td>\n",
              "    </tr>\n",
              "  </tbody>\n",
              "</table>\n",
              "</div><br><label><b>dtype:</b> int64</label>"
            ]
          },
          "metadata": {},
          "execution_count": 556
        }
      ]
    },
    {
      "cell_type": "code",
      "source": [
        "df = pd.get_dummies(df, columns=[\"Payment_of_Min_Amount\"], prefix=\"PMA\")"
      ],
      "metadata": {
        "id": "SFAtBJxglSjx"
      },
      "execution_count": 557,
      "outputs": []
    },
    {
      "cell_type": "code",
      "source": [
        "df"
      ],
      "metadata": {
        "colab": {
          "base_uri": "https://localhost:8080/",
          "height": 478
        },
        "id": "ANtQS0dKmXJx",
        "outputId": "f9e00361-965f-465f-dbb5-75c95cd93de7"
      },
      "execution_count": 558,
      "outputs": [
        {
          "output_type": "execute_result",
          "data": {
            "text/plain": [
              "      Customer_ID  Age  Occupation  Annual_Income  Monthly_Inhand_Salary  \\\n",
              "0       CUS_0xd40   23        6299       19114.12            1824.843333   \n",
              "1       CUS_0xd40   23        6299       19114.12            1824.843333   \n",
              "2       CUS_0xd40   34        6299       19114.12            1824.843333   \n",
              "3       CUS_0xd40   23        6299       19114.12            1824.843333   \n",
              "4       CUS_0xd40   23        6299       19114.12            1824.843333   \n",
              "...           ...  ...         ...            ...                    ...   \n",
              "99995  CUS_0x942c   25        6291       39628.99            3359.415833   \n",
              "99996  CUS_0x942c   25        6291       39628.99            3359.415833   \n",
              "99997  CUS_0x942c   25        6291       39628.99            3359.415833   \n",
              "99998  CUS_0x942c   25        6291       39628.99            3359.415833   \n",
              "99999  CUS_0x942c   25        6291       39628.99            3359.415833   \n",
              "\n",
              "       Num_Bank_Accounts  Num_Credit_Card  Interest_Rate  Num_of_Loan  \\\n",
              "0                      3                4              3            4   \n",
              "1                      3                4              3            4   \n",
              "2                      3                4              3            4   \n",
              "3                      3                4              3            4   \n",
              "4                      3                4              3            4   \n",
              "...                  ...              ...            ...          ...   \n",
              "99995                  4                6              7            2   \n",
              "99996                  4                6              7            2   \n",
              "99997                  4                6              7            2   \n",
              "99998                  4                6              7            2   \n",
              "99999                  4                6              7            2   \n",
              "\n",
              "       Delay_from_due_date  ...  Loan_Home Equity Loan  Loan_Mortgage Loan  \\\n",
              "0                        3  ...                      1                   0   \n",
              "1                        0  ...                      1                   0   \n",
              "2                        3  ...                      1                   0   \n",
              "3                        5  ...                      1                   0   \n",
              "4                        6  ...                      1                   0   \n",
              "...                    ...  ...                    ...                 ...   \n",
              "99995                   23  ...                      0                   0   \n",
              "99996                   18  ...                      0                   0   \n",
              "99997                   27  ...                      0                   0   \n",
              "99998                   20  ...                      0                   0   \n",
              "99999                   18  ...                      0                   0   \n",
              "\n",
              "       Loan_Not Specified  Loan_Payday Loan  Loan_Personal Loan  \\\n",
              "0                       0                 0                   1   \n",
              "1                       0                 0                   1   \n",
              "2                       0                 0                   1   \n",
              "3                       0                 0                   1   \n",
              "4                       0                 0                   1   \n",
              "...                   ...               ...                 ...   \n",
              "99995                   0                 0                   0   \n",
              "99996                   0                 0                   0   \n",
              "99997                   0                 0                   0   \n",
              "99998                   0                 0                   0   \n",
              "99999                   0                 0                   0   \n",
              "\n",
              "       Loan_Student Loan  Credit_History_Age_Months  PMA_NM PMA_No  PMA_Yes  \n",
              "0                      0                        265   False   True    False  \n",
              "1                      0                        219   False   True    False  \n",
              "2                      0                        267   False   True    False  \n",
              "3                      0                        268   False   True    False  \n",
              "4                      0                        269   False   True    False  \n",
              "...                  ...                        ...     ...    ...      ...  \n",
              "99995                  1                        378   False   True    False  \n",
              "99996                  1                        379   False   True    False  \n",
              "99997                  1                        380   False   True    False  \n",
              "99998                  1                        381   False   True    False  \n",
              "99999                  1                        382   False   True    False  \n",
              "\n",
              "[100000 rows x 34 columns]"
            ],
            "text/html": [
              "\n",
              "  <div id=\"df-dfd58ba3-4b3f-40dd-bc86-dbac6dbc2cc8\" class=\"colab-df-container\">\n",
              "    <div>\n",
              "<style scoped>\n",
              "    .dataframe tbody tr th:only-of-type {\n",
              "        vertical-align: middle;\n",
              "    }\n",
              "\n",
              "    .dataframe tbody tr th {\n",
              "        vertical-align: top;\n",
              "    }\n",
              "\n",
              "    .dataframe thead th {\n",
              "        text-align: right;\n",
              "    }\n",
              "</style>\n",
              "<table border=\"1\" class=\"dataframe\">\n",
              "  <thead>\n",
              "    <tr style=\"text-align: right;\">\n",
              "      <th></th>\n",
              "      <th>Customer_ID</th>\n",
              "      <th>Age</th>\n",
              "      <th>Occupation</th>\n",
              "      <th>Annual_Income</th>\n",
              "      <th>Monthly_Inhand_Salary</th>\n",
              "      <th>Num_Bank_Accounts</th>\n",
              "      <th>Num_Credit_Card</th>\n",
              "      <th>Interest_Rate</th>\n",
              "      <th>Num_of_Loan</th>\n",
              "      <th>Delay_from_due_date</th>\n",
              "      <th>...</th>\n",
              "      <th>Loan_Home Equity Loan</th>\n",
              "      <th>Loan_Mortgage Loan</th>\n",
              "      <th>Loan_Not Specified</th>\n",
              "      <th>Loan_Payday Loan</th>\n",
              "      <th>Loan_Personal Loan</th>\n",
              "      <th>Loan_Student Loan</th>\n",
              "      <th>Credit_History_Age_Months</th>\n",
              "      <th>PMA_NM</th>\n",
              "      <th>PMA_No</th>\n",
              "      <th>PMA_Yes</th>\n",
              "    </tr>\n",
              "  </thead>\n",
              "  <tbody>\n",
              "    <tr>\n",
              "      <th>0</th>\n",
              "      <td>CUS_0xd40</td>\n",
              "      <td>23</td>\n",
              "      <td>6299</td>\n",
              "      <td>19114.12</td>\n",
              "      <td>1824.843333</td>\n",
              "      <td>3</td>\n",
              "      <td>4</td>\n",
              "      <td>3</td>\n",
              "      <td>4</td>\n",
              "      <td>3</td>\n",
              "      <td>...</td>\n",
              "      <td>1</td>\n",
              "      <td>0</td>\n",
              "      <td>0</td>\n",
              "      <td>0</td>\n",
              "      <td>1</td>\n",
              "      <td>0</td>\n",
              "      <td>265</td>\n",
              "      <td>False</td>\n",
              "      <td>True</td>\n",
              "      <td>False</td>\n",
              "    </tr>\n",
              "    <tr>\n",
              "      <th>1</th>\n",
              "      <td>CUS_0xd40</td>\n",
              "      <td>23</td>\n",
              "      <td>6299</td>\n",
              "      <td>19114.12</td>\n",
              "      <td>1824.843333</td>\n",
              "      <td>3</td>\n",
              "      <td>4</td>\n",
              "      <td>3</td>\n",
              "      <td>4</td>\n",
              "      <td>0</td>\n",
              "      <td>...</td>\n",
              "      <td>1</td>\n",
              "      <td>0</td>\n",
              "      <td>0</td>\n",
              "      <td>0</td>\n",
              "      <td>1</td>\n",
              "      <td>0</td>\n",
              "      <td>219</td>\n",
              "      <td>False</td>\n",
              "      <td>True</td>\n",
              "      <td>False</td>\n",
              "    </tr>\n",
              "    <tr>\n",
              "      <th>2</th>\n",
              "      <td>CUS_0xd40</td>\n",
              "      <td>34</td>\n",
              "      <td>6299</td>\n",
              "      <td>19114.12</td>\n",
              "      <td>1824.843333</td>\n",
              "      <td>3</td>\n",
              "      <td>4</td>\n",
              "      <td>3</td>\n",
              "      <td>4</td>\n",
              "      <td>3</td>\n",
              "      <td>...</td>\n",
              "      <td>1</td>\n",
              "      <td>0</td>\n",
              "      <td>0</td>\n",
              "      <td>0</td>\n",
              "      <td>1</td>\n",
              "      <td>0</td>\n",
              "      <td>267</td>\n",
              "      <td>False</td>\n",
              "      <td>True</td>\n",
              "      <td>False</td>\n",
              "    </tr>\n",
              "    <tr>\n",
              "      <th>3</th>\n",
              "      <td>CUS_0xd40</td>\n",
              "      <td>23</td>\n",
              "      <td>6299</td>\n",
              "      <td>19114.12</td>\n",
              "      <td>1824.843333</td>\n",
              "      <td>3</td>\n",
              "      <td>4</td>\n",
              "      <td>3</td>\n",
              "      <td>4</td>\n",
              "      <td>5</td>\n",
              "      <td>...</td>\n",
              "      <td>1</td>\n",
              "      <td>0</td>\n",
              "      <td>0</td>\n",
              "      <td>0</td>\n",
              "      <td>1</td>\n",
              "      <td>0</td>\n",
              "      <td>268</td>\n",
              "      <td>False</td>\n",
              "      <td>True</td>\n",
              "      <td>False</td>\n",
              "    </tr>\n",
              "    <tr>\n",
              "      <th>4</th>\n",
              "      <td>CUS_0xd40</td>\n",
              "      <td>23</td>\n",
              "      <td>6299</td>\n",
              "      <td>19114.12</td>\n",
              "      <td>1824.843333</td>\n",
              "      <td>3</td>\n",
              "      <td>4</td>\n",
              "      <td>3</td>\n",
              "      <td>4</td>\n",
              "      <td>6</td>\n",
              "      <td>...</td>\n",
              "      <td>1</td>\n",
              "      <td>0</td>\n",
              "      <td>0</td>\n",
              "      <td>0</td>\n",
              "      <td>1</td>\n",
              "      <td>0</td>\n",
              "      <td>269</td>\n",
              "      <td>False</td>\n",
              "      <td>True</td>\n",
              "      <td>False</td>\n",
              "    </tr>\n",
              "    <tr>\n",
              "      <th>...</th>\n",
              "      <td>...</td>\n",
              "      <td>...</td>\n",
              "      <td>...</td>\n",
              "      <td>...</td>\n",
              "      <td>...</td>\n",
              "      <td>...</td>\n",
              "      <td>...</td>\n",
              "      <td>...</td>\n",
              "      <td>...</td>\n",
              "      <td>...</td>\n",
              "      <td>...</td>\n",
              "      <td>...</td>\n",
              "      <td>...</td>\n",
              "      <td>...</td>\n",
              "      <td>...</td>\n",
              "      <td>...</td>\n",
              "      <td>...</td>\n",
              "      <td>...</td>\n",
              "      <td>...</td>\n",
              "      <td>...</td>\n",
              "      <td>...</td>\n",
              "    </tr>\n",
              "    <tr>\n",
              "      <th>99995</th>\n",
              "      <td>CUS_0x942c</td>\n",
              "      <td>25</td>\n",
              "      <td>6291</td>\n",
              "      <td>39628.99</td>\n",
              "      <td>3359.415833</td>\n",
              "      <td>4</td>\n",
              "      <td>6</td>\n",
              "      <td>7</td>\n",
              "      <td>2</td>\n",
              "      <td>23</td>\n",
              "      <td>...</td>\n",
              "      <td>0</td>\n",
              "      <td>0</td>\n",
              "      <td>0</td>\n",
              "      <td>0</td>\n",
              "      <td>0</td>\n",
              "      <td>1</td>\n",
              "      <td>378</td>\n",
              "      <td>False</td>\n",
              "      <td>True</td>\n",
              "      <td>False</td>\n",
              "    </tr>\n",
              "    <tr>\n",
              "      <th>99996</th>\n",
              "      <td>CUS_0x942c</td>\n",
              "      <td>25</td>\n",
              "      <td>6291</td>\n",
              "      <td>39628.99</td>\n",
              "      <td>3359.415833</td>\n",
              "      <td>4</td>\n",
              "      <td>6</td>\n",
              "      <td>7</td>\n",
              "      <td>2</td>\n",
              "      <td>18</td>\n",
              "      <td>...</td>\n",
              "      <td>0</td>\n",
              "      <td>0</td>\n",
              "      <td>0</td>\n",
              "      <td>0</td>\n",
              "      <td>0</td>\n",
              "      <td>1</td>\n",
              "      <td>379</td>\n",
              "      <td>False</td>\n",
              "      <td>True</td>\n",
              "      <td>False</td>\n",
              "    </tr>\n",
              "    <tr>\n",
              "      <th>99997</th>\n",
              "      <td>CUS_0x942c</td>\n",
              "      <td>25</td>\n",
              "      <td>6291</td>\n",
              "      <td>39628.99</td>\n",
              "      <td>3359.415833</td>\n",
              "      <td>4</td>\n",
              "      <td>6</td>\n",
              "      <td>7</td>\n",
              "      <td>2</td>\n",
              "      <td>27</td>\n",
              "      <td>...</td>\n",
              "      <td>0</td>\n",
              "      <td>0</td>\n",
              "      <td>0</td>\n",
              "      <td>0</td>\n",
              "      <td>0</td>\n",
              "      <td>1</td>\n",
              "      <td>380</td>\n",
              "      <td>False</td>\n",
              "      <td>True</td>\n",
              "      <td>False</td>\n",
              "    </tr>\n",
              "    <tr>\n",
              "      <th>99998</th>\n",
              "      <td>CUS_0x942c</td>\n",
              "      <td>25</td>\n",
              "      <td>6291</td>\n",
              "      <td>39628.99</td>\n",
              "      <td>3359.415833</td>\n",
              "      <td>4</td>\n",
              "      <td>6</td>\n",
              "      <td>7</td>\n",
              "      <td>2</td>\n",
              "      <td>20</td>\n",
              "      <td>...</td>\n",
              "      <td>0</td>\n",
              "      <td>0</td>\n",
              "      <td>0</td>\n",
              "      <td>0</td>\n",
              "      <td>0</td>\n",
              "      <td>1</td>\n",
              "      <td>381</td>\n",
              "      <td>False</td>\n",
              "      <td>True</td>\n",
              "      <td>False</td>\n",
              "    </tr>\n",
              "    <tr>\n",
              "      <th>99999</th>\n",
              "      <td>CUS_0x942c</td>\n",
              "      <td>25</td>\n",
              "      <td>6291</td>\n",
              "      <td>39628.99</td>\n",
              "      <td>3359.415833</td>\n",
              "      <td>4</td>\n",
              "      <td>6</td>\n",
              "      <td>7</td>\n",
              "      <td>2</td>\n",
              "      <td>18</td>\n",
              "      <td>...</td>\n",
              "      <td>0</td>\n",
              "      <td>0</td>\n",
              "      <td>0</td>\n",
              "      <td>0</td>\n",
              "      <td>0</td>\n",
              "      <td>1</td>\n",
              "      <td>382</td>\n",
              "      <td>False</td>\n",
              "      <td>True</td>\n",
              "      <td>False</td>\n",
              "    </tr>\n",
              "  </tbody>\n",
              "</table>\n",
              "<p>100000 rows × 34 columns</p>\n",
              "</div>\n",
              "    <div class=\"colab-df-buttons\">\n",
              "\n",
              "  <div class=\"colab-df-container\">\n",
              "    <button class=\"colab-df-convert\" onclick=\"convertToInteractive('df-dfd58ba3-4b3f-40dd-bc86-dbac6dbc2cc8')\"\n",
              "            title=\"Convert this dataframe to an interactive table.\"\n",
              "            style=\"display:none;\">\n",
              "\n",
              "  <svg xmlns=\"http://www.w3.org/2000/svg\" height=\"24px\" viewBox=\"0 -960 960 960\">\n",
              "    <path d=\"M120-120v-720h720v720H120Zm60-500h600v-160H180v160Zm220 220h160v-160H400v160Zm0 220h160v-160H400v160ZM180-400h160v-160H180v160Zm440 0h160v-160H620v160ZM180-180h160v-160H180v160Zm440 0h160v-160H620v160Z\"/>\n",
              "  </svg>\n",
              "    </button>\n",
              "\n",
              "  <style>\n",
              "    .colab-df-container {\n",
              "      display:flex;\n",
              "      gap: 12px;\n",
              "    }\n",
              "\n",
              "    .colab-df-convert {\n",
              "      background-color: #E8F0FE;\n",
              "      border: none;\n",
              "      border-radius: 50%;\n",
              "      cursor: pointer;\n",
              "      display: none;\n",
              "      fill: #1967D2;\n",
              "      height: 32px;\n",
              "      padding: 0 0 0 0;\n",
              "      width: 32px;\n",
              "    }\n",
              "\n",
              "    .colab-df-convert:hover {\n",
              "      background-color: #E2EBFA;\n",
              "      box-shadow: 0px 1px 2px rgba(60, 64, 67, 0.3), 0px 1px 3px 1px rgba(60, 64, 67, 0.15);\n",
              "      fill: #174EA6;\n",
              "    }\n",
              "\n",
              "    .colab-df-buttons div {\n",
              "      margin-bottom: 4px;\n",
              "    }\n",
              "\n",
              "    [theme=dark] .colab-df-convert {\n",
              "      background-color: #3B4455;\n",
              "      fill: #D2E3FC;\n",
              "    }\n",
              "\n",
              "    [theme=dark] .colab-df-convert:hover {\n",
              "      background-color: #434B5C;\n",
              "      box-shadow: 0px 1px 3px 1px rgba(0, 0, 0, 0.15);\n",
              "      filter: drop-shadow(0px 1px 2px rgba(0, 0, 0, 0.3));\n",
              "      fill: #FFFFFF;\n",
              "    }\n",
              "  </style>\n",
              "\n",
              "    <script>\n",
              "      const buttonEl =\n",
              "        document.querySelector('#df-dfd58ba3-4b3f-40dd-bc86-dbac6dbc2cc8 button.colab-df-convert');\n",
              "      buttonEl.style.display =\n",
              "        google.colab.kernel.accessAllowed ? 'block' : 'none';\n",
              "\n",
              "      async function convertToInteractive(key) {\n",
              "        const element = document.querySelector('#df-dfd58ba3-4b3f-40dd-bc86-dbac6dbc2cc8');\n",
              "        const dataTable =\n",
              "          await google.colab.kernel.invokeFunction('convertToInteractive',\n",
              "                                                    [key], {});\n",
              "        if (!dataTable) return;\n",
              "\n",
              "        const docLinkHtml = 'Like what you see? Visit the ' +\n",
              "          '<a target=\"_blank\" href=https://colab.research.google.com/notebooks/data_table.ipynb>data table notebook</a>'\n",
              "          + ' to learn more about interactive tables.';\n",
              "        element.innerHTML = '';\n",
              "        dataTable['output_type'] = 'display_data';\n",
              "        await google.colab.output.renderOutput(dataTable, element);\n",
              "        const docLink = document.createElement('div');\n",
              "        docLink.innerHTML = docLinkHtml;\n",
              "        element.appendChild(docLink);\n",
              "      }\n",
              "    </script>\n",
              "  </div>\n",
              "\n",
              "\n",
              "    <div id=\"df-cf14ccab-4336-4fad-af9e-88e886beac29\">\n",
              "      <button class=\"colab-df-quickchart\" onclick=\"quickchart('df-cf14ccab-4336-4fad-af9e-88e886beac29')\"\n",
              "                title=\"Suggest charts\"\n",
              "                style=\"display:none;\">\n",
              "\n",
              "<svg xmlns=\"http://www.w3.org/2000/svg\" height=\"24px\"viewBox=\"0 0 24 24\"\n",
              "     width=\"24px\">\n",
              "    <g>\n",
              "        <path d=\"M19 3H5c-1.1 0-2 .9-2 2v14c0 1.1.9 2 2 2h14c1.1 0 2-.9 2-2V5c0-1.1-.9-2-2-2zM9 17H7v-7h2v7zm4 0h-2V7h2v10zm4 0h-2v-4h2v4z\"/>\n",
              "    </g>\n",
              "</svg>\n",
              "      </button>\n",
              "\n",
              "<style>\n",
              "  .colab-df-quickchart {\n",
              "      --bg-color: #E8F0FE;\n",
              "      --fill-color: #1967D2;\n",
              "      --hover-bg-color: #E2EBFA;\n",
              "      --hover-fill-color: #174EA6;\n",
              "      --disabled-fill-color: #AAA;\n",
              "      --disabled-bg-color: #DDD;\n",
              "  }\n",
              "\n",
              "  [theme=dark] .colab-df-quickchart {\n",
              "      --bg-color: #3B4455;\n",
              "      --fill-color: #D2E3FC;\n",
              "      --hover-bg-color: #434B5C;\n",
              "      --hover-fill-color: #FFFFFF;\n",
              "      --disabled-bg-color: #3B4455;\n",
              "      --disabled-fill-color: #666;\n",
              "  }\n",
              "\n",
              "  .colab-df-quickchart {\n",
              "    background-color: var(--bg-color);\n",
              "    border: none;\n",
              "    border-radius: 50%;\n",
              "    cursor: pointer;\n",
              "    display: none;\n",
              "    fill: var(--fill-color);\n",
              "    height: 32px;\n",
              "    padding: 0;\n",
              "    width: 32px;\n",
              "  }\n",
              "\n",
              "  .colab-df-quickchart:hover {\n",
              "    background-color: var(--hover-bg-color);\n",
              "    box-shadow: 0 1px 2px rgba(60, 64, 67, 0.3), 0 1px 3px 1px rgba(60, 64, 67, 0.15);\n",
              "    fill: var(--button-hover-fill-color);\n",
              "  }\n",
              "\n",
              "  .colab-df-quickchart-complete:disabled,\n",
              "  .colab-df-quickchart-complete:disabled:hover {\n",
              "    background-color: var(--disabled-bg-color);\n",
              "    fill: var(--disabled-fill-color);\n",
              "    box-shadow: none;\n",
              "  }\n",
              "\n",
              "  .colab-df-spinner {\n",
              "    border: 2px solid var(--fill-color);\n",
              "    border-color: transparent;\n",
              "    border-bottom-color: var(--fill-color);\n",
              "    animation:\n",
              "      spin 1s steps(1) infinite;\n",
              "  }\n",
              "\n",
              "  @keyframes spin {\n",
              "    0% {\n",
              "      border-color: transparent;\n",
              "      border-bottom-color: var(--fill-color);\n",
              "      border-left-color: var(--fill-color);\n",
              "    }\n",
              "    20% {\n",
              "      border-color: transparent;\n",
              "      border-left-color: var(--fill-color);\n",
              "      border-top-color: var(--fill-color);\n",
              "    }\n",
              "    30% {\n",
              "      border-color: transparent;\n",
              "      border-left-color: var(--fill-color);\n",
              "      border-top-color: var(--fill-color);\n",
              "      border-right-color: var(--fill-color);\n",
              "    }\n",
              "    40% {\n",
              "      border-color: transparent;\n",
              "      border-right-color: var(--fill-color);\n",
              "      border-top-color: var(--fill-color);\n",
              "    }\n",
              "    60% {\n",
              "      border-color: transparent;\n",
              "      border-right-color: var(--fill-color);\n",
              "    }\n",
              "    80% {\n",
              "      border-color: transparent;\n",
              "      border-right-color: var(--fill-color);\n",
              "      border-bottom-color: var(--fill-color);\n",
              "    }\n",
              "    90% {\n",
              "      border-color: transparent;\n",
              "      border-bottom-color: var(--fill-color);\n",
              "    }\n",
              "  }\n",
              "</style>\n",
              "\n",
              "      <script>\n",
              "        async function quickchart(key) {\n",
              "          const quickchartButtonEl =\n",
              "            document.querySelector('#' + key + ' button');\n",
              "          quickchartButtonEl.disabled = true;  // To prevent multiple clicks.\n",
              "          quickchartButtonEl.classList.add('colab-df-spinner');\n",
              "          try {\n",
              "            const charts = await google.colab.kernel.invokeFunction(\n",
              "                'suggestCharts', [key], {});\n",
              "          } catch (error) {\n",
              "            console.error('Error during call to suggestCharts:', error);\n",
              "          }\n",
              "          quickchartButtonEl.classList.remove('colab-df-spinner');\n",
              "          quickchartButtonEl.classList.add('colab-df-quickchart-complete');\n",
              "        }\n",
              "        (() => {\n",
              "          let quickchartButtonEl =\n",
              "            document.querySelector('#df-cf14ccab-4336-4fad-af9e-88e886beac29 button');\n",
              "          quickchartButtonEl.style.display =\n",
              "            google.colab.kernel.accessAllowed ? 'block' : 'none';\n",
              "        })();\n",
              "      </script>\n",
              "    </div>\n",
              "\n",
              "  <div id=\"id_ac9abda3-8349-4405-996f-36b9a18d31c2\">\n",
              "    <style>\n",
              "      .colab-df-generate {\n",
              "        background-color: #E8F0FE;\n",
              "        border: none;\n",
              "        border-radius: 50%;\n",
              "        cursor: pointer;\n",
              "        display: none;\n",
              "        fill: #1967D2;\n",
              "        height: 32px;\n",
              "        padding: 0 0 0 0;\n",
              "        width: 32px;\n",
              "      }\n",
              "\n",
              "      .colab-df-generate:hover {\n",
              "        background-color: #E2EBFA;\n",
              "        box-shadow: 0px 1px 2px rgba(60, 64, 67, 0.3), 0px 1px 3px 1px rgba(60, 64, 67, 0.15);\n",
              "        fill: #174EA6;\n",
              "      }\n",
              "\n",
              "      [theme=dark] .colab-df-generate {\n",
              "        background-color: #3B4455;\n",
              "        fill: #D2E3FC;\n",
              "      }\n",
              "\n",
              "      [theme=dark] .colab-df-generate:hover {\n",
              "        background-color: #434B5C;\n",
              "        box-shadow: 0px 1px 3px 1px rgba(0, 0, 0, 0.15);\n",
              "        filter: drop-shadow(0px 1px 2px rgba(0, 0, 0, 0.3));\n",
              "        fill: #FFFFFF;\n",
              "      }\n",
              "    </style>\n",
              "    <button class=\"colab-df-generate\" onclick=\"generateWithVariable('df')\"\n",
              "            title=\"Generate code using this dataframe.\"\n",
              "            style=\"display:none;\">\n",
              "\n",
              "  <svg xmlns=\"http://www.w3.org/2000/svg\" height=\"24px\"viewBox=\"0 0 24 24\"\n",
              "       width=\"24px\">\n",
              "    <path d=\"M7,19H8.4L18.45,9,17,7.55,7,17.6ZM5,21V16.75L18.45,3.32a2,2,0,0,1,2.83,0l1.4,1.43a1.91,1.91,0,0,1,.58,1.4,1.91,1.91,0,0,1-.58,1.4L9.25,21ZM18.45,9,17,7.55Zm-12,3A5.31,5.31,0,0,0,4.9,8.1,5.31,5.31,0,0,0,1,6.5,5.31,5.31,0,0,0,4.9,4.9,5.31,5.31,0,0,0,6.5,1,5.31,5.31,0,0,0,8.1,4.9,5.31,5.31,0,0,0,12,6.5,5.46,5.46,0,0,0,6.5,12Z\"/>\n",
              "  </svg>\n",
              "    </button>\n",
              "    <script>\n",
              "      (() => {\n",
              "      const buttonEl =\n",
              "        document.querySelector('#id_ac9abda3-8349-4405-996f-36b9a18d31c2 button.colab-df-generate');\n",
              "      buttonEl.style.display =\n",
              "        google.colab.kernel.accessAllowed ? 'block' : 'none';\n",
              "\n",
              "      buttonEl.onclick = () => {\n",
              "        google.colab.notebook.generateWithVariable('df');\n",
              "      }\n",
              "      })();\n",
              "    </script>\n",
              "  </div>\n",
              "\n",
              "    </div>\n",
              "  </div>\n"
            ],
            "application/vnd.google.colaboratory.intrinsic+json": {
              "type": "dataframe",
              "variable_name": "df"
            }
          },
          "metadata": {},
          "execution_count": 558
        }
      ]
    },
    {
      "cell_type": "code",
      "source": [
        "df[\"PMA_NM\"] = df[\"PMA_NM\"].astype(int)\n",
        "df[\"PMA_No\"] = df[\"PMA_No\"].astype(int)\n",
        "df[\"PMA_Yes\"] = df[\"PMA_Yes\"].astype(int)"
      ],
      "metadata": {
        "id": "VxP5KcJ-msMS"
      },
      "execution_count": 559,
      "outputs": []
    },
    {
      "cell_type": "code",
      "source": [
        "df.info()"
      ],
      "metadata": {
        "colab": {
          "base_uri": "https://localhost:8080/"
        },
        "id": "SbamTEq6m4n4",
        "outputId": "8219e7d4-3af8-4f8e-d67b-9c49fdda0ba9"
      },
      "execution_count": 560,
      "outputs": [
        {
          "output_type": "stream",
          "name": "stdout",
          "text": [
            "<class 'pandas.core.frame.DataFrame'>\n",
            "RangeIndex: 100000 entries, 0 to 99999\n",
            "Data columns (total 34 columns):\n",
            " #   Column                        Non-Null Count   Dtype  \n",
            "---  ------                        --------------   -----  \n",
            " 0   Customer_ID                   100000 non-null  object \n",
            " 1   Age                           100000 non-null  int64  \n",
            " 2   Occupation                    100000 non-null  int64  \n",
            " 3   Annual_Income                 100000 non-null  float64\n",
            " 4   Monthly_Inhand_Salary         100000 non-null  float64\n",
            " 5   Num_Bank_Accounts             100000 non-null  int64  \n",
            " 6   Num_Credit_Card               100000 non-null  int64  \n",
            " 7   Interest_Rate                 100000 non-null  int64  \n",
            " 8   Num_of_Loan                   100000 non-null  int64  \n",
            " 9   Delay_from_due_date           100000 non-null  int64  \n",
            " 10  Num_of_Delayed_Payment        100000 non-null  float64\n",
            " 11  Changed_Credit_Limit          100000 non-null  float64\n",
            " 12  Num_Credit_Inquiries          100000 non-null  float64\n",
            " 13  Credit_Mix                    100000 non-null  float64\n",
            " 14  Outstanding_Debt              100000 non-null  float64\n",
            " 15  Credit_Utilization_Ratio      100000 non-null  float64\n",
            " 16  Total_EMI_per_month           100000 non-null  float64\n",
            " 17  Amount_invested_monthly       95521 non-null   float64\n",
            " 18  Payment_Behaviour             100000 non-null  object \n",
            " 19  Monthly_Balance               98800 non-null   float64\n",
            " 20  Credit_Score                  100000 non-null  object \n",
            " 21  Loan_Auto Loan                100000 non-null  int64  \n",
            " 22  Loan_Credit-Builder Loan      100000 non-null  int64  \n",
            " 23  Loan_Debt Consolidation Loan  100000 non-null  int64  \n",
            " 24  Loan_Home Equity Loan         100000 non-null  int64  \n",
            " 25  Loan_Mortgage Loan            100000 non-null  int64  \n",
            " 26  Loan_Not Specified            100000 non-null  int64  \n",
            " 27  Loan_Payday Loan              100000 non-null  int64  \n",
            " 28  Loan_Personal Loan            100000 non-null  int64  \n",
            " 29  Loan_Student Loan             100000 non-null  int64  \n",
            " 30  Credit_History_Age_Months     100000 non-null  int64  \n",
            " 31  PMA_NM                        100000 non-null  int64  \n",
            " 32  PMA_No                        100000 non-null  int64  \n",
            " 33  PMA_Yes                       100000 non-null  int64  \n",
            "dtypes: float64(11), int64(20), object(3)\n",
            "memory usage: 25.9+ MB\n"
          ]
        }
      ]
    },
    {
      "cell_type": "code",
      "source": [
        "df[\"Amount_invested_monthly\"].isna().sum()"
      ],
      "metadata": {
        "colab": {
          "base_uri": "https://localhost:8080/"
        },
        "id": "xeTpuyhAoDlt",
        "outputId": "bdc3cf19-c4ea-44a7-9e9f-042a6ad1917f"
      },
      "execution_count": 561,
      "outputs": [
        {
          "output_type": "execute_result",
          "data": {
            "text/plain": [
              "np.int64(4479)"
            ]
          },
          "metadata": {},
          "execution_count": 561
        }
      ]
    },
    {
      "cell_type": "code",
      "source": [
        "df[\"Amount_invested_monthly\"] = df.groupby(\"Customer_ID\")[\"Amount_invested_monthly\"].transform(lambda x: x.fillna(x.median()))\n",
        "df[\"Amount_invested_monthly\"] = df[\"Amount_invested_monthly\"].fillna(df[\"Amount_invested_monthly\"].median())\n"
      ],
      "metadata": {
        "id": "-iRTTEx-ncpG"
      },
      "execution_count": 562,
      "outputs": []
    },
    {
      "cell_type": "code",
      "source": [
        "df[\"Amount_invested_monthly\"].isna().sum()"
      ],
      "metadata": {
        "colab": {
          "base_uri": "https://localhost:8080/"
        },
        "id": "i2KQhKcRoHdm",
        "outputId": "9dd6e494-ac09-4500-b481-e80b7304af43"
      },
      "execution_count": 563,
      "outputs": [
        {
          "output_type": "execute_result",
          "data": {
            "text/plain": [
              "np.int64(0)"
            ]
          },
          "metadata": {},
          "execution_count": 563
        }
      ]
    },
    {
      "cell_type": "code",
      "source": [
        "df[\"Payment_Behaviour\"].value_counts()"
      ],
      "metadata": {
        "colab": {
          "base_uri": "https://localhost:8080/",
          "height": 335
        },
        "id": "O6SyEQQ_oJhn",
        "outputId": "b81b980a-3245-435d-cb3d-f29fa761db77"
      },
      "execution_count": 564,
      "outputs": [
        {
          "output_type": "execute_result",
          "data": {
            "text/plain": [
              "Payment_Behaviour\n",
              "Low_spent_Small_value_payments      25513\n",
              "High_spent_Medium_value_payments    17540\n",
              "Low_spent_Medium_value_payments     13861\n",
              "High_spent_Large_value_payments     13721\n",
              "High_spent_Small_value_payments     11340\n",
              "Low_spent_Large_value_payments      10425\n",
              "!@9#%8                               7600\n",
              "Name: count, dtype: int64"
            ],
            "text/html": [
              "<div>\n",
              "<style scoped>\n",
              "    .dataframe tbody tr th:only-of-type {\n",
              "        vertical-align: middle;\n",
              "    }\n",
              "\n",
              "    .dataframe tbody tr th {\n",
              "        vertical-align: top;\n",
              "    }\n",
              "\n",
              "    .dataframe thead th {\n",
              "        text-align: right;\n",
              "    }\n",
              "</style>\n",
              "<table border=\"1\" class=\"dataframe\">\n",
              "  <thead>\n",
              "    <tr style=\"text-align: right;\">\n",
              "      <th></th>\n",
              "      <th>count</th>\n",
              "    </tr>\n",
              "    <tr>\n",
              "      <th>Payment_Behaviour</th>\n",
              "      <th></th>\n",
              "    </tr>\n",
              "  </thead>\n",
              "  <tbody>\n",
              "    <tr>\n",
              "      <th>Low_spent_Small_value_payments</th>\n",
              "      <td>25513</td>\n",
              "    </tr>\n",
              "    <tr>\n",
              "      <th>High_spent_Medium_value_payments</th>\n",
              "      <td>17540</td>\n",
              "    </tr>\n",
              "    <tr>\n",
              "      <th>Low_spent_Medium_value_payments</th>\n",
              "      <td>13861</td>\n",
              "    </tr>\n",
              "    <tr>\n",
              "      <th>High_spent_Large_value_payments</th>\n",
              "      <td>13721</td>\n",
              "    </tr>\n",
              "    <tr>\n",
              "      <th>High_spent_Small_value_payments</th>\n",
              "      <td>11340</td>\n",
              "    </tr>\n",
              "    <tr>\n",
              "      <th>Low_spent_Large_value_payments</th>\n",
              "      <td>10425</td>\n",
              "    </tr>\n",
              "    <tr>\n",
              "      <th>!@9#%8</th>\n",
              "      <td>7600</td>\n",
              "    </tr>\n",
              "  </tbody>\n",
              "</table>\n",
              "</div><br><label><b>dtype:</b> int64</label>"
            ]
          },
          "metadata": {},
          "execution_count": 564
        }
      ]
    },
    {
      "cell_type": "code",
      "source": [
        "df[\"Payment_Behaviour\"] = df[\"Payment_Behaviour\"].replace(\"!@9#%8\", \"Not Mentioned\")"
      ],
      "metadata": {
        "id": "XillvCz9ohnH"
      },
      "execution_count": 565,
      "outputs": []
    },
    {
      "cell_type": "code",
      "source": [
        "df = pd.get_dummies(df, columns=[\"Payment_Behaviour\"], drop_first=True)"
      ],
      "metadata": {
        "id": "Zmrkl-uapb5u"
      },
      "execution_count": 566,
      "outputs": []
    },
    {
      "cell_type": "code",
      "source": [
        "rename_map = {\n",
        "    \"Payment_Behaviour_High_spent_Medium_value_payments\": \"PB_High_Med\",\n",
        "    \"Payment_Behaviour_High_spent_Small_value_payments\": \"PB_High_Small\",\n",
        "    \"Payment_Behaviour_Low_spent_Large_value_payments\": \"PB_Low_Large\",\n",
        "    \"Payment_Behaviour_Low_spent_Medium_value_payments\": \"PB_Low_Med\",\n",
        "    \"Payment_Behaviour_Low_spent_Small_value_payments\": \"PB_Low_Small\",\n",
        "    \"Payment_Behaviour_Not Mentioned\": \"PB_NotMentioned\"\n",
        "}\n",
        "\n",
        "df.rename(columns=rename_map, inplace=True)"
      ],
      "metadata": {
        "id": "MoCGWRHiptW_"
      },
      "execution_count": 567,
      "outputs": []
    },
    {
      "cell_type": "code",
      "source": [
        "pb_cols = [c for c in df.columns if c.startswith(\"PB\")]\n",
        "\n",
        "df[pb_cols] = df[pb_cols].astype(int)"
      ],
      "metadata": {
        "id": "TBi-p2yIqdfm"
      },
      "execution_count": 568,
      "outputs": []
    },
    {
      "cell_type": "code",
      "source": [
        "df.info()"
      ],
      "metadata": {
        "colab": {
          "base_uri": "https://localhost:8080/"
        },
        "id": "IQvPJdcNprCv",
        "outputId": "74950e74-f23b-42fd-a392-83441f990914"
      },
      "execution_count": 569,
      "outputs": [
        {
          "output_type": "stream",
          "name": "stdout",
          "text": [
            "<class 'pandas.core.frame.DataFrame'>\n",
            "RangeIndex: 100000 entries, 0 to 99999\n",
            "Data columns (total 39 columns):\n",
            " #   Column                        Non-Null Count   Dtype  \n",
            "---  ------                        --------------   -----  \n",
            " 0   Customer_ID                   100000 non-null  object \n",
            " 1   Age                           100000 non-null  int64  \n",
            " 2   Occupation                    100000 non-null  int64  \n",
            " 3   Annual_Income                 100000 non-null  float64\n",
            " 4   Monthly_Inhand_Salary         100000 non-null  float64\n",
            " 5   Num_Bank_Accounts             100000 non-null  int64  \n",
            " 6   Num_Credit_Card               100000 non-null  int64  \n",
            " 7   Interest_Rate                 100000 non-null  int64  \n",
            " 8   Num_of_Loan                   100000 non-null  int64  \n",
            " 9   Delay_from_due_date           100000 non-null  int64  \n",
            " 10  Num_of_Delayed_Payment        100000 non-null  float64\n",
            " 11  Changed_Credit_Limit          100000 non-null  float64\n",
            " 12  Num_Credit_Inquiries          100000 non-null  float64\n",
            " 13  Credit_Mix                    100000 non-null  float64\n",
            " 14  Outstanding_Debt              100000 non-null  float64\n",
            " 15  Credit_Utilization_Ratio      100000 non-null  float64\n",
            " 16  Total_EMI_per_month           100000 non-null  float64\n",
            " 17  Amount_invested_monthly       100000 non-null  float64\n",
            " 18  Monthly_Balance               98800 non-null   float64\n",
            " 19  Credit_Score                  100000 non-null  object \n",
            " 20  Loan_Auto Loan                100000 non-null  int64  \n",
            " 21  Loan_Credit-Builder Loan      100000 non-null  int64  \n",
            " 22  Loan_Debt Consolidation Loan  100000 non-null  int64  \n",
            " 23  Loan_Home Equity Loan         100000 non-null  int64  \n",
            " 24  Loan_Mortgage Loan            100000 non-null  int64  \n",
            " 25  Loan_Not Specified            100000 non-null  int64  \n",
            " 26  Loan_Payday Loan              100000 non-null  int64  \n",
            " 27  Loan_Personal Loan            100000 non-null  int64  \n",
            " 28  Loan_Student Loan             100000 non-null  int64  \n",
            " 29  Credit_History_Age_Months     100000 non-null  int64  \n",
            " 30  PMA_NM                        100000 non-null  int64  \n",
            " 31  PMA_No                        100000 non-null  int64  \n",
            " 32  PMA_Yes                       100000 non-null  int64  \n",
            " 33  PB_High_Med                   100000 non-null  int64  \n",
            " 34  PB_High_Small                 100000 non-null  int64  \n",
            " 35  PB_Low_Large                  100000 non-null  int64  \n",
            " 36  PB_Low_Med                    100000 non-null  int64  \n",
            " 37  PB_Low_Small                  100000 non-null  int64  \n",
            " 38  PB_NotMentioned               100000 non-null  int64  \n",
            "dtypes: float64(11), int64(26), object(2)\n",
            "memory usage: 29.8+ MB\n"
          ]
        }
      ]
    },
    {
      "cell_type": "code",
      "source": [
        "df[\"Monthly_Balance\"].isna().sum()"
      ],
      "metadata": {
        "colab": {
          "base_uri": "https://localhost:8080/"
        },
        "id": "5nitYw6drA86",
        "outputId": "47acc334-c9c8-4b92-fa4f-f63baf584deb"
      },
      "execution_count": 570,
      "outputs": [
        {
          "output_type": "execute_result",
          "data": {
            "text/plain": [
              "np.int64(1200)"
            ]
          },
          "metadata": {},
          "execution_count": 570
        }
      ]
    },
    {
      "cell_type": "code",
      "source": [
        "df[\"Monthly_Balance\"] = df.groupby(\"Customer_ID\")[\"Monthly_Balance\"].transform(lambda x: x.fillna(x.median()))\n",
        "df[\"Monthly_Balance\"] = df[\"Monthly_Balance\"].fillna(df[\"Monthly_Balance\"].median())\n"
      ],
      "metadata": {
        "id": "Ji45Dxfiq_Fa"
      },
      "execution_count": 571,
      "outputs": []
    },
    {
      "cell_type": "code",
      "source": [
        "df[\"Monthly_Balance\"].isna().sum()"
      ],
      "metadata": {
        "colab": {
          "base_uri": "https://localhost:8080/"
        },
        "id": "Bmf_gwe1rAb-",
        "outputId": "998aeec9-5581-41c3-dfc6-5171202370ad"
      },
      "execution_count": 572,
      "outputs": [
        {
          "output_type": "execute_result",
          "data": {
            "text/plain": [
              "np.int64(0)"
            ]
          },
          "metadata": {},
          "execution_count": 572
        }
      ]
    },
    {
      "cell_type": "code",
      "source": [
        "df[\"Credit_Score\"].unique()"
      ],
      "metadata": {
        "colab": {
          "base_uri": "https://localhost:8080/"
        },
        "id": "gFKthatkrGl-",
        "outputId": "bf92668b-3336-40bb-bb90-e64a2e8b29e0"
      },
      "execution_count": 573,
      "outputs": [
        {
          "output_type": "execute_result",
          "data": {
            "text/plain": [
              "array(['Good', 'Standard', 'Poor'], dtype=object)"
            ]
          },
          "metadata": {},
          "execution_count": 573
        }
      ]
    },
    {
      "cell_type": "code",
      "source": [
        "df[\"Credit_Score\"] = df[\"Credit_Score\"].astype(str).str.strip().str.capitalize()"
      ],
      "metadata": {
        "id": "L-nREtBPra3-"
      },
      "execution_count": 574,
      "outputs": []
    },
    {
      "cell_type": "code",
      "source": [
        "le = LabelEncoder()\n",
        "df[\"Credit_Score\"] = le.fit_transform(df[\"Credit_Score\"])\n",
        "\n",
        "print(dict(zip(le.classes_, le.transform(le.classes_))))\n"
      ],
      "metadata": {
        "colab": {
          "base_uri": "https://localhost:8080/"
        },
        "id": "CWxyuKF7riiG",
        "outputId": "3f01f60f-1f7a-46c9-a008-b8b04b0cdb9c"
      },
      "execution_count": 575,
      "outputs": [
        {
          "output_type": "stream",
          "name": "stdout",
          "text": [
            "{'Good': np.int64(0), 'Poor': np.int64(1), 'Standard': np.int64(2)}\n"
          ]
        }
      ]
    },
    {
      "cell_type": "code",
      "source": [
        "print(df[\"Credit_Score\"].value_counts(normalize=True))"
      ],
      "metadata": {
        "colab": {
          "base_uri": "https://localhost:8080/"
        },
        "id": "fV4Lgd5TrnOe",
        "outputId": "b25e7712-3809-4d39-8ec6-1c4296ecb091"
      },
      "execution_count": 576,
      "outputs": [
        {
          "output_type": "stream",
          "name": "stdout",
          "text": [
            "Credit_Score\n",
            "2    0.53174\n",
            "1    0.28998\n",
            "0    0.17828\n",
            "Name: proportion, dtype: float64\n"
          ]
        }
      ]
    },
    {
      "cell_type": "code",
      "source": [],
      "metadata": {
        "id": "YUkZ71Uur-St"
      },
      "execution_count": null,
      "outputs": []
    }
  ]
}